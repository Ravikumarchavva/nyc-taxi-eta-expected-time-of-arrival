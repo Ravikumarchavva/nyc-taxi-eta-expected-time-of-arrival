{
 "cells": [
  {
   "cell_type": "code",
   "execution_count": 1,
   "metadata": {},
   "outputs": [
    {
     "data": {
      "text/html": [
       "<div><style>\n",
       ".dataframe > thead > tr,\n",
       ".dataframe > tbody > tr {\n",
       "  text-align: right;\n",
       "  white-space: pre-wrap;\n",
       "}\n",
       "</style>\n",
       "<small>shape: (263, 8)</small><table border=\"1\" class=\"dataframe\"><thead><tr><th>OBJECTID</th><th>Shape_Leng</th><th>Shape_Area</th><th>zone</th><th>LocationID</th><th>borough</th><th>lat</th><th>long</th></tr><tr><td>i32</td><td>f64</td><td>f64</td><td>str</td><td>i32</td><td>str</td><td>f64</td><td>f64</td></tr></thead><tbody><tr><td>1</td><td>0.116357</td><td>0.000782</td><td>&quot;Newark Airport&quot;</td><td>1</td><td>&quot;EWR&quot;</td><td>40.69183</td><td>-74.174001</td></tr><tr><td>2</td><td>0.43347</td><td>0.004866</td><td>&quot;Jamaica Bay&quot;</td><td>2</td><td>&quot;Queens&quot;</td><td>40.616746</td><td>-73.8313</td></tr><tr><td>3</td><td>0.084341</td><td>0.000314</td><td>&quot;Allerton/Pelham Gardens&quot;</td><td>3</td><td>&quot;Bronx&quot;</td><td>40.864473</td><td>-73.847422</td></tr><tr><td>4</td><td>0.043567</td><td>0.000112</td><td>&quot;Alphabet City&quot;</td><td>4</td><td>&quot;Manhattan&quot;</td><td>40.723752</td><td>-73.976968</td></tr><tr><td>5</td><td>0.092146</td><td>0.000498</td><td>&quot;Arden Heights&quot;</td><td>5</td><td>&quot;Staten Island&quot;</td><td>40.552659</td><td>-74.188485</td></tr><tr><td>&hellip;</td><td>&hellip;</td><td>&hellip;</td><td>&hellip;</td><td>&hellip;</td><td>&hellip;</td><td>&hellip;</td><td>&hellip;</td></tr><tr><td>259</td><td>0.12675</td><td>0.000395</td><td>&quot;Woodlawn/Wakefield&quot;</td><td>259</td><td>&quot;Bronx&quot;</td><td>40.897932</td><td>-73.852215</td></tr><tr><td>260</td><td>0.133514</td><td>0.000422</td><td>&quot;Woodside&quot;</td><td>260</td><td>&quot;Queens&quot;</td><td>40.744233</td><td>-73.906307</td></tr><tr><td>261</td><td>0.02712</td><td>0.000034</td><td>&quot;World Trade Center&quot;</td><td>261</td><td>&quot;Manhattan&quot;</td><td>40.709138</td><td>-74.013023</td></tr><tr><td>262</td><td>0.049064</td><td>0.000122</td><td>&quot;Yorkville East&quot;</td><td>262</td><td>&quot;Manhattan&quot;</td><td>40.775932</td><td>-73.94651</td></tr><tr><td>263</td><td>0.037017</td><td>0.000066</td><td>&quot;Yorkville West&quot;</td><td>263</td><td>&quot;Manhattan&quot;</td><td>40.778765</td><td>-73.95101</td></tr></tbody></table></div>"
      ],
      "text/plain": [
       "shape: (263, 8)\n",
       "┌──────────┬────────────┬────────────┬────────────┬────────────┬───────────┬───────────┬───────────┐\n",
       "│ OBJECTID ┆ Shape_Leng ┆ Shape_Area ┆ zone       ┆ LocationID ┆ borough   ┆ lat       ┆ long      │\n",
       "│ ---      ┆ ---        ┆ ---        ┆ ---        ┆ ---        ┆ ---       ┆ ---       ┆ ---       │\n",
       "│ i32      ┆ f64        ┆ f64        ┆ str        ┆ i32        ┆ str       ┆ f64       ┆ f64       │\n",
       "╞══════════╪════════════╪════════════╪════════════╪════════════╪═══════════╪═══════════╪═══════════╡\n",
       "│ 1        ┆ 0.116357   ┆ 0.000782   ┆ Newark     ┆ 1          ┆ EWR       ┆ 40.69183  ┆ -74.17400 │\n",
       "│          ┆            ┆            ┆ Airport    ┆            ┆           ┆           ┆ 1         │\n",
       "│ 2        ┆ 0.43347    ┆ 0.004866   ┆ Jamaica    ┆ 2          ┆ Queens    ┆ 40.616746 ┆ -73.8313  │\n",
       "│          ┆            ┆            ┆ Bay        ┆            ┆           ┆           ┆           │\n",
       "│ 3        ┆ 0.084341   ┆ 0.000314   ┆ Allerton/P ┆ 3          ┆ Bronx     ┆ 40.864473 ┆ -73.84742 │\n",
       "│          ┆            ┆            ┆ elham      ┆            ┆           ┆           ┆ 2         │\n",
       "│          ┆            ┆            ┆ Gardens    ┆            ┆           ┆           ┆           │\n",
       "│ 4        ┆ 0.043567   ┆ 0.000112   ┆ Alphabet   ┆ 4          ┆ Manhattan ┆ 40.723752 ┆ -73.97696 │\n",
       "│          ┆            ┆            ┆ City       ┆            ┆           ┆           ┆ 8         │\n",
       "│ 5        ┆ 0.092146   ┆ 0.000498   ┆ Arden      ┆ 5          ┆ Staten    ┆ 40.552659 ┆ -74.18848 │\n",
       "│          ┆            ┆            ┆ Heights    ┆            ┆ Island    ┆           ┆ 5         │\n",
       "│ …        ┆ …          ┆ …          ┆ …          ┆ …          ┆ …         ┆ …         ┆ …         │\n",
       "│ 259      ┆ 0.12675    ┆ 0.000395   ┆ Woodlawn/W ┆ 259        ┆ Bronx     ┆ 40.897932 ┆ -73.85221 │\n",
       "│          ┆            ┆            ┆ akefield   ┆            ┆           ┆           ┆ 5         │\n",
       "│ 260      ┆ 0.133514   ┆ 0.000422   ┆ Woodside   ┆ 260        ┆ Queens    ┆ 40.744233 ┆ -73.90630 │\n",
       "│          ┆            ┆            ┆            ┆            ┆           ┆           ┆ 7         │\n",
       "│ 261      ┆ 0.02712    ┆ 0.000034   ┆ World      ┆ 261        ┆ Manhattan ┆ 40.709138 ┆ -74.01302 │\n",
       "│          ┆            ┆            ┆ Trade      ┆            ┆           ┆           ┆ 3         │\n",
       "│          ┆            ┆            ┆ Center     ┆            ┆           ┆           ┆           │\n",
       "│ 262      ┆ 0.049064   ┆ 0.000122   ┆ Yorkville  ┆ 262        ┆ Manhattan ┆ 40.775932 ┆ -73.94651 │\n",
       "│          ┆            ┆            ┆ East       ┆            ┆           ┆           ┆           │\n",
       "│ 263      ┆ 0.037017   ┆ 0.000066   ┆ Yorkville  ┆ 263        ┆ Manhattan ┆ 40.778765 ┆ -73.95101 │\n",
       "│          ┆            ┆            ┆ West       ┆            ┆           ┆           ┆           │\n",
       "└──────────┴────────────┴────────────┴────────────┴────────────┴───────────┴───────────┴───────────┘"
      ]
     },
     "execution_count": 1,
     "metadata": {},
     "output_type": "execute_result"
    }
   ],
   "source": [
    "import polars as pl\n",
    "import sys\n",
    "sys.path.append('../..')\n",
    "\n",
    "from configs.data_configs import PROCESSED_DATA_DIR\n",
    "\n",
    "taxi_zones = pl.read_parquet(PROCESSED_DATA_DIR / \"taxi_zones/taxi_zones_with_centroids.parquet\")\n",
    "taxi_zones"
   ]
  },
  {
   "cell_type": "markdown",
   "metadata": {},
   "source": [
    "# plot ride and get ride length"
   ]
  },
  {
   "cell_type": "code",
   "execution_count": 2,
   "metadata": {},
   "outputs": [
    {
     "name": "stdout",
     "output_type": "stream",
     "text": [
      "🌍 Graph loaded successfully.\n",
      "🗺️ Map saved as 'ride_route.html'\n"
     ]
    },
    {
     "data": {
      "text/plain": [
       "21779.147320845335"
      ]
     },
     "execution_count": 2,
     "metadata": {},
     "output_type": "execute_result"
    }
   ],
   "source": [
    "import osmnx as ox\n",
    "import networkx as nx\n",
    "import time\n",
    "import folium\n",
    "from geopy.distance import geodesic\n",
    "\n",
    "\n",
    "def plot_route_lat_lon(start_lat, start_lon, end_lat, end_lon, G, plot=True):\n",
    "    \"\"\"\n",
    "    Plots a route for a single ride based on latitude and longitude coordinates.\n",
    "\n",
    "    Args:\n",
    "    - start_lat, start_lon: Latitude and longitude of the ride start point.\n",
    "    - end_lat, end_lon: Latitude and longitude of the ride end point.\n",
    "    - G: The road network graph (should already be loaded using osmnx).\n",
    "    - plot (bool): Whether to plot the route on a map (default: True).\n",
    "    \"\"\"\n",
    "    try:\n",
    "        # Find nearest nodes using latitude and longitude\n",
    "        start_node = ox.distance.nearest_nodes(G, X=start_lon, Y=start_lat)\n",
    "        end_node = ox.distance.nearest_nodes(G, X=end_lon, Y=end_lat)\n",
    "        \n",
    "        # Check if a path exists\n",
    "        if nx.has_path(G, start_node, end_node):\n",
    "            start_time = time.time()\n",
    "            path = nx.astar_path(G, start_node, end_node, weight='length')\n",
    "            end_time = time.time()\n",
    "            \n",
    "            # Get node data for plotting\n",
    "            nodes = {node: (data['y'], data['x']) for node, data in G.nodes(data=True)}  \n",
    "            path_coords = [nodes[node] for node in path]\n",
    "            \n",
    "            # Calculate path length\n",
    "            path_length = sum(\n",
    "                geodesic((nodes[path[i-1]][0], nodes[path[i-1]][1]), (nodes[path[i]][0], nodes[path[i]][1])).meters\n",
    "                for i in range(1, len(path))\n",
    "            )\n",
    "\n",
    "            if plot:\n",
    "                # Create a Folium map centered at the start location\n",
    "                route_map = folium.Map(location=(start_lat, start_lon), zoom_start=13)\n",
    "\n",
    "                # Plot the path with popup\n",
    "                folium.PolyLine(\n",
    "                    locations=path_coords,\n",
    "                    color='blue',\n",
    "                    weight=5,\n",
    "                    opacity=0.8,\n",
    "                    popup=f'A* Shortest Path\\nLength: {path_length:.2f} meters'\n",
    "                ).add_to(route_map)\n",
    "                \n",
    "                # Add Start Marker with Icon\n",
    "                folium.Marker(\n",
    "                    location=(start_lat, start_lon),\n",
    "                    popup=f\"Start Point\\nLat: {start_lat:.4f}, Lon: {start_lon:.4f}\",\n",
    "                    icon=folium.Icon(color='green', icon='play')\n",
    "                ).add_to(route_map)\n",
    "                \n",
    "                # Add End Marker with Icon\n",
    "                folium.Marker(\n",
    "                    location=(end_lat, end_lon),\n",
    "                    popup=f\"End Point\\nLat: {end_lat:.4f}, Lon: {end_lon:.4f}\",\n",
    "                    icon=folium.Icon(color='red', icon='stop')\n",
    "                ).add_to(route_map)\n",
    "                \n",
    "                # Add Midpoint Marker with Path Length\n",
    "                mid_index = len(path_coords) // 2\n",
    "                midpoint = path_coords[mid_index]\n",
    "                folium.Marker(\n",
    "                    location=midpoint,\n",
    "                    popup=f\"Path Length: {path_length:.2f} meters\",\n",
    "                    icon=folium.Icon(color='blue', icon='info-sign')\n",
    "                ).add_to(route_map)\n",
    "                \n",
    "                # Save the map\n",
    "                route_map.save('ride_route.html')\n",
    "                print(\"🗺️ Map saved as 'ride_route.html'\")\n",
    "\n",
    "            return path_length\n",
    "        else:\n",
    "            print(f\"❌ No path exists between the given points.\")\n",
    "    \n",
    "    except Exception as e:\n",
    "        print(f\"🚨 Error - {e}\")\n",
    "\n",
    "\n",
    "# Load the road network graph once\n",
    "place = \"New York City, New York, USA\"\n",
    "G = ox.graph_from_place(place, network_type='drive')\n",
    "print(\"🌍 Graph loaded successfully.\")\n",
    "\n",
    "start_lat, start_long = taxi_zones.filter(taxi_zones['LocationID']==3)[['lat', 'long']].to_pandas().values[0]\n",
    "end_lat, end_long = taxi_zones.filter(taxi_zones['LocationID']==4)[['lat', 'long']].to_pandas().values[0]\n",
    "\n",
    "# Plot a single route\n",
    "plot_route_lat_lon(start_lat, start_long, end_lat, end_long, G, plot=True)"
   ]
  },
  {
   "cell_type": "code",
   "execution_count": 72,
   "metadata": {},
   "outputs": [
    {
     "name": "stdout",
     "output_type": "stream",
     "text": [
      "Memory usage before: 1700.79 MB\n",
      "Memory usage after: 1155.66 MB\n"
     ]
    },
    {
     "data": {
      "text/html": [
       "<div><style>\n",
       ".dataframe > thead > tr,\n",
       ".dataframe > tbody > tr {\n",
       "  text-align: right;\n",
       "  white-space: pre-wrap;\n",
       "}\n",
       "</style>\n",
       "<small>shape: (5, 24)</small><table border=\"1\" class=\"dataframe\"><thead><tr><th>hvfhs_license_num</th><th>dispatching_base_num</th><th>originating_base_num</th><th>request_datetime</th><th>on_scene_datetime</th><th>pickup_datetime</th><th>dropoff_datetime</th><th>PULocationID</th><th>DOLocationID</th><th>trip_miles</th><th>trip_time</th><th>base_passenger_fare</th><th>tolls</th><th>bcf</th><th>sales_tax</th><th>congestion_surcharge</th><th>airport_fee</th><th>tips</th><th>driver_pay</th><th>shared_request_flag</th><th>shared_match_flag</th><th>access_a_ride_flag</th><th>wav_request_flag</th><th>wav_match_flag</th></tr><tr><td>str</td><td>str</td><td>str</td><td>datetime[ns]</td><td>datetime[ns]</td><td>datetime[ns]</td><td>datetime[ns]</td><td>i32</td><td>i32</td><td>f32</td><td>i32</td><td>f32</td><td>f32</td><td>f32</td><td>f32</td><td>f32</td><td>f32</td><td>f32</td><td>f32</td><td>str</td><td>str</td><td>str</td><td>str</td><td>str</td></tr></thead><tbody><tr><td>&quot;HV0003&quot;</td><td>&quot;B02682&quot;</td><td>&quot;B02682&quot;</td><td>2021-01-01 00:28:09</td><td>2021-01-01 00:31:42</td><td>2021-01-01 00:33:44</td><td>2021-01-01 00:49:07</td><td>230</td><td>166</td><td>5.26</td><td>923</td><td>22.280001</td><td>0.0</td><td>0.67</td><td>1.98</td><td>2.75</td><td>null</td><td>0.0</td><td>14.99</td><td>&quot;N&quot;</td><td>&quot;N&quot;</td><td>&quot; &quot;</td><td>&quot;N&quot;</td><td>&quot;N&quot;</td></tr><tr><td>&quot;HV0003&quot;</td><td>&quot;B02682&quot;</td><td>&quot;B02682&quot;</td><td>2021-01-01 00:45:56</td><td>2021-01-01 00:55:19</td><td>2021-01-01 00:55:19</td><td>2021-01-01 01:18:21</td><td>152</td><td>167</td><td>3.65</td><td>1382</td><td>18.360001</td><td>0.0</td><td>0.55</td><td>1.63</td><td>0.0</td><td>null</td><td>0.0</td><td>17.059999</td><td>&quot;N&quot;</td><td>&quot;N&quot;</td><td>&quot; &quot;</td><td>&quot;N&quot;</td><td>&quot;N&quot;</td></tr><tr><td>&quot;HV0003&quot;</td><td>&quot;B02764&quot;</td><td>&quot;B02764&quot;</td><td>2021-01-01 00:21:15</td><td>2021-01-01 00:22:41</td><td>2021-01-01 00:23:56</td><td>2021-01-01 00:38:05</td><td>233</td><td>142</td><td>3.51</td><td>849</td><td>14.05</td><td>0.0</td><td>0.48</td><td>1.25</td><td>2.75</td><td>null</td><td>0.94</td><td>12.98</td><td>&quot;N&quot;</td><td>&quot;N&quot;</td><td>&quot; &quot;</td><td>&quot;N&quot;</td><td>&quot;N&quot;</td></tr><tr><td>&quot;HV0003&quot;</td><td>&quot;B02764&quot;</td><td>&quot;B02764&quot;</td><td>2021-01-01 00:39:12</td><td>2021-01-01 00:42:37</td><td>2021-01-01 00:42:51</td><td>2021-01-01 00:45:50</td><td>142</td><td>143</td><td>0.74</td><td>179</td><td>7.91</td><td>0.0</td><td>0.24</td><td>0.7</td><td>2.75</td><td>null</td><td>0.0</td><td>7.41</td><td>&quot;N&quot;</td><td>&quot;N&quot;</td><td>&quot; &quot;</td><td>&quot;N&quot;</td><td>&quot;N&quot;</td></tr><tr><td>&quot;HV0003&quot;</td><td>&quot;B02764&quot;</td><td>&quot;B02764&quot;</td><td>2021-01-01 00:46:11</td><td>2021-01-01 00:47:17</td><td>2021-01-01 00:48:14</td><td>2021-01-01 01:08:42</td><td>143</td><td>78</td><td>9.2</td><td>1228</td><td>27.110001</td><td>0.0</td><td>0.81</td><td>2.41</td><td>2.75</td><td>null</td><td>0.0</td><td>22.440001</td><td>&quot;N&quot;</td><td>&quot;N&quot;</td><td>&quot; &quot;</td><td>&quot;N&quot;</td><td>&quot;N&quot;</td></tr></tbody></table></div>"
      ],
      "text/plain": [
       "shape: (5, 24)\n",
       "┌───────────┬───────────┬───────────┬───────────┬───┬───────────┬───────────┬───────────┬──────────┐\n",
       "│ hvfhs_lic ┆ dispatchi ┆ originati ┆ request_d ┆ … ┆ shared_ma ┆ access_a_ ┆ wav_reque ┆ wav_matc │\n",
       "│ ense_num  ┆ ng_base_n ┆ ng_base_n ┆ atetime   ┆   ┆ tch_flag  ┆ ride_flag ┆ st_flag   ┆ h_flag   │\n",
       "│ ---       ┆ um        ┆ um        ┆ ---       ┆   ┆ ---       ┆ ---       ┆ ---       ┆ ---      │\n",
       "│ str       ┆ ---       ┆ ---       ┆ datetime[ ┆   ┆ str       ┆ str       ┆ str       ┆ str      │\n",
       "│           ┆ str       ┆ str       ┆ ns]       ┆   ┆           ┆           ┆           ┆          │\n",
       "╞═══════════╪═══════════╪═══════════╪═══════════╪═══╪═══════════╪═══════════╪═══════════╪══════════╡\n",
       "│ HV0003    ┆ B02682    ┆ B02682    ┆ 2021-01-0 ┆ … ┆ N         ┆           ┆ N         ┆ N        │\n",
       "│           ┆           ┆           ┆ 1         ┆   ┆           ┆           ┆           ┆          │\n",
       "│           ┆           ┆           ┆ 00:28:09  ┆   ┆           ┆           ┆           ┆          │\n",
       "│ HV0003    ┆ B02682    ┆ B02682    ┆ 2021-01-0 ┆ … ┆ N         ┆           ┆ N         ┆ N        │\n",
       "│           ┆           ┆           ┆ 1         ┆   ┆           ┆           ┆           ┆          │\n",
       "│           ┆           ┆           ┆ 00:45:56  ┆   ┆           ┆           ┆           ┆          │\n",
       "│ HV0003    ┆ B02764    ┆ B02764    ┆ 2021-01-0 ┆ … ┆ N         ┆           ┆ N         ┆ N        │\n",
       "│           ┆           ┆           ┆ 1         ┆   ┆           ┆           ┆           ┆          │\n",
       "│           ┆           ┆           ┆ 00:21:15  ┆   ┆           ┆           ┆           ┆          │\n",
       "│ HV0003    ┆ B02764    ┆ B02764    ┆ 2021-01-0 ┆ … ┆ N         ┆           ┆ N         ┆ N        │\n",
       "│           ┆           ┆           ┆ 1         ┆   ┆           ┆           ┆           ┆          │\n",
       "│           ┆           ┆           ┆ 00:39:12  ┆   ┆           ┆           ┆           ┆          │\n",
       "│ HV0003    ┆ B02764    ┆ B02764    ┆ 2021-01-0 ┆ … ┆ N         ┆           ┆ N         ┆ N        │\n",
       "│           ┆           ┆           ┆ 1         ┆   ┆           ┆           ┆           ┆          │\n",
       "│           ┆           ┆           ┆ 00:46:11  ┆   ┆           ┆           ┆           ┆          │\n",
       "└───────────┴───────────┴───────────┴───────────┴───┴───────────┴───────────┴───────────┴──────────┘"
      ]
     },
     "execution_count": 72,
     "metadata": {},
     "output_type": "execute_result"
    }
   ],
   "source": [
    "# Load trip data\n",
    "from configs.data_configs import RAW_DATA_DIR\n",
    "import polars as pl\n",
    "from utils.data_utils import Preprocess\n",
    "\n",
    "# Example Usage Without Creating an Object\n",
    "trips_df = pl.read_parquet(f\"{RAW_DATA_DIR}/fhvhv_tripdata_2021-01.parquet\").pipe(Preprocess.reduce_memory_usage)\n",
    "\n",
    "trips_df.head()"
   ]
  },
  {
   "cell_type": "code",
   "execution_count": 74,
   "metadata": {},
   "outputs": [
    {
     "data": {
      "text/html": [
       "<div><style>\n",
       ".dataframe > thead > tr,\n",
       ".dataframe > tbody > tr {\n",
       "  text-align: right;\n",
       "  white-space: pre-wrap;\n",
       "}\n",
       "</style>\n",
       "<small>shape: (905_003, 24)</small><table border=\"1\" class=\"dataframe\"><thead><tr><th>hvfhs_license_num</th><th>dispatching_base_num</th><th>originating_base_num</th><th>request_datetime</th><th>on_scene_datetime</th><th>pickup_datetime</th><th>dropoff_datetime</th><th>PULocationID</th><th>DOLocationID</th><th>trip_miles</th><th>trip_time</th><th>base_passenger_fare</th><th>tolls</th><th>bcf</th><th>sales_tax</th><th>congestion_surcharge</th><th>airport_fee</th><th>tips</th><th>driver_pay</th><th>shared_request_flag</th><th>shared_match_flag</th><th>access_a_ride_flag</th><th>wav_request_flag</th><th>wav_match_flag</th></tr><tr><td>str</td><td>str</td><td>str</td><td>datetime[ns]</td><td>datetime[ns]</td><td>datetime[ns]</td><td>datetime[ns]</td><td>i32</td><td>i32</td><td>f32</td><td>i32</td><td>f32</td><td>f32</td><td>f32</td><td>f32</td><td>f32</td><td>f32</td><td>f32</td><td>f32</td><td>str</td><td>str</td><td>str</td><td>str</td><td>str</td></tr></thead><tbody><tr><td>&quot;HV0003&quot;</td><td>&quot;B02836&quot;</td><td>&quot;B02836&quot;</td><td>2021-01-01 00:40:44</td><td>2021-01-01 00:53:34</td><td>2021-01-01 00:53:48</td><td>2021-01-01 01:11:40</td><td>22</td><td>22</td><td>3.52</td><td>1072</td><td>28.67</td><td>0.0</td><td>0.86</td><td>2.54</td><td>0.0</td><td>null</td><td>0.0</td><td>17.639999</td><td>&quot;N&quot;</td><td>&quot;N&quot;</td><td>&quot; &quot;</td><td>&quot;N&quot;</td><td>&quot;N&quot;</td></tr><tr><td>&quot;HV0003&quot;</td><td>&quot;B02682&quot;</td><td>&quot;B02682&quot;</td><td>2021-01-01 00:43:01</td><td>2021-01-01 00:45:40</td><td>2021-01-01 00:46:07</td><td>2021-01-01 00:53:32</td><td>89</td><td>89</td><td>1.04</td><td>445</td><td>8.7</td><td>0.0</td><td>0.26</td><td>0.77</td><td>0.0</td><td>null</td><td>0.0</td><td>8.98</td><td>&quot;N&quot;</td><td>&quot;N&quot;</td><td>&quot; &quot;</td><td>&quot;N&quot;</td><td>&quot;N&quot;</td></tr><tr><td>&quot;HV0003&quot;</td><td>&quot;B02682&quot;</td><td>&quot;B02682&quot;</td><td>2021-01-01 00:47:51</td><td>2021-01-01 00:58:40</td><td>2021-01-01 00:58:40</td><td>2021-01-01 01:04:40</td><td>165</td><td>165</td><td>1.66</td><td>360</td><td>9.44</td><td>0.0</td><td>0.28</td><td>0.84</td><td>0.0</td><td>null</td><td>0.0</td><td>10.38</td><td>&quot;N&quot;</td><td>&quot;N&quot;</td><td>&quot; &quot;</td><td>&quot;N&quot;</td><td>&quot;N&quot;</td></tr><tr><td>&quot;HV0003&quot;</td><td>&quot;B02889&quot;</td><td>&quot;B02889&quot;</td><td>2021-01-01 00:32:34</td><td>2021-01-01 00:33:09</td><td>2021-01-01 00:33:57</td><td>2021-01-01 00:37:31</td><td>80</td><td>80</td><td>0.7</td><td>214</td><td>7.91</td><td>0.0</td><td>0.24</td><td>0.7</td><td>0.0</td><td>null</td><td>0.0</td><td>6.81</td><td>&quot;N&quot;</td><td>&quot;N&quot;</td><td>&quot; &quot;</td><td>&quot;N&quot;</td><td>&quot;N&quot;</td></tr><tr><td>&quot;HV0003&quot;</td><td>&quot;B02764&quot;</td><td>&quot;B02764&quot;</td><td>2021-01-01 00:37:39</td><td>2021-01-01 00:41:52</td><td>2021-01-01 00:42:10</td><td>2021-01-01 00:46:56</td><td>7</td><td>7</td><td>1.38</td><td>286</td><td>7.91</td><td>0.0</td><td>0.24</td><td>0.7</td><td>0.0</td><td>null</td><td>0.0</td><td>8.84</td><td>&quot;N&quot;</td><td>&quot;N&quot;</td><td>&quot; &quot;</td><td>&quot;N&quot;</td><td>&quot;N&quot;</td></tr><tr><td>&hellip;</td><td>&hellip;</td><td>&hellip;</td><td>&hellip;</td><td>&hellip;</td><td>&hellip;</td><td>&hellip;</td><td>&hellip;</td><td>&hellip;</td><td>&hellip;</td><td>&hellip;</td><td>&hellip;</td><td>&hellip;</td><td>&hellip;</td><td>&hellip;</td><td>&hellip;</td><td>&hellip;</td><td>&hellip;</td><td>&hellip;</td><td>&hellip;</td><td>&hellip;</td><td>&hellip;</td><td>&hellip;</td><td>&hellip;</td></tr><tr><td>&quot;HV0003&quot;</td><td>&quot;B02764&quot;</td><td>&quot;B02764&quot;</td><td>2021-01-31 23:12:39</td><td>2021-01-31 23:20:40</td><td>2021-01-31 23:21:43</td><td>2021-01-31 23:23:59</td><td>217</td><td>217</td><td>0.34</td><td>136</td><td>11.38</td><td>0.0</td><td>0.34</td><td>1.01</td><td>0.0</td><td>null</td><td>1.0</td><td>6.65</td><td>&quot;N&quot;</td><td>&quot;N&quot;</td><td>&quot; &quot;</td><td>&quot;N&quot;</td><td>&quot;N&quot;</td></tr><tr><td>&quot;HV0003&quot;</td><td>&quot;B02764&quot;</td><td>&quot;B02764&quot;</td><td>2021-01-31 23:21:44</td><td>2021-01-31 23:27:24</td><td>2021-01-31 23:27:47</td><td>2021-01-31 23:34:52</td><td>256</td><td>256</td><td>0.84</td><td>425</td><td>12.65</td><td>0.0</td><td>0.38</td><td>1.12</td><td>0.0</td><td>null</td><td>0.0</td><td>7.65</td><td>&quot;N&quot;</td><td>&quot;N&quot;</td><td>&quot; &quot;</td><td>&quot;N&quot;</td><td>&quot;N&quot;</td></tr><tr><td>&quot;HV0003&quot;</td><td>&quot;B02512&quot;</td><td>&quot;B02512&quot;</td><td>2021-01-31 23:38:40</td><td>2021-01-31 23:47:37</td><td>2021-01-31 23:47:38</td><td>2021-01-31 23:51:07</td><td>202</td><td>202</td><td>0.62</td><td>209</td><td>11.08</td><td>0.0</td><td>0.33</td><td>0.98</td><td>0.0</td><td>null</td><td>0.0</td><td>6.89</td><td>&quot;N&quot;</td><td>&quot;N&quot;</td><td>&quot; &quot;</td><td>&quot;N&quot;</td><td>&quot;N&quot;</td></tr><tr><td>&quot;HV0003&quot;</td><td>&quot;B02875&quot;</td><td>&quot;B02875&quot;</td><td>2021-01-31 23:23:58</td><td>2021-01-31 23:30:03</td><td>2021-01-31 23:32:05</td><td>2021-01-31 23:38:22</td><td>208</td><td>208</td><td>0.95</td><td>377</td><td>9.18</td><td>0.0</td><td>0.28</td><td>0.81</td><td>0.0</td><td>null</td><td>0.0</td><td>7.02</td><td>&quot;N&quot;</td><td>&quot;N&quot;</td><td>&quot; &quot;</td><td>&quot;N&quot;</td><td>&quot;N&quot;</td></tr><tr><td>&quot;HV0003&quot;</td><td>&quot;B02836&quot;</td><td>&quot;B02836&quot;</td><td>2021-01-31 23:32:18</td><td>2021-01-31 23:46:42</td><td>2021-01-31 23:47:23</td><td>2021-01-31 23:51:18</td><td>254</td><td>254</td><td>0.73</td><td>235</td><td>16.049999</td><td>0.0</td><td>0.48</td><td>1.42</td><td>0.0</td><td>null</td><td>0.0</td><td>6.8</td><td>&quot;N&quot;</td><td>&quot;N&quot;</td><td>&quot; &quot;</td><td>&quot;N&quot;</td><td>&quot;N&quot;</td></tr></tbody></table></div>"
      ],
      "text/plain": [
       "shape: (905_003, 24)\n",
       "┌───────────┬───────────┬───────────┬───────────┬───┬───────────┬───────────┬───────────┬──────────┐\n",
       "│ hvfhs_lic ┆ dispatchi ┆ originati ┆ request_d ┆ … ┆ shared_ma ┆ access_a_ ┆ wav_reque ┆ wav_matc │\n",
       "│ ense_num  ┆ ng_base_n ┆ ng_base_n ┆ atetime   ┆   ┆ tch_flag  ┆ ride_flag ┆ st_flag   ┆ h_flag   │\n",
       "│ ---       ┆ um        ┆ um        ┆ ---       ┆   ┆ ---       ┆ ---       ┆ ---       ┆ ---      │\n",
       "│ str       ┆ ---       ┆ ---       ┆ datetime[ ┆   ┆ str       ┆ str       ┆ str       ┆ str      │\n",
       "│           ┆ str       ┆ str       ┆ ns]       ┆   ┆           ┆           ┆           ┆          │\n",
       "╞═══════════╪═══════════╪═══════════╪═══════════╪═══╪═══════════╪═══════════╪═══════════╪══════════╡\n",
       "│ HV0003    ┆ B02836    ┆ B02836    ┆ 2021-01-0 ┆ … ┆ N         ┆           ┆ N         ┆ N        │\n",
       "│           ┆           ┆           ┆ 1         ┆   ┆           ┆           ┆           ┆          │\n",
       "│           ┆           ┆           ┆ 00:40:44  ┆   ┆           ┆           ┆           ┆          │\n",
       "│ HV0003    ┆ B02682    ┆ B02682    ┆ 2021-01-0 ┆ … ┆ N         ┆           ┆ N         ┆ N        │\n",
       "│           ┆           ┆           ┆ 1         ┆   ┆           ┆           ┆           ┆          │\n",
       "│           ┆           ┆           ┆ 00:43:01  ┆   ┆           ┆           ┆           ┆          │\n",
       "│ HV0003    ┆ B02682    ┆ B02682    ┆ 2021-01-0 ┆ … ┆ N         ┆           ┆ N         ┆ N        │\n",
       "│           ┆           ┆           ┆ 1         ┆   ┆           ┆           ┆           ┆          │\n",
       "│           ┆           ┆           ┆ 00:47:51  ┆   ┆           ┆           ┆           ┆          │\n",
       "│ HV0003    ┆ B02889    ┆ B02889    ┆ 2021-01-0 ┆ … ┆ N         ┆           ┆ N         ┆ N        │\n",
       "│           ┆           ┆           ┆ 1         ┆   ┆           ┆           ┆           ┆          │\n",
       "│           ┆           ┆           ┆ 00:32:34  ┆   ┆           ┆           ┆           ┆          │\n",
       "│ HV0003    ┆ B02764    ┆ B02764    ┆ 2021-01-0 ┆ … ┆ N         ┆           ┆ N         ┆ N        │\n",
       "│           ┆           ┆           ┆ 1         ┆   ┆           ┆           ┆           ┆          │\n",
       "│           ┆           ┆           ┆ 00:37:39  ┆   ┆           ┆           ┆           ┆          │\n",
       "│ …         ┆ …         ┆ …         ┆ …         ┆ … ┆ …         ┆ …         ┆ …         ┆ …        │\n",
       "│ HV0003    ┆ B02764    ┆ B02764    ┆ 2021-01-3 ┆ … ┆ N         ┆           ┆ N         ┆ N        │\n",
       "│           ┆           ┆           ┆ 1         ┆   ┆           ┆           ┆           ┆          │\n",
       "│           ┆           ┆           ┆ 23:12:39  ┆   ┆           ┆           ┆           ┆          │\n",
       "│ HV0003    ┆ B02764    ┆ B02764    ┆ 2021-01-3 ┆ … ┆ N         ┆           ┆ N         ┆ N        │\n",
       "│           ┆           ┆           ┆ 1         ┆   ┆           ┆           ┆           ┆          │\n",
       "│           ┆           ┆           ┆ 23:21:44  ┆   ┆           ┆           ┆           ┆          │\n",
       "│ HV0003    ┆ B02512    ┆ B02512    ┆ 2021-01-3 ┆ … ┆ N         ┆           ┆ N         ┆ N        │\n",
       "│           ┆           ┆           ┆ 1         ┆   ┆           ┆           ┆           ┆          │\n",
       "│           ┆           ┆           ┆ 23:38:40  ┆   ┆           ┆           ┆           ┆          │\n",
       "│ HV0003    ┆ B02875    ┆ B02875    ┆ 2021-01-3 ┆ … ┆ N         ┆           ┆ N         ┆ N        │\n",
       "│           ┆           ┆           ┆ 1         ┆   ┆           ┆           ┆           ┆          │\n",
       "│           ┆           ┆           ┆ 23:23:58  ┆   ┆           ┆           ┆           ┆          │\n",
       "│ HV0003    ┆ B02836    ┆ B02836    ┆ 2021-01-3 ┆ … ┆ N         ┆           ┆ N         ┆ N        │\n",
       "│           ┆           ┆           ┆ 1         ┆   ┆           ┆           ┆           ┆          │\n",
       "│           ┆           ┆           ┆ 23:32:18  ┆   ┆           ┆           ┆           ┆          │\n",
       "└───────────┴───────────┴───────────┴───────────┴───┴───────────┴───────────┴───────────┴──────────┘"
      ]
     },
     "execution_count": 74,
     "metadata": {},
     "output_type": "execute_result"
    }
   ],
   "source": [
    "# trips_df = trips_df.sample(50, seed=42)\n",
    "trips_df.filter(trips_df['PULocationID']==trips_df['DOLocationID'])"
   ]
  },
  {
   "cell_type": "code",
   "execution_count": 60,
   "metadata": {},
   "outputs": [
    {
     "data": {
      "text/plain": [
       "['hvfhs_license_num',\n",
       " 'dispatching_base_num',\n",
       " 'originating_base_num',\n",
       " 'request_datetime',\n",
       " 'on_scene_datetime',\n",
       " 'pickup_datetime',\n",
       " 'dropoff_datetime',\n",
       " 'PULocationID',\n",
       " 'DOLocationID',\n",
       " 'trip_miles',\n",
       " 'trip_time',\n",
       " 'base_passenger_fare',\n",
       " 'tolls',\n",
       " 'bcf',\n",
       " 'sales_tax',\n",
       " 'congestion_surcharge',\n",
       " 'airport_fee',\n",
       " 'tips',\n",
       " 'driver_pay',\n",
       " 'shared_request_flag',\n",
       " 'shared_match_flag',\n",
       " 'access_a_ride_flag',\n",
       " 'wav_request_flag',\n",
       " 'wav_match_flag']"
      ]
     },
     "execution_count": 60,
     "metadata": {},
     "output_type": "execute_result"
    }
   ],
   "source": [
    "trips_df.columns"
   ]
  },
  {
   "cell_type": "code",
   "execution_count": 61,
   "metadata": {},
   "outputs": [
    {
     "name": "stdout",
     "output_type": "stream",
     "text": [
      "['hvfhs_license_num', 'dispatching_base_num', 'originating_base_num', 'request_datetime', 'on_scene_datetime', 'pickup_datetime', 'dropoff_datetime', 'PULocationID', 'DOLocationID', 'trip_miles', 'trip_time', 'base_passenger_fare', 'tolls', 'bcf', 'sales_tax', 'congestion_surcharge', 'airport_fee', 'tips', 'driver_pay', 'shared_request_flag', 'shared_match_flag', 'access_a_ride_flag', 'wav_request_flag', 'wav_match_flag']\n"
     ]
    }
   ],
   "source": [
    "unique_columns = [col for col in trips_df.columns if trips_df[col].is_unique]\n",
    "print(unique_columns)"
   ]
  },
  {
   "cell_type": "code",
   "execution_count": 62,
   "metadata": {},
   "outputs": [
    {
     "data": {
      "text/html": [
       "<div><style>\n",
       ".dataframe > thead > tr,\n",
       ".dataframe > tbody > tr {\n",
       "  text-align: right;\n",
       "  white-space: pre-wrap;\n",
       "}\n",
       "</style>\n",
       "<small>shape: (50, 24)</small><table border=\"1\" class=\"dataframe\"><thead><tr><th>hvfhs_license_num</th><th>dispatching_base_num</th><th>originating_base_num</th><th>request_datetime</th><th>on_scene_datetime</th><th>pickup_datetime</th><th>dropoff_datetime</th><th>PULocationID</th><th>DOLocationID</th><th>trip_miles</th><th>trip_time</th><th>base_passenger_fare</th><th>tolls</th><th>bcf</th><th>sales_tax</th><th>congestion_surcharge</th><th>airport_fee</th><th>tips</th><th>driver_pay</th><th>shared_request_flag</th><th>shared_match_flag</th><th>access_a_ride_flag</th><th>wav_request_flag</th><th>wav_match_flag</th></tr><tr><td>str</td><td>str</td><td>str</td><td>datetime[ns]</td><td>datetime[ns]</td><td>datetime[ns]</td><td>datetime[ns]</td><td>i32</td><td>i32</td><td>f32</td><td>i32</td><td>f32</td><td>f32</td><td>f32</td><td>f32</td><td>f32</td><td>f32</td><td>f32</td><td>f32</td><td>str</td><td>str</td><td>str</td><td>str</td><td>str</td></tr></thead><tbody><tr><td>&quot;HV0005&quot;</td><td>&quot;B02510&quot;</td><td>null</td><td>2021-01-10 15:10:08</td><td>null</td><td>2021-01-10 15:12:12</td><td>2021-01-10 15:27:46</td><td>33</td><td>189</td><td>2.341</td><td>934</td><td>15.18</td><td>0.0</td><td>0.46</td><td>1.35</td><td>0.0</td><td>null</td><td>0.0</td><td>10.42</td><td>&quot;N&quot;</td><td>&quot;N&quot;</td><td>&quot;N&quot;</td><td>&quot;N&quot;</td><td>&quot;N&quot;</td></tr><tr><td>&quot;HV0003&quot;</td><td>&quot;B02878&quot;</td><td>&quot;B02878&quot;</td><td>2021-01-30 13:20:55</td><td>2021-01-30 13:26:20</td><td>2021-01-30 13:26:29</td><td>2021-01-30 13:51:45</td><td>193</td><td>41</td><td>6.13</td><td>1516</td><td>21.549999</td><td>0.0</td><td>0.65</td><td>1.91</td><td>2.75</td><td>null</td><td>0.0</td><td>19.450001</td><td>&quot;N&quot;</td><td>&quot;N&quot;</td><td>&quot; &quot;</td><td>&quot;N&quot;</td><td>&quot;N&quot;</td></tr><tr><td>&quot;HV0003&quot;</td><td>&quot;B02764&quot;</td><td>&quot;B02764&quot;</td><td>2021-01-15 05:54:59</td><td>2021-01-15 06:02:08</td><td>2021-01-15 06:04:08</td><td>2021-01-15 06:25:56</td><td>36</td><td>34</td><td>4.31</td><td>1308</td><td>15.9</td><td>0.0</td><td>0.48</td><td>1.41</td><td>0.0</td><td>null</td><td>0.0</td><td>21.959999</td><td>&quot;N&quot;</td><td>&quot;N&quot;</td><td>&quot; &quot;</td><td>&quot;N&quot;</td><td>&quot;N&quot;</td></tr><tr><td>&quot;HV0003&quot;</td><td>&quot;B02872&quot;</td><td>&quot;B02872&quot;</td><td>2021-01-10 18:17:09</td><td>2021-01-10 18:20:51</td><td>2021-01-10 18:21:27</td><td>2021-01-10 18:40:56</td><td>256</td><td>36</td><td>2.92</td><td>1169</td><td>18.09</td><td>0.0</td><td>0.54</td><td>1.61</td><td>0.0</td><td>null</td><td>0.0</td><td>13.0</td><td>&quot;N&quot;</td><td>&quot;N&quot;</td><td>&quot; &quot;</td><td>&quot;N&quot;</td><td>&quot;N&quot;</td></tr><tr><td>&quot;HV0003&quot;</td><td>&quot;B02872&quot;</td><td>&quot;B02872&quot;</td><td>2021-01-16 16:06:35</td><td>2021-01-16 16:13:43</td><td>2021-01-16 16:14:23</td><td>2021-01-16 16:30:38</td><td>127</td><td>241</td><td>1.62</td><td>975</td><td>10.26</td><td>0.0</td><td>0.31</td><td>0.91</td><td>0.0</td><td>null</td><td>0.0</td><td>9.95</td><td>&quot;N&quot;</td><td>&quot;N&quot;</td><td>&quot; &quot;</td><td>&quot;N&quot;</td><td>&quot;N&quot;</td></tr><tr><td>&hellip;</td><td>&hellip;</td><td>&hellip;</td><td>&hellip;</td><td>&hellip;</td><td>&hellip;</td><td>&hellip;</td><td>&hellip;</td><td>&hellip;</td><td>&hellip;</td><td>&hellip;</td><td>&hellip;</td><td>&hellip;</td><td>&hellip;</td><td>&hellip;</td><td>&hellip;</td><td>&hellip;</td><td>&hellip;</td><td>&hellip;</td><td>&hellip;</td><td>&hellip;</td><td>&hellip;</td><td>&hellip;</td><td>&hellip;</td></tr><tr><td>&quot;HV0003&quot;</td><td>&quot;B02765&quot;</td><td>&quot;B02765&quot;</td><td>2021-01-07 12:34:28</td><td>2021-01-07 12:36:31</td><td>2021-01-07 12:37:08</td><td>2021-01-07 12:57:41</td><td>151</td><td>68</td><td>5.55</td><td>1233</td><td>18.41</td><td>0.0</td><td>0.55</td><td>1.63</td><td>2.75</td><td>null</td><td>0.0</td><td>16.440001</td><td>&quot;N&quot;</td><td>&quot;N&quot;</td><td>&quot; &quot;</td><td>&quot;N&quot;</td><td>&quot;N&quot;</td></tr><tr><td>&quot;HV0003&quot;</td><td>&quot;B02882&quot;</td><td>&quot;B02882&quot;</td><td>2021-01-21 09:34:30</td><td>2021-01-21 09:37:27</td><td>2021-01-21 09:39:29</td><td>2021-01-21 09:45:49</td><td>118</td><td>214</td><td>1.11</td><td>380</td><td>7.64</td><td>0.0</td><td>0.23</td><td>0.68</td><td>0.0</td><td>null</td><td>0.0</td><td>6.37</td><td>&quot;N&quot;</td><td>&quot;N&quot;</td><td>&quot; &quot;</td><td>&quot;N&quot;</td><td>&quot;N&quot;</td></tr><tr><td>&quot;HV0003&quot;</td><td>&quot;B02872&quot;</td><td>&quot;B02872&quot;</td><td>2021-01-01 07:44:21</td><td>2021-01-01 07:49:19</td><td>2021-01-01 07:49:48</td><td>2021-01-01 08:00:39</td><td>258</td><td>216</td><td>2.35</td><td>651</td><td>14.23</td><td>0.0</td><td>0.43</td><td>1.26</td><td>0.0</td><td>null</td><td>0.0</td><td>12.45</td><td>&quot;N&quot;</td><td>&quot;N&quot;</td><td>&quot; &quot;</td><td>&quot;N&quot;</td><td>&quot;Y&quot;</td></tr><tr><td>&quot;HV0003&quot;</td><td>&quot;B02869&quot;</td><td>&quot;B02869&quot;</td><td>2021-01-24 15:39:09</td><td>2021-01-24 15:41:11</td><td>2021-01-24 15:43:12</td><td>2021-01-24 15:54:52</td><td>211</td><td>246</td><td>2.57</td><td>700</td><td>10.97</td><td>0.0</td><td>0.35</td><td>1.02</td><td>2.75</td><td>null</td><td>0.0</td><td>8.7</td><td>&quot;N&quot;</td><td>&quot;N&quot;</td><td>&quot; &quot;</td><td>&quot;N&quot;</td><td>&quot;N&quot;</td></tr><tr><td>&quot;HV0003&quot;</td><td>&quot;B02887&quot;</td><td>&quot;B02887&quot;</td><td>2021-01-19 21:05:43</td><td>2021-01-19 21:08:41</td><td>2021-01-19 21:08:48</td><td>2021-01-19 21:26:05</td><td>62</td><td>228</td><td>4.47</td><td>1037</td><td>16.07</td><td>0.0</td><td>0.48</td><td>1.43</td><td>0.0</td><td>null</td><td>0.0</td><td>13.61</td><td>&quot;N&quot;</td><td>&quot;N&quot;</td><td>&quot; &quot;</td><td>&quot;N&quot;</td><td>&quot;N&quot;</td></tr></tbody></table></div>"
      ],
      "text/plain": [
       "shape: (50, 24)\n",
       "┌───────────┬───────────┬───────────┬───────────┬───┬───────────┬───────────┬───────────┬──────────┐\n",
       "│ hvfhs_lic ┆ dispatchi ┆ originati ┆ request_d ┆ … ┆ shared_ma ┆ access_a_ ┆ wav_reque ┆ wav_matc │\n",
       "│ ense_num  ┆ ng_base_n ┆ ng_base_n ┆ atetime   ┆   ┆ tch_flag  ┆ ride_flag ┆ st_flag   ┆ h_flag   │\n",
       "│ ---       ┆ um        ┆ um        ┆ ---       ┆   ┆ ---       ┆ ---       ┆ ---       ┆ ---      │\n",
       "│ str       ┆ ---       ┆ ---       ┆ datetime[ ┆   ┆ str       ┆ str       ┆ str       ┆ str      │\n",
       "│           ┆ str       ┆ str       ┆ ns]       ┆   ┆           ┆           ┆           ┆          │\n",
       "╞═══════════╪═══════════╪═══════════╪═══════════╪═══╪═══════════╪═══════════╪═══════════╪══════════╡\n",
       "│ HV0005    ┆ B02510    ┆ null      ┆ 2021-01-1 ┆ … ┆ N         ┆ N         ┆ N         ┆ N        │\n",
       "│           ┆           ┆           ┆ 0         ┆   ┆           ┆           ┆           ┆          │\n",
       "│           ┆           ┆           ┆ 15:10:08  ┆   ┆           ┆           ┆           ┆          │\n",
       "│ HV0003    ┆ B02878    ┆ B02878    ┆ 2021-01-3 ┆ … ┆ N         ┆           ┆ N         ┆ N        │\n",
       "│           ┆           ┆           ┆ 0         ┆   ┆           ┆           ┆           ┆          │\n",
       "│           ┆           ┆           ┆ 13:20:55  ┆   ┆           ┆           ┆           ┆          │\n",
       "│ HV0003    ┆ B02764    ┆ B02764    ┆ 2021-01-1 ┆ … ┆ N         ┆           ┆ N         ┆ N        │\n",
       "│           ┆           ┆           ┆ 5         ┆   ┆           ┆           ┆           ┆          │\n",
       "│           ┆           ┆           ┆ 05:54:59  ┆   ┆           ┆           ┆           ┆          │\n",
       "│ HV0003    ┆ B02872    ┆ B02872    ┆ 2021-01-1 ┆ … ┆ N         ┆           ┆ N         ┆ N        │\n",
       "│           ┆           ┆           ┆ 0         ┆   ┆           ┆           ┆           ┆          │\n",
       "│           ┆           ┆           ┆ 18:17:09  ┆   ┆           ┆           ┆           ┆          │\n",
       "│ HV0003    ┆ B02872    ┆ B02872    ┆ 2021-01-1 ┆ … ┆ N         ┆           ┆ N         ┆ N        │\n",
       "│           ┆           ┆           ┆ 6         ┆   ┆           ┆           ┆           ┆          │\n",
       "│           ┆           ┆           ┆ 16:06:35  ┆   ┆           ┆           ┆           ┆          │\n",
       "│ …         ┆ …         ┆ …         ┆ …         ┆ … ┆ …         ┆ …         ┆ …         ┆ …        │\n",
       "│ HV0003    ┆ B02765    ┆ B02765    ┆ 2021-01-0 ┆ … ┆ N         ┆           ┆ N         ┆ N        │\n",
       "│           ┆           ┆           ┆ 7         ┆   ┆           ┆           ┆           ┆          │\n",
       "│           ┆           ┆           ┆ 12:34:28  ┆   ┆           ┆           ┆           ┆          │\n",
       "│ HV0003    ┆ B02882    ┆ B02882    ┆ 2021-01-2 ┆ … ┆ N         ┆           ┆ N         ┆ N        │\n",
       "│           ┆           ┆           ┆ 1         ┆   ┆           ┆           ┆           ┆          │\n",
       "│           ┆           ┆           ┆ 09:34:30  ┆   ┆           ┆           ┆           ┆          │\n",
       "│ HV0003    ┆ B02872    ┆ B02872    ┆ 2021-01-0 ┆ … ┆ N         ┆           ┆ N         ┆ Y        │\n",
       "│           ┆           ┆           ┆ 1         ┆   ┆           ┆           ┆           ┆          │\n",
       "│           ┆           ┆           ┆ 07:44:21  ┆   ┆           ┆           ┆           ┆          │\n",
       "│ HV0003    ┆ B02869    ┆ B02869    ┆ 2021-01-2 ┆ … ┆ N         ┆           ┆ N         ┆ N        │\n",
       "│           ┆           ┆           ┆ 4         ┆   ┆           ┆           ┆           ┆          │\n",
       "│           ┆           ┆           ┆ 15:39:09  ┆   ┆           ┆           ┆           ┆          │\n",
       "│ HV0003    ┆ B02887    ┆ B02887    ┆ 2021-01-1 ┆ … ┆ N         ┆           ┆ N         ┆ N        │\n",
       "│           ┆           ┆           ┆ 9         ┆   ┆           ┆           ┆           ┆          │\n",
       "│           ┆           ┆           ┆ 21:05:43  ┆   ┆           ┆           ┆           ┆          │\n",
       "└───────────┴───────────┴───────────┴───────────┴───┴───────────┴───────────┴───────────┴──────────┘"
      ]
     },
     "execution_count": 62,
     "metadata": {},
     "output_type": "execute_result"
    }
   ],
   "source": [
    "trips_df"
   ]
  },
  {
   "cell_type": "code",
   "execution_count": 63,
   "metadata": {},
   "outputs": [
    {
     "data": {
      "text/html": [
       "<div><style>\n",
       ".dataframe > thead > tr,\n",
       ".dataframe > tbody > tr {\n",
       "  text-align: right;\n",
       "  white-space: pre-wrap;\n",
       "}\n",
       "</style>\n",
       "<small>shape: (5, 26)</small><table border=\"1\" class=\"dataframe\"><thead><tr><th>hvfhs_license_num</th><th>dispatching_base_num</th><th>originating_base_num</th><th>request_datetime</th><th>on_scene_datetime</th><th>pickup_datetime</th><th>dropoff_datetime</th><th>PULocationID</th><th>DOLocationID</th><th>trip_miles</th><th>trip_time</th><th>base_passenger_fare</th><th>tolls</th><th>bcf</th><th>sales_tax</th><th>congestion_surcharge</th><th>airport_fee</th><th>tips</th><th>driver_pay</th><th>shared_request_flag</th><th>shared_match_flag</th><th>access_a_ride_flag</th><th>wav_request_flag</th><th>wav_match_flag</th><th>PU_lat_long</th><th>DO_lat_long</th></tr><tr><td>str</td><td>str</td><td>str</td><td>datetime[ns]</td><td>datetime[ns]</td><td>datetime[ns]</td><td>datetime[ns]</td><td>i32</td><td>i32</td><td>f32</td><td>i32</td><td>f32</td><td>f32</td><td>f32</td><td>f32</td><td>f32</td><td>f32</td><td>f32</td><td>f32</td><td>str</td><td>str</td><td>str</td><td>str</td><td>str</td><td>list[f64]</td><td>list[f64]</td></tr></thead><tbody><tr><td>&quot;HV0005&quot;</td><td>&quot;B02510&quot;</td><td>null</td><td>2021-01-10 15:10:08</td><td>null</td><td>2021-01-10 15:12:12</td><td>2021-01-10 15:27:46</td><td>33</td><td>189</td><td>2.341</td><td>934</td><td>15.18</td><td>0.0</td><td>0.46</td><td>1.35</td><td>0.0</td><td>null</td><td>0.0</td><td>10.42</td><td>&quot;N&quot;</td><td>&quot;N&quot;</td><td>&quot;N&quot;</td><td>&quot;N&quot;</td><td>&quot;N&quot;</td><td>[40.695798, -73.99525]</td><td>[40.677635, -73.967587]</td></tr><tr><td>&quot;HV0003&quot;</td><td>&quot;B02878&quot;</td><td>&quot;B02878&quot;</td><td>2021-01-30 13:20:55</td><td>2021-01-30 13:26:20</td><td>2021-01-30 13:26:29</td><td>2021-01-30 13:51:45</td><td>193</td><td>41</td><td>6.13</td><td>1516</td><td>21.549999</td><td>0.0</td><td>0.65</td><td>1.91</td><td>2.75</td><td>null</td><td>0.0</td><td>19.450001</td><td>&quot;N&quot;</td><td>&quot;N&quot;</td><td>&quot; &quot;</td><td>&quot;N&quot;</td><td>&quot;N&quot;</td><td>[40.760313, -73.941997]</td><td>[40.804333, -73.951292]</td></tr><tr><td>&quot;HV0003&quot;</td><td>&quot;B02764&quot;</td><td>&quot;B02764&quot;</td><td>2021-01-15 05:54:59</td><td>2021-01-15 06:02:08</td><td>2021-01-15 06:04:08</td><td>2021-01-15 06:25:56</td><td>36</td><td>34</td><td>4.31</td><td>1308</td><td>15.9</td><td>0.0</td><td>0.48</td><td>1.41</td><td>0.0</td><td>null</td><td>0.0</td><td>21.959999</td><td>&quot;N&quot;</td><td>&quot;N&quot;</td><td>&quot; &quot;</td><td>&quot;N&quot;</td><td>&quot;N&quot;</td><td>[40.700521, -73.91771]</td><td>[40.700855, -73.971188]</td></tr><tr><td>&quot;HV0003&quot;</td><td>&quot;B02872&quot;</td><td>&quot;B02872&quot;</td><td>2021-01-10 18:17:09</td><td>2021-01-10 18:20:51</td><td>2021-01-10 18:21:27</td><td>2021-01-10 18:40:56</td><td>256</td><td>36</td><td>2.92</td><td>1169</td><td>18.09</td><td>0.0</td><td>0.54</td><td>1.61</td><td>0.0</td><td>null</td><td>0.0</td><td>13.0</td><td>&quot;N&quot;</td><td>&quot;N&quot;</td><td>&quot; &quot;</td><td>&quot;N&quot;</td><td>&quot;N&quot;</td><td>[40.710879, -73.959904]</td><td>[40.700521, -73.91771]</td></tr><tr><td>&quot;HV0003&quot;</td><td>&quot;B02872&quot;</td><td>&quot;B02872&quot;</td><td>2021-01-16 16:06:35</td><td>2021-01-16 16:13:43</td><td>2021-01-16 16:14:23</td><td>2021-01-16 16:30:38</td><td>127</td><td>241</td><td>1.62</td><td>975</td><td>10.26</td><td>0.0</td><td>0.31</td><td>0.91</td><td>0.0</td><td>null</td><td>0.0</td><td>9.95</td><td>&quot;N&quot;</td><td>&quot;N&quot;</td><td>&quot; &quot;</td><td>&quot;N&quot;</td><td>&quot;N&quot;</td><td>[40.866074, -73.919308]</td><td>[40.876512, -73.89562]</td></tr></tbody></table></div>"
      ],
      "text/plain": [
       "shape: (5, 26)\n",
       "┌───────────┬───────────┬───────────┬───────────┬───┬───────────┬───────────┬───────────┬──────────┐\n",
       "│ hvfhs_lic ┆ dispatchi ┆ originati ┆ request_d ┆ … ┆ wav_reque ┆ wav_match ┆ PU_lat_lo ┆ DO_lat_l │\n",
       "│ ense_num  ┆ ng_base_n ┆ ng_base_n ┆ atetime   ┆   ┆ st_flag   ┆ _flag     ┆ ng        ┆ ong      │\n",
       "│ ---       ┆ um        ┆ um        ┆ ---       ┆   ┆ ---       ┆ ---       ┆ ---       ┆ ---      │\n",
       "│ str       ┆ ---       ┆ ---       ┆ datetime[ ┆   ┆ str       ┆ str       ┆ list[f64] ┆ list[f64 │\n",
       "│           ┆ str       ┆ str       ┆ ns]       ┆   ┆           ┆           ┆           ┆ ]        │\n",
       "╞═══════════╪═══════════╪═══════════╪═══════════╪═══╪═══════════╪═══════════╪═══════════╪══════════╡\n",
       "│ HV0005    ┆ B02510    ┆ null      ┆ 2021-01-1 ┆ … ┆ N         ┆ N         ┆ [40.69579 ┆ [40.6776 │\n",
       "│           ┆           ┆           ┆ 0         ┆   ┆           ┆           ┆ 8, -73.99 ┆ 35, -73. │\n",
       "│           ┆           ┆           ┆ 15:10:08  ┆   ┆           ┆           ┆ 525]      ┆ 967587]  │\n",
       "│ HV0003    ┆ B02878    ┆ B02878    ┆ 2021-01-3 ┆ … ┆ N         ┆ N         ┆ [40.76031 ┆ [40.8043 │\n",
       "│           ┆           ┆           ┆ 0         ┆   ┆           ┆           ┆ 3, -73.94 ┆ 33, -73. │\n",
       "│           ┆           ┆           ┆ 13:20:55  ┆   ┆           ┆           ┆ 1997]     ┆ 951292]  │\n",
       "│ HV0003    ┆ B02764    ┆ B02764    ┆ 2021-01-1 ┆ … ┆ N         ┆ N         ┆ [40.70052 ┆ [40.7008 │\n",
       "│           ┆           ┆           ┆ 5         ┆   ┆           ┆           ┆ 1, -73.91 ┆ 55, -73. │\n",
       "│           ┆           ┆           ┆ 05:54:59  ┆   ┆           ┆           ┆ 771]      ┆ 971188]  │\n",
       "│ HV0003    ┆ B02872    ┆ B02872    ┆ 2021-01-1 ┆ … ┆ N         ┆ N         ┆ [40.71087 ┆ [40.7005 │\n",
       "│           ┆           ┆           ┆ 0         ┆   ┆           ┆           ┆ 9, -73.95 ┆ 21, -73. │\n",
       "│           ┆           ┆           ┆ 18:17:09  ┆   ┆           ┆           ┆ 9904]     ┆ 91771]   │\n",
       "│ HV0003    ┆ B02872    ┆ B02872    ┆ 2021-01-1 ┆ … ┆ N         ┆ N         ┆ [40.86607 ┆ [40.8765 │\n",
       "│           ┆           ┆           ┆ 6         ┆   ┆           ┆           ┆ 4, -73.91 ┆ 12, -73. │\n",
       "│           ┆           ┆           ┆ 16:06:35  ┆   ┆           ┆           ┆ 9308]     ┆ 89562]   │\n",
       "└───────────┴───────────┴───────────┴───────────┴───┴───────────┴───────────┴───────────┴──────────┘"
      ]
     },
     "execution_count": 63,
     "metadata": {},
     "output_type": "execute_result"
    }
   ],
   "source": [
    "def get_lat_long(location_id):\n",
    "    filtered = taxi_zones.filter(taxi_zones[\"LocationID\"] == location_id)\n",
    "    if filtered.shape[0] == 0:\n",
    "        return (None, None)\n",
    "    lat = filtered[\"lat\"].to_pandas().values[0]\n",
    "    long = filtered[\"long\"].to_pandas().values[0]\n",
    "    return (lat, long)\n",
    "\n",
    "trips_df = trips_df.with_columns(\n",
    "    trips_df[\"PULocationID\"].map_elements(get_lat_long, return_dtype=pl.Categorical).alias(\"PU_lat_long\"),\n",
    "    trips_df[\"DOLocationID\"].map_elements(get_lat_long, return_dtype=pl.Categorical).alias(\"DO_lat_long\")\n",
    ")\n",
    "trips_df.head()"
   ]
  },
  {
   "cell_type": "code",
   "execution_count": 67,
   "metadata": {},
   "outputs": [
    {
     "data": {
      "application/vnd.jupyter.widget-view+json": {
       "model_id": "28e4f096c73d414da632e03090da7b98",
       "version_major": 2,
       "version_minor": 0
      },
      "text/plain": [
       "  0%|          | 0/50 [00:00<?, ?it/s]"
      ]
     },
     "metadata": {},
     "output_type": "display_data"
    },
    {
     "name": "stdout",
     "output_type": "stream",
     "text": [
      "🚨 Error - ufunc 'isnan' not supported for the input types, and the inputs could not be safely coerced to any supported types according to the casting rule ''safe''\n",
      "🚨 Error - ufunc 'isnan' not supported for the input types, and the inputs could not be safely coerced to any supported types according to the casting rule ''safe''\n"
     ]
    }
   ],
   "source": [
    "from tqdm.auto import tqdm\n",
    "\n",
    "# Initialize the progress bar\n",
    "pbar = tqdm(total=len(trips_df))\n",
    "\n",
    "def calculate_route_length(row):\n",
    "    pbar.update(1)\n",
    "    start_lat, start_long = row[0]\n",
    "    end_lat, end_long = row[1]\n",
    "    return plot_route_lat_lon(start_lat, start_long, end_lat, end_long, G, plot=False)\n",
    "\n",
    "# Apply the function to the dataframe\n",
    "trips_df = trips_df.with_columns(\n",
    "    trips_df[['PU_lat_long', 'DO_lat_long']].map_rows(calculate_route_length)#.alias(\"route_length\")\n",
    ")#.rename({\"map_rows\": \"route_length\"})\n",
    "\n",
    "# Close the progress bar\n",
    "pbar.close()"
   ]
  },
  {
   "cell_type": "code",
   "execution_count": 71,
   "metadata": {},
   "outputs": [
    {
     "data": {
      "text/html": [
       "<div><style>\n",
       ".dataframe > thead > tr,\n",
       ".dataframe > tbody > tr {\n",
       "  text-align: right;\n",
       "  white-space: pre-wrap;\n",
       "}\n",
       "</style>\n",
       "<small>shape: (2, 27)</small><table border=\"1\" class=\"dataframe\"><thead><tr><th>hvfhs_license_num</th><th>dispatching_base_num</th><th>originating_base_num</th><th>request_datetime</th><th>on_scene_datetime</th><th>pickup_datetime</th><th>dropoff_datetime</th><th>PULocationID</th><th>DOLocationID</th><th>trip_miles</th><th>trip_time</th><th>base_passenger_fare</th><th>tolls</th><th>bcf</th><th>sales_tax</th><th>congestion_surcharge</th><th>airport_fee</th><th>tips</th><th>driver_pay</th><th>shared_request_flag</th><th>shared_match_flag</th><th>access_a_ride_flag</th><th>wav_request_flag</th><th>wav_match_flag</th><th>PU_lat_long</th><th>DO_lat_long</th><th>map</th></tr><tr><td>str</td><td>str</td><td>str</td><td>datetime[ns]</td><td>datetime[ns]</td><td>datetime[ns]</td><td>datetime[ns]</td><td>i32</td><td>i32</td><td>f32</td><td>i32</td><td>f32</td><td>f32</td><td>f32</td><td>f32</td><td>f32</td><td>f32</td><td>f32</td><td>f32</td><td>str</td><td>str</td><td>str</td><td>str</td><td>str</td><td>list[f64]</td><td>list[f64]</td><td>f64</td></tr></thead><tbody><tr><td>&quot;HV0005&quot;</td><td>&quot;B02510&quot;</td><td>null</td><td>2021-01-18 22:03:39</td><td>null</td><td>2021-01-18 22:06:09</td><td>2021-01-18 22:25:45</td><td>239</td><td>265</td><td>5.958</td><td>1176</td><td>24.18</td><td>20.0</td><td>1.33</td><td>0.0</td><td>0.0</td><td>null</td><td>0.0</td><td>17.700001</td><td>&quot;N&quot;</td><td>&quot;N&quot;</td><td>&quot;N&quot;</td><td>&quot;N&quot;</td><td>&quot;N&quot;</td><td>[40.783961, -73.978632]</td><td>[null, null]</td><td>null</td></tr><tr><td>&quot;HV0005&quot;</td><td>&quot;B02510&quot;</td><td>null</td><td>2021-01-15 16:34:42</td><td>null</td><td>2021-01-15 16:39:53</td><td>2021-01-15 17:27:37</td><td>61</td><td>265</td><td>18.311001</td><td>2864</td><td>67.540001</td><td>0.62</td><td>1.87</td><td>5.52</td><td>0.0</td><td>null</td><td>0.0</td><td>46.080002</td><td>&quot;N&quot;</td><td>&quot;N&quot;</td><td>&quot;N&quot;</td><td>&quot;N&quot;</td><td>&quot;N&quot;</td><td>[40.674469, -73.939287]</td><td>[null, null]</td><td>null</td></tr></tbody></table></div>"
      ],
      "text/plain": [
       "shape: (2, 27)\n",
       "┌────────────┬────────────┬────────────┬────────────┬───┬───────────┬───────────┬───────────┬──────┐\n",
       "│ hvfhs_lice ┆ dispatchin ┆ originatin ┆ request_da ┆ … ┆ wav_match ┆ PU_lat_lo ┆ DO_lat_lo ┆ map  │\n",
       "│ nse_num    ┆ g_base_num ┆ g_base_num ┆ tetime     ┆   ┆ _flag     ┆ ng        ┆ ng        ┆ ---  │\n",
       "│ ---        ┆ ---        ┆ ---        ┆ ---        ┆   ┆ ---       ┆ ---       ┆ ---       ┆ f64  │\n",
       "│ str        ┆ str        ┆ str        ┆ datetime[n ┆   ┆ str       ┆ list[f64] ┆ list[f64] ┆      │\n",
       "│            ┆            ┆            ┆ s]         ┆   ┆           ┆           ┆           ┆      │\n",
       "╞════════════╪════════════╪════════════╪════════════╪═══╪═══════════╪═══════════╪═══════════╪══════╡\n",
       "│ HV0005     ┆ B02510     ┆ null       ┆ 2021-01-18 ┆ … ┆ N         ┆ [40.78396 ┆ [null,    ┆ null │\n",
       "│            ┆            ┆            ┆ 22:03:39   ┆   ┆           ┆ 1, -73.97 ┆ null]     ┆      │\n",
       "│            ┆            ┆            ┆            ┆   ┆           ┆ 8632]     ┆           ┆      │\n",
       "│ HV0005     ┆ B02510     ┆ null       ┆ 2021-01-15 ┆ … ┆ N         ┆ [40.67446 ┆ [null,    ┆ null │\n",
       "│            ┆            ┆            ┆ 16:34:42   ┆   ┆           ┆ 9, -73.93 ┆ null]     ┆      │\n",
       "│            ┆            ┆            ┆            ┆   ┆           ┆ 9287]     ┆           ┆      │\n",
       "└────────────┴────────────┴────────────┴────────────┴───┴───────────┴───────────┴───────────┴──────┘"
      ]
     },
     "execution_count": 71,
     "metadata": {},
     "output_type": "execute_result"
    }
   ],
   "source": [
    "trips_df.filter(trips_df['map'].is_null())"
   ]
  },
  {
   "cell_type": "markdown",
   "metadata": {},
   "source": [
    "## display html.\n",
    "<iframe src=\"nyc_multiple_rides_with_length.html\" width=\"700\" height=\"600\"></iframe>"
   ]
  },
  {
   "cell_type": "code",
   "execution_count": 3,
   "metadata": {},
   "outputs": [
    {
     "data": {
      "text/html": [
       "\n",
       "        <iframe\n",
       "            width=\"700\"\n",
       "            height=\"600\"\n",
       "            src=\"nyc_multiple_rides_with_length.html\"\n",
       "            frameborder=\"0\"\n",
       "            allowfullscreen\n",
       "            \n",
       "        ></iframe>\n",
       "        "
      ],
      "text/plain": [
       "<IPython.lib.display.IFrame at 0x247ebb59290>"
      ]
     },
     "execution_count": 3,
     "metadata": {},
     "output_type": "execute_result"
    }
   ],
   "source": [
    "# display html\n",
    "from IPython.display import IFrame\n",
    "IFrame(src='nyc_multiple_rides_with_length.html', width=700, height=600)\n",
    "# not displaying the map"
   ]
  },
  {
   "cell_type": "code",
   "execution_count": null,
   "metadata": {},
   "outputs": [],
   "source": []
  }
 ],
 "metadata": {
  "kernelspec": {
   "display_name": "eda",
   "language": "python",
   "name": "python3"
  },
  "language_info": {
   "codemirror_mode": {
    "name": "ipython",
    "version": 3
   },
   "file_extension": ".py",
   "mimetype": "text/x-python",
   "name": "python",
   "nbconvert_exporter": "python",
   "pygments_lexer": "ipython3",
   "version": "3.11.11"
  }
 },
 "nbformat": 4,
 "nbformat_minor": 2
}
