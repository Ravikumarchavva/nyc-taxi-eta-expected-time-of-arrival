{
 "cells": [
  {
   "cell_type": "code",
   "execution_count": 1,
   "id": "167e9295",
   "metadata": {},
   "outputs": [
    {
     "data": {
      "application/vnd.jupyter.widget-view+json": {
       "model_id": "000874f5b9354859bf5e58c5b276a821",
       "version_major": 2,
       "version_minor": 0
      },
      "text/plain": [
       "Years:   0%|          | 0/16 [00:00<?, ?year/s]"
      ]
     },
     "metadata": {},
     "output_type": "display_data"
    },
    {
     "data": {
      "application/vnd.jupyter.widget-view+json": {
       "model_id": "53e5578e8c3e499987749b770e06773f",
       "version_major": 2,
       "version_minor": 0
      },
      "text/plain": [
       "Months:   0%|          | 0/12 [00:00<?, ?month/s]"
      ]
     },
     "metadata": {},
     "output_type": "display_data"
    },
    {
     "data": {
      "application/vnd.jupyter.widget-view+json": {
       "model_id": "bdf43606fab445e08d90ad95c3b5ecc1",
       "version_major": 2,
       "version_minor": 0
      },
      "text/plain": [
       "Downloading yellow_tripdata_2009-01.parquet: 0KB [00:00, ?KB/s]"
      ]
     },
     "metadata": {},
     "output_type": "display_data"
    },
    {
     "data": {
      "application/vnd.jupyter.widget-view+json": {
       "model_id": "97f1b75b0a0c46a08db6d7eef5611b43",
       "version_major": 2,
       "version_minor": 0
      },
      "text/plain": [
       "Downloading yellow_tripdata_2009-02.parquet: 0KB [00:00, ?KB/s]"
      ]
     },
     "metadata": {},
     "output_type": "display_data"
    },
    {
     "data": {
      "application/vnd.jupyter.widget-view+json": {
       "model_id": "a4014d90566f41e2b68ee2d9d8584708",
       "version_major": 2,
       "version_minor": 0
      },
      "text/plain": [
       "Downloading yellow_tripdata_2009-03.parquet: 0KB [00:00, ?KB/s]"
      ]
     },
     "metadata": {},
     "output_type": "display_data"
    },
    {
     "data": {
      "application/vnd.jupyter.widget-view+json": {
       "model_id": "454b24d3fa0c43ad9c19846efbceeed0",
       "version_major": 2,
       "version_minor": 0
      },
      "text/plain": [
       "Downloading yellow_tripdata_2009-04.parquet: 0KB [00:00, ?KB/s]"
      ]
     },
     "metadata": {},
     "output_type": "display_data"
    },
    {
     "data": {
      "application/vnd.jupyter.widget-view+json": {
       "model_id": "5ab621ef1b82405c87adb84b998dc4b5",
       "version_major": 2,
       "version_minor": 0
      },
      "text/plain": [
       "Downloading yellow_tripdata_2009-05.parquet: 0KB [00:00, ?KB/s]"
      ]
     },
     "metadata": {},
     "output_type": "display_data"
    },
    {
     "data": {
      "application/vnd.jupyter.widget-view+json": {
       "model_id": "ff2280da2f6040d9a2e83d17222d7738",
       "version_major": 2,
       "version_minor": 0
      },
      "text/plain": [
       "Downloading yellow_tripdata_2009-06.parquet: 0KB [00:00, ?KB/s]"
      ]
     },
     "metadata": {},
     "output_type": "display_data"
    },
    {
     "data": {
      "application/vnd.jupyter.widget-view+json": {
       "model_id": "75f018e010c84839bbb6b6f7fba72e6a",
       "version_major": 2,
       "version_minor": 0
      },
      "text/plain": [
       "Downloading yellow_tripdata_2009-07.parquet: 0KB [00:00, ?KB/s]"
      ]
     },
     "metadata": {},
     "output_type": "display_data"
    },
    {
     "data": {
      "application/vnd.jupyter.widget-view+json": {
       "model_id": "36a8af4ea08b44b8b0d70b752a770094",
       "version_major": 2,
       "version_minor": 0
      },
      "text/plain": [
       "Downloading yellow_tripdata_2009-08.parquet: 0KB [00:00, ?KB/s]"
      ]
     },
     "metadata": {},
     "output_type": "display_data"
    },
    {
     "data": {
      "application/vnd.jupyter.widget-view+json": {
       "model_id": "88aad12ca57341328a9bc7144f070caf",
       "version_major": 2,
       "version_minor": 0
      },
      "text/plain": [
       "Downloading yellow_tripdata_2009-09.parquet: 0KB [00:00, ?KB/s]"
      ]
     },
     "metadata": {},
     "output_type": "display_data"
    },
    {
     "data": {
      "application/vnd.jupyter.widget-view+json": {
       "model_id": "17094d1a085c41648b19434ca7b77308",
       "version_major": 2,
       "version_minor": 0
      },
      "text/plain": [
       "Downloading yellow_tripdata_2009-10.parquet: 0KB [00:00, ?KB/s]"
      ]
     },
     "metadata": {},
     "output_type": "display_data"
    },
    {
     "data": {
      "application/vnd.jupyter.widget-view+json": {
       "model_id": "a53bb1910d87441cb48d0c2931cb3448",
       "version_major": 2,
       "version_minor": 0
      },
      "text/plain": [
       "Downloading yellow_tripdata_2009-11.parquet: 0KB [00:00, ?KB/s]"
      ]
     },
     "metadata": {},
     "output_type": "display_data"
    },
    {
     "data": {
      "application/vnd.jupyter.widget-view+json": {
       "model_id": "56c91920a8f241f791ff86e42eb656ab",
       "version_major": 2,
       "version_minor": 0
      },
      "text/plain": [
       "Downloading yellow_tripdata_2009-12.parquet: 0KB [00:00, ?KB/s]"
      ]
     },
     "metadata": {},
     "output_type": "display_data"
    },
    {
     "data": {
      "application/vnd.jupyter.widget-view+json": {
       "model_id": "646822769c3543848027994e3a6d0208",
       "version_major": 2,
       "version_minor": 0
      },
      "text/plain": [
       "Months:   0%|          | 0/12 [00:00<?, ?month/s]"
      ]
     },
     "metadata": {},
     "output_type": "display_data"
    },
    {
     "data": {
      "application/vnd.jupyter.widget-view+json": {
       "model_id": "1e1b5f57967943618d9adb7a5d907739",
       "version_major": 2,
       "version_minor": 0
      },
      "text/plain": [
       "Downloading yellow_tripdata_2010-01.parquet: 0KB [00:00, ?KB/s]"
      ]
     },
     "metadata": {},
     "output_type": "display_data"
    },
    {
     "data": {
      "application/vnd.jupyter.widget-view+json": {
       "model_id": "e8050f704f6a4047bb9fd2dfca2bdf5d",
       "version_major": 2,
       "version_minor": 0
      },
      "text/plain": [
       "Downloading yellow_tripdata_2010-02.parquet: 0KB [00:00, ?KB/s]"
      ]
     },
     "metadata": {},
     "output_type": "display_data"
    },
    {
     "data": {
      "application/vnd.jupyter.widget-view+json": {
       "model_id": "2ccf308071be4c2ca7e06772e69f0cd9",
       "version_major": 2,
       "version_minor": 0
      },
      "text/plain": [
       "Downloading yellow_tripdata_2010-03.parquet: 0KB [00:00, ?KB/s]"
      ]
     },
     "metadata": {},
     "output_type": "display_data"
    },
    {
     "data": {
      "application/vnd.jupyter.widget-view+json": {
       "model_id": "0cfbece7c9c342ddaf03ade0a4180b9a",
       "version_major": 2,
       "version_minor": 0
      },
      "text/plain": [
       "Downloading yellow_tripdata_2010-04.parquet: 0KB [00:00, ?KB/s]"
      ]
     },
     "metadata": {},
     "output_type": "display_data"
    },
    {
     "data": {
      "application/vnd.jupyter.widget-view+json": {
       "model_id": "cb4c1d79b7e94009920d268e8e0b7506",
       "version_major": 2,
       "version_minor": 0
      },
      "text/plain": [
       "Downloading yellow_tripdata_2010-05.parquet: 0KB [00:00, ?KB/s]"
      ]
     },
     "metadata": {},
     "output_type": "display_data"
    },
    {
     "data": {
      "application/vnd.jupyter.widget-view+json": {
       "model_id": "10c3071b0d2440f5a3bbce2170852bdd",
       "version_major": 2,
       "version_minor": 0
      },
      "text/plain": [
       "Downloading yellow_tripdata_2010-06.parquet: 0KB [00:00, ?KB/s]"
      ]
     },
     "metadata": {},
     "output_type": "display_data"
    },
    {
     "data": {
      "application/vnd.jupyter.widget-view+json": {
       "model_id": "03141459f2854038b5b79caaa9fb62f2",
       "version_major": 2,
       "version_minor": 0
      },
      "text/plain": [
       "Downloading yellow_tripdata_2010-07.parquet: 0KB [00:00, ?KB/s]"
      ]
     },
     "metadata": {},
     "output_type": "display_data"
    },
    {
     "data": {
      "application/vnd.jupyter.widget-view+json": {
       "model_id": "6d171af9ad4845f089ed3afbbc9318d7",
       "version_major": 2,
       "version_minor": 0
      },
      "text/plain": [
       "Downloading yellow_tripdata_2010-08.parquet: 0KB [00:00, ?KB/s]"
      ]
     },
     "metadata": {},
     "output_type": "display_data"
    },
    {
     "data": {
      "application/vnd.jupyter.widget-view+json": {
       "model_id": "3e26a6a81e244b628f2b563e581e20dd",
       "version_major": 2,
       "version_minor": 0
      },
      "text/plain": [
       "Downloading yellow_tripdata_2010-09.parquet: 0KB [00:00, ?KB/s]"
      ]
     },
     "metadata": {},
     "output_type": "display_data"
    },
    {
     "data": {
      "application/vnd.jupyter.widget-view+json": {
       "model_id": "aac24d6a7c784eddb2696143fbc4d1cb",
       "version_major": 2,
       "version_minor": 0
      },
      "text/plain": [
       "Downloading yellow_tripdata_2010-10.parquet: 0KB [00:00, ?KB/s]"
      ]
     },
     "metadata": {},
     "output_type": "display_data"
    },
    {
     "data": {
      "application/vnd.jupyter.widget-view+json": {
       "model_id": "e14c6f8610054c1abef39d324c009d5d",
       "version_major": 2,
       "version_minor": 0
      },
      "text/plain": [
       "Downloading yellow_tripdata_2010-11.parquet: 0KB [00:00, ?KB/s]"
      ]
     },
     "metadata": {},
     "output_type": "display_data"
    },
    {
     "data": {
      "application/vnd.jupyter.widget-view+json": {
       "model_id": "df780ce4ad8f4dfd8d8cd124d9644129",
       "version_major": 2,
       "version_minor": 0
      },
      "text/plain": [
       "Downloading yellow_tripdata_2010-12.parquet: 0KB [00:00, ?KB/s]"
      ]
     },
     "metadata": {},
     "output_type": "display_data"
    },
    {
     "data": {
      "application/vnd.jupyter.widget-view+json": {
       "model_id": "9fa79d9e590142d6a0707c04f0571c52",
       "version_major": 2,
       "version_minor": 0
      },
      "text/plain": [
       "Months:   0%|          | 0/12 [00:00<?, ?month/s]"
      ]
     },
     "metadata": {},
     "output_type": "display_data"
    },
    {
     "data": {
      "application/vnd.jupyter.widget-view+json": {
       "model_id": "446ffbfaebd44b68a1445ebf266d0430",
       "version_major": 2,
       "version_minor": 0
      },
      "text/plain": [
       "Downloading yellow_tripdata_2011-01.parquet: 0KB [00:00, ?KB/s]"
      ]
     },
     "metadata": {},
     "output_type": "display_data"
    },
    {
     "data": {
      "application/vnd.jupyter.widget-view+json": {
       "model_id": "b3a451e237c3435fb45dd741a08845a4",
       "version_major": 2,
       "version_minor": 0
      },
      "text/plain": [
       "Downloading yellow_tripdata_2011-02.parquet: 0KB [00:00, ?KB/s]"
      ]
     },
     "metadata": {},
     "output_type": "display_data"
    },
    {
     "data": {
      "application/vnd.jupyter.widget-view+json": {
       "model_id": "05a9011d77894a548e583ac6643b6aef",
       "version_major": 2,
       "version_minor": 0
      },
      "text/plain": [
       "Downloading yellow_tripdata_2011-03.parquet: 0KB [00:00, ?KB/s]"
      ]
     },
     "metadata": {},
     "output_type": "display_data"
    },
    {
     "data": {
      "application/vnd.jupyter.widget-view+json": {
       "model_id": "55f0295741b54755a9394558858a1d9a",
       "version_major": 2,
       "version_minor": 0
      },
      "text/plain": [
       "Downloading yellow_tripdata_2011-04.parquet: 0KB [00:00, ?KB/s]"
      ]
     },
     "metadata": {},
     "output_type": "display_data"
    },
    {
     "data": {
      "application/vnd.jupyter.widget-view+json": {
       "model_id": "40bbac3161324818b7ed4a1682693924",
       "version_major": 2,
       "version_minor": 0
      },
      "text/plain": [
       "Downloading yellow_tripdata_2011-05.parquet: 0KB [00:00, ?KB/s]"
      ]
     },
     "metadata": {},
     "output_type": "display_data"
    },
    {
     "data": {
      "application/vnd.jupyter.widget-view+json": {
       "model_id": "8a1a615060914c2d9f2e232855e33dd2",
       "version_major": 2,
       "version_minor": 0
      },
      "text/plain": [
       "Downloading yellow_tripdata_2011-06.parquet: 0KB [00:00, ?KB/s]"
      ]
     },
     "metadata": {},
     "output_type": "display_data"
    },
    {
     "data": {
      "application/vnd.jupyter.widget-view+json": {
       "model_id": "87f5e24c9b9e4ef1a1778e022e9b8bda",
       "version_major": 2,
       "version_minor": 0
      },
      "text/plain": [
       "Downloading yellow_tripdata_2011-07.parquet: 0KB [00:00, ?KB/s]"
      ]
     },
     "metadata": {},
     "output_type": "display_data"
    },
    {
     "data": {
      "application/vnd.jupyter.widget-view+json": {
       "model_id": "d9d40b7ed18a414fbbde10c694023f8a",
       "version_major": 2,
       "version_minor": 0
      },
      "text/plain": [
       "Downloading yellow_tripdata_2011-08.parquet: 0KB [00:00, ?KB/s]"
      ]
     },
     "metadata": {},
     "output_type": "display_data"
    },
    {
     "data": {
      "application/vnd.jupyter.widget-view+json": {
       "model_id": "5b501209314c4cc7ac272677f2bc5a81",
       "version_major": 2,
       "version_minor": 0
      },
      "text/plain": [
       "Downloading yellow_tripdata_2011-09.parquet: 0KB [00:00, ?KB/s]"
      ]
     },
     "metadata": {},
     "output_type": "display_data"
    },
    {
     "data": {
      "application/vnd.jupyter.widget-view+json": {
       "model_id": "b1b194111b8a437b866b7c7f5cbcdc10",
       "version_major": 2,
       "version_minor": 0
      },
      "text/plain": [
       "Downloading yellow_tripdata_2011-10.parquet: 0KB [00:00, ?KB/s]"
      ]
     },
     "metadata": {},
     "output_type": "display_data"
    },
    {
     "data": {
      "application/vnd.jupyter.widget-view+json": {
       "model_id": "d34d2bf29f61476fb139ab3436c0376b",
       "version_major": 2,
       "version_minor": 0
      },
      "text/plain": [
       "Downloading yellow_tripdata_2011-11.parquet: 0KB [00:00, ?KB/s]"
      ]
     },
     "metadata": {},
     "output_type": "display_data"
    },
    {
     "data": {
      "application/vnd.jupyter.widget-view+json": {
       "model_id": "d9e646c37a344d948582d894ac730f6f",
       "version_major": 2,
       "version_minor": 0
      },
      "text/plain": [
       "Downloading yellow_tripdata_2011-12.parquet: 0KB [00:00, ?KB/s]"
      ]
     },
     "metadata": {},
     "output_type": "display_data"
    },
    {
     "data": {
      "application/vnd.jupyter.widget-view+json": {
       "model_id": "e829bcd6d61e4b598a4ff23c71659b26",
       "version_major": 2,
       "version_minor": 0
      },
      "text/plain": [
       "Months:   0%|          | 0/12 [00:00<?, ?month/s]"
      ]
     },
     "metadata": {},
     "output_type": "display_data"
    },
    {
     "data": {
      "application/vnd.jupyter.widget-view+json": {
       "model_id": "7e7e7cb978654f09939255e5a9770e42",
       "version_major": 2,
       "version_minor": 0
      },
      "text/plain": [
       "Downloading yellow_tripdata_2012-01.parquet: 0KB [00:00, ?KB/s]"
      ]
     },
     "metadata": {},
     "output_type": "display_data"
    },
    {
     "data": {
      "application/vnd.jupyter.widget-view+json": {
       "model_id": "ba48dbce2861406dae59a42b119aed05",
       "version_major": 2,
       "version_minor": 0
      },
      "text/plain": [
       "Downloading yellow_tripdata_2012-02.parquet: 0KB [00:00, ?KB/s]"
      ]
     },
     "metadata": {},
     "output_type": "display_data"
    },
    {
     "data": {
      "application/vnd.jupyter.widget-view+json": {
       "model_id": "815d633dd15141c694c81f6242a90c53",
       "version_major": 2,
       "version_minor": 0
      },
      "text/plain": [
       "Downloading yellow_tripdata_2012-03.parquet: 0KB [00:00, ?KB/s]"
      ]
     },
     "metadata": {},
     "output_type": "display_data"
    },
    {
     "data": {
      "application/vnd.jupyter.widget-view+json": {
       "model_id": "6d8c855ccaca4b6c906b7b8ce6153bdd",
       "version_major": 2,
       "version_minor": 0
      },
      "text/plain": [
       "Downloading yellow_tripdata_2012-04.parquet: 0KB [00:00, ?KB/s]"
      ]
     },
     "metadata": {},
     "output_type": "display_data"
    },
    {
     "data": {
      "application/vnd.jupyter.widget-view+json": {
       "model_id": "f22f3fab555a49ab9a40987d5d65b256",
       "version_major": 2,
       "version_minor": 0
      },
      "text/plain": [
       "Downloading yellow_tripdata_2012-05.parquet: 0KB [00:00, ?KB/s]"
      ]
     },
     "metadata": {},
     "output_type": "display_data"
    },
    {
     "data": {
      "application/vnd.jupyter.widget-view+json": {
       "model_id": "1e75f932c7b648b985bcbb464882bf19",
       "version_major": 2,
       "version_minor": 0
      },
      "text/plain": [
       "Downloading yellow_tripdata_2012-06.parquet: 0KB [00:00, ?KB/s]"
      ]
     },
     "metadata": {},
     "output_type": "display_data"
    },
    {
     "data": {
      "application/vnd.jupyter.widget-view+json": {
       "model_id": "451598fa10cd4f0297fa6ecfab270540",
       "version_major": 2,
       "version_minor": 0
      },
      "text/plain": [
       "Downloading yellow_tripdata_2012-07.parquet: 0KB [00:00, ?KB/s]"
      ]
     },
     "metadata": {},
     "output_type": "display_data"
    },
    {
     "data": {
      "application/vnd.jupyter.widget-view+json": {
       "model_id": "1484e6ae4cf140748672affc9ecd06e6",
       "version_major": 2,
       "version_minor": 0
      },
      "text/plain": [
       "Downloading yellow_tripdata_2012-08.parquet: 0KB [00:00, ?KB/s]"
      ]
     },
     "metadata": {},
     "output_type": "display_data"
    },
    {
     "data": {
      "application/vnd.jupyter.widget-view+json": {
       "model_id": "f0c8e695339f4fd7a3a417a487d0cafb",
       "version_major": 2,
       "version_minor": 0
      },
      "text/plain": [
       "Downloading yellow_tripdata_2012-09.parquet: 0KB [00:00, ?KB/s]"
      ]
     },
     "metadata": {},
     "output_type": "display_data"
    },
    {
     "data": {
      "application/vnd.jupyter.widget-view+json": {
       "model_id": "2a88d761cfda4f39a36677cc61c4a9ff",
       "version_major": 2,
       "version_minor": 0
      },
      "text/plain": [
       "Downloading yellow_tripdata_2012-10.parquet: 0KB [00:00, ?KB/s]"
      ]
     },
     "metadata": {},
     "output_type": "display_data"
    },
    {
     "data": {
      "application/vnd.jupyter.widget-view+json": {
       "model_id": "fbf2d1c5cf1b463ea0f731b4ce20dad3",
       "version_major": 2,
       "version_minor": 0
      },
      "text/plain": [
       "Downloading yellow_tripdata_2012-11.parquet: 0KB [00:00, ?KB/s]"
      ]
     },
     "metadata": {},
     "output_type": "display_data"
    },
    {
     "data": {
      "application/vnd.jupyter.widget-view+json": {
       "model_id": "38abf63b51c4416d90e2b491dc1b8ce7",
       "version_major": 2,
       "version_minor": 0
      },
      "text/plain": [
       "Downloading yellow_tripdata_2012-12.parquet: 0KB [00:00, ?KB/s]"
      ]
     },
     "metadata": {},
     "output_type": "display_data"
    },
    {
     "data": {
      "application/vnd.jupyter.widget-view+json": {
       "model_id": "ea566d68a88c420eb4fb28faca88bb79",
       "version_major": 2,
       "version_minor": 0
      },
      "text/plain": [
       "Months:   0%|          | 0/12 [00:00<?, ?month/s]"
      ]
     },
     "metadata": {},
     "output_type": "display_data"
    },
    {
     "data": {
      "application/vnd.jupyter.widget-view+json": {
       "model_id": "934e17d7436a463bbd597a1cdf10b1a2",
       "version_major": 2,
       "version_minor": 0
      },
      "text/plain": [
       "Downloading yellow_tripdata_2013-01.parquet: 0KB [00:00, ?KB/s]"
      ]
     },
     "metadata": {},
     "output_type": "display_data"
    },
    {
     "data": {
      "application/vnd.jupyter.widget-view+json": {
       "model_id": "0a299b99128e473aab8447820c6456d4",
       "version_major": 2,
       "version_minor": 0
      },
      "text/plain": [
       "Downloading yellow_tripdata_2013-02.parquet: 0KB [00:00, ?KB/s]"
      ]
     },
     "metadata": {},
     "output_type": "display_data"
    },
    {
     "data": {
      "application/vnd.jupyter.widget-view+json": {
       "model_id": "de5e10b5b22848c080e40644d9b54af9",
       "version_major": 2,
       "version_minor": 0
      },
      "text/plain": [
       "Downloading yellow_tripdata_2013-03.parquet: 0KB [00:00, ?KB/s]"
      ]
     },
     "metadata": {},
     "output_type": "display_data"
    },
    {
     "data": {
      "application/vnd.jupyter.widget-view+json": {
       "model_id": "fec1114c1de5484da1a15dcfac7dbe6c",
       "version_major": 2,
       "version_minor": 0
      },
      "text/plain": [
       "Downloading yellow_tripdata_2013-04.parquet: 0KB [00:00, ?KB/s]"
      ]
     },
     "metadata": {},
     "output_type": "display_data"
    },
    {
     "data": {
      "application/vnd.jupyter.widget-view+json": {
       "model_id": "4fbfe432086b4d8caac969190d5311a6",
       "version_major": 2,
       "version_minor": 0
      },
      "text/plain": [
       "Downloading yellow_tripdata_2013-05.parquet: 0KB [00:00, ?KB/s]"
      ]
     },
     "metadata": {},
     "output_type": "display_data"
    },
    {
     "data": {
      "application/vnd.jupyter.widget-view+json": {
       "model_id": "aa057c2de8514272bdaa4b7923efbe38",
       "version_major": 2,
       "version_minor": 0
      },
      "text/plain": [
       "Downloading yellow_tripdata_2013-06.parquet: 0KB [00:00, ?KB/s]"
      ]
     },
     "metadata": {},
     "output_type": "display_data"
    },
    {
     "data": {
      "application/vnd.jupyter.widget-view+json": {
       "model_id": "805fc0eeac0b4939a55e01f5c1496db7",
       "version_major": 2,
       "version_minor": 0
      },
      "text/plain": [
       "Downloading yellow_tripdata_2013-07.parquet: 0KB [00:00, ?KB/s]"
      ]
     },
     "metadata": {},
     "output_type": "display_data"
    },
    {
     "data": {
      "application/vnd.jupyter.widget-view+json": {
       "model_id": "2f125b6f1339404ea564b68bed603acc",
       "version_major": 2,
       "version_minor": 0
      },
      "text/plain": [
       "Downloading yellow_tripdata_2013-08.parquet: 0KB [00:00, ?KB/s]"
      ]
     },
     "metadata": {},
     "output_type": "display_data"
    },
    {
     "data": {
      "application/vnd.jupyter.widget-view+json": {
       "model_id": "1c37586f5fbc4bd7a229253e9e8362b4",
       "version_major": 2,
       "version_minor": 0
      },
      "text/plain": [
       "Downloading yellow_tripdata_2013-09.parquet: 0KB [00:00, ?KB/s]"
      ]
     },
     "metadata": {},
     "output_type": "display_data"
    },
    {
     "data": {
      "application/vnd.jupyter.widget-view+json": {
       "model_id": "e6dc6489a57443d094599a244082b3d5",
       "version_major": 2,
       "version_minor": 0
      },
      "text/plain": [
       "Downloading yellow_tripdata_2013-10.parquet: 0KB [00:00, ?KB/s]"
      ]
     },
     "metadata": {},
     "output_type": "display_data"
    },
    {
     "data": {
      "application/vnd.jupyter.widget-view+json": {
       "model_id": "1c5318e6bc104efbaa7955070767db03",
       "version_major": 2,
       "version_minor": 0
      },
      "text/plain": [
       "Downloading yellow_tripdata_2013-11.parquet: 0KB [00:00, ?KB/s]"
      ]
     },
     "metadata": {},
     "output_type": "display_data"
    },
    {
     "data": {
      "application/vnd.jupyter.widget-view+json": {
       "model_id": "f6b4b2015271411eb4f2df577475c9d6",
       "version_major": 2,
       "version_minor": 0
      },
      "text/plain": [
       "Downloading yellow_tripdata_2013-12.parquet: 0KB [00:00, ?KB/s]"
      ]
     },
     "metadata": {},
     "output_type": "display_data"
    },
    {
     "data": {
      "application/vnd.jupyter.widget-view+json": {
       "model_id": "84168f2c9a09419c950e947d932ce56e",
       "version_major": 2,
       "version_minor": 0
      },
      "text/plain": [
       "Months:   0%|          | 0/12 [00:00<?, ?month/s]"
      ]
     },
     "metadata": {},
     "output_type": "display_data"
    },
    {
     "data": {
      "application/vnd.jupyter.widget-view+json": {
       "model_id": "5b7f7a17550b4f80ab212d1e06168de5",
       "version_major": 2,
       "version_minor": 0
      },
      "text/plain": [
       "Downloading yellow_tripdata_2014-01.parquet: 0KB [00:00, ?KB/s]"
      ]
     },
     "metadata": {},
     "output_type": "display_data"
    },
    {
     "data": {
      "application/vnd.jupyter.widget-view+json": {
       "model_id": "c909178ba8e14cf3833ba3f6a30f5f7f",
       "version_major": 2,
       "version_minor": 0
      },
      "text/plain": [
       "Downloading yellow_tripdata_2014-02.parquet: 0KB [00:00, ?KB/s]"
      ]
     },
     "metadata": {},
     "output_type": "display_data"
    },
    {
     "data": {
      "application/vnd.jupyter.widget-view+json": {
       "model_id": "0a4c55e434a049f1a8ec683e4ddff12f",
       "version_major": 2,
       "version_minor": 0
      },
      "text/plain": [
       "Downloading yellow_tripdata_2014-03.parquet: 0KB [00:00, ?KB/s]"
      ]
     },
     "metadata": {},
     "output_type": "display_data"
    },
    {
     "data": {
      "application/vnd.jupyter.widget-view+json": {
       "model_id": "fc23e147770f43ac98a571690369ae40",
       "version_major": 2,
       "version_minor": 0
      },
      "text/plain": [
       "Downloading yellow_tripdata_2014-04.parquet: 0KB [00:00, ?KB/s]"
      ]
     },
     "metadata": {},
     "output_type": "display_data"
    },
    {
     "data": {
      "application/vnd.jupyter.widget-view+json": {
       "model_id": "faa2bf137fa24d7b83d68488662144a1",
       "version_major": 2,
       "version_minor": 0
      },
      "text/plain": [
       "Downloading yellow_tripdata_2014-05.parquet: 0KB [00:00, ?KB/s]"
      ]
     },
     "metadata": {},
     "output_type": "display_data"
    },
    {
     "data": {
      "application/vnd.jupyter.widget-view+json": {
       "model_id": "fe2b3382e38b4906b3d323fed0dfbd2c",
       "version_major": 2,
       "version_minor": 0
      },
      "text/plain": [
       "Downloading yellow_tripdata_2014-06.parquet: 0KB [00:00, ?KB/s]"
      ]
     },
     "metadata": {},
     "output_type": "display_data"
    },
    {
     "data": {
      "application/vnd.jupyter.widget-view+json": {
       "model_id": "2942c039191f4de681446461a1f891f3",
       "version_major": 2,
       "version_minor": 0
      },
      "text/plain": [
       "Downloading yellow_tripdata_2014-07.parquet: 0KB [00:00, ?KB/s]"
      ]
     },
     "metadata": {},
     "output_type": "display_data"
    },
    {
     "data": {
      "application/vnd.jupyter.widget-view+json": {
       "model_id": "7b4f34bf8d9941b5a9bb8fcfa7a14b6b",
       "version_major": 2,
       "version_minor": 0
      },
      "text/plain": [
       "Downloading yellow_tripdata_2014-08.parquet: 0KB [00:00, ?KB/s]"
      ]
     },
     "metadata": {},
     "output_type": "display_data"
    },
    {
     "data": {
      "application/vnd.jupyter.widget-view+json": {
       "model_id": "c6c37dc884f64a1bb7727ccccf5cdc4e",
       "version_major": 2,
       "version_minor": 0
      },
      "text/plain": [
       "Downloading yellow_tripdata_2014-09.parquet: 0KB [00:00, ?KB/s]"
      ]
     },
     "metadata": {},
     "output_type": "display_data"
    },
    {
     "data": {
      "application/vnd.jupyter.widget-view+json": {
       "model_id": "2765cbac102b4eec99792586366f77de",
       "version_major": 2,
       "version_minor": 0
      },
      "text/plain": [
       "Downloading yellow_tripdata_2014-10.parquet: 0KB [00:00, ?KB/s]"
      ]
     },
     "metadata": {},
     "output_type": "display_data"
    },
    {
     "data": {
      "application/vnd.jupyter.widget-view+json": {
       "model_id": "fa16003f7da44b0b8f46cd62d66904cc",
       "version_major": 2,
       "version_minor": 0
      },
      "text/plain": [
       "Downloading yellow_tripdata_2014-11.parquet: 0KB [00:00, ?KB/s]"
      ]
     },
     "metadata": {},
     "output_type": "display_data"
    },
    {
     "data": {
      "application/vnd.jupyter.widget-view+json": {
       "model_id": "e6a2a8f847c5463f91d355452a1f9fe1",
       "version_major": 2,
       "version_minor": 0
      },
      "text/plain": [
       "Downloading yellow_tripdata_2014-12.parquet: 0KB [00:00, ?KB/s]"
      ]
     },
     "metadata": {},
     "output_type": "display_data"
    },
    {
     "data": {
      "application/vnd.jupyter.widget-view+json": {
       "model_id": "730ccc9473a341c49c2c476da1d573e2",
       "version_major": 2,
       "version_minor": 0
      },
      "text/plain": [
       "Months:   0%|          | 0/12 [00:00<?, ?month/s]"
      ]
     },
     "metadata": {},
     "output_type": "display_data"
    },
    {
     "data": {
      "application/vnd.jupyter.widget-view+json": {
       "model_id": "4c3431bf12c4463f95caa05d16adaff1",
       "version_major": 2,
       "version_minor": 0
      },
      "text/plain": [
       "Downloading yellow_tripdata_2015-01.parquet: 0KB [00:00, ?KB/s]"
      ]
     },
     "metadata": {},
     "output_type": "display_data"
    },
    {
     "data": {
      "application/vnd.jupyter.widget-view+json": {
       "model_id": "66521c9955d84ab8a3a2291a0590019d",
       "version_major": 2,
       "version_minor": 0
      },
      "text/plain": [
       "Downloading yellow_tripdata_2015-02.parquet: 0KB [00:00, ?KB/s]"
      ]
     },
     "metadata": {},
     "output_type": "display_data"
    },
    {
     "data": {
      "application/vnd.jupyter.widget-view+json": {
       "model_id": "578ea0e7698547cdb8b531a43ec4941d",
       "version_major": 2,
       "version_minor": 0
      },
      "text/plain": [
       "Downloading yellow_tripdata_2015-03.parquet: 0KB [00:00, ?KB/s]"
      ]
     },
     "metadata": {},
     "output_type": "display_data"
    },
    {
     "data": {
      "application/vnd.jupyter.widget-view+json": {
       "model_id": "9260bbe7096d4e048e92ff543fac96a4",
       "version_major": 2,
       "version_minor": 0
      },
      "text/plain": [
       "Downloading yellow_tripdata_2015-04.parquet: 0KB [00:00, ?KB/s]"
      ]
     },
     "metadata": {},
     "output_type": "display_data"
    },
    {
     "data": {
      "application/vnd.jupyter.widget-view+json": {
       "model_id": "0472c2b67fc5461988e4bb1486085cf8",
       "version_major": 2,
       "version_minor": 0
      },
      "text/plain": [
       "Downloading yellow_tripdata_2015-05.parquet: 0KB [00:00, ?KB/s]"
      ]
     },
     "metadata": {},
     "output_type": "display_data"
    },
    {
     "data": {
      "application/vnd.jupyter.widget-view+json": {
       "model_id": "09fd1f8b649e4312a9abb439d2db7d63",
       "version_major": 2,
       "version_minor": 0
      },
      "text/plain": [
       "Downloading yellow_tripdata_2015-06.parquet: 0KB [00:00, ?KB/s]"
      ]
     },
     "metadata": {},
     "output_type": "display_data"
    },
    {
     "data": {
      "application/vnd.jupyter.widget-view+json": {
       "model_id": "e705fb88fd88414e975b307f98ed1ded",
       "version_major": 2,
       "version_minor": 0
      },
      "text/plain": [
       "Downloading yellow_tripdata_2015-07.parquet: 0KB [00:00, ?KB/s]"
      ]
     },
     "metadata": {},
     "output_type": "display_data"
    },
    {
     "data": {
      "application/vnd.jupyter.widget-view+json": {
       "model_id": "ee54ab9e4a984985baee7768b21c38a0",
       "version_major": 2,
       "version_minor": 0
      },
      "text/plain": [
       "Downloading yellow_tripdata_2015-08.parquet: 0KB [00:00, ?KB/s]"
      ]
     },
     "metadata": {},
     "output_type": "display_data"
    },
    {
     "data": {
      "application/vnd.jupyter.widget-view+json": {
       "model_id": "bb15bdd99fc5489782ed6a6b982185e8",
       "version_major": 2,
       "version_minor": 0
      },
      "text/plain": [
       "Downloading yellow_tripdata_2015-09.parquet: 0KB [00:00, ?KB/s]"
      ]
     },
     "metadata": {},
     "output_type": "display_data"
    },
    {
     "data": {
      "application/vnd.jupyter.widget-view+json": {
       "model_id": "9220c126f7414b4fbf2d69499f1728a8",
       "version_major": 2,
       "version_minor": 0
      },
      "text/plain": [
       "Downloading yellow_tripdata_2015-10.parquet: 0KB [00:00, ?KB/s]"
      ]
     },
     "metadata": {},
     "output_type": "display_data"
    },
    {
     "data": {
      "application/vnd.jupyter.widget-view+json": {
       "model_id": "b7b2065e3a504b638f2ac56d5db9f4b6",
       "version_major": 2,
       "version_minor": 0
      },
      "text/plain": [
       "Downloading yellow_tripdata_2015-11.parquet: 0KB [00:00, ?KB/s]"
      ]
     },
     "metadata": {},
     "output_type": "display_data"
    },
    {
     "data": {
      "application/vnd.jupyter.widget-view+json": {
       "model_id": "fc94acab4fe449c49b4fda66ee219ee6",
       "version_major": 2,
       "version_minor": 0
      },
      "text/plain": [
       "Downloading yellow_tripdata_2015-12.parquet: 0KB [00:00, ?KB/s]"
      ]
     },
     "metadata": {},
     "output_type": "display_data"
    },
    {
     "data": {
      "application/vnd.jupyter.widget-view+json": {
       "model_id": "f47b1601082d43d19d5a56046db92829",
       "version_major": 2,
       "version_minor": 0
      },
      "text/plain": [
       "Months:   0%|          | 0/12 [00:00<?, ?month/s]"
      ]
     },
     "metadata": {},
     "output_type": "display_data"
    },
    {
     "data": {
      "application/vnd.jupyter.widget-view+json": {
       "model_id": "7898fe4dc57c4f8eb32463e75f4c4cf0",
       "version_major": 2,
       "version_minor": 0
      },
      "text/plain": [
       "Downloading yellow_tripdata_2016-01.parquet: 0KB [00:00, ?KB/s]"
      ]
     },
     "metadata": {},
     "output_type": "display_data"
    },
    {
     "data": {
      "application/vnd.jupyter.widget-view+json": {
       "model_id": "26ce6a36b83b45a58370fb500d08ba94",
       "version_major": 2,
       "version_minor": 0
      },
      "text/plain": [
       "Downloading yellow_tripdata_2016-02.parquet: 0KB [00:00, ?KB/s]"
      ]
     },
     "metadata": {},
     "output_type": "display_data"
    },
    {
     "data": {
      "application/vnd.jupyter.widget-view+json": {
       "model_id": "46e8d817cdb44476809cd57a1a2ea448",
       "version_major": 2,
       "version_minor": 0
      },
      "text/plain": [
       "Downloading yellow_tripdata_2016-03.parquet: 0KB [00:00, ?KB/s]"
      ]
     },
     "metadata": {},
     "output_type": "display_data"
    },
    {
     "data": {
      "application/vnd.jupyter.widget-view+json": {
       "model_id": "c4a805a8dc65454ab74bd86e677720c0",
       "version_major": 2,
       "version_minor": 0
      },
      "text/plain": [
       "Downloading yellow_tripdata_2016-04.parquet: 0KB [00:00, ?KB/s]"
      ]
     },
     "metadata": {},
     "output_type": "display_data"
    },
    {
     "data": {
      "application/vnd.jupyter.widget-view+json": {
       "model_id": "4edf535d09bd49e3902b8a4853ff66cf",
       "version_major": 2,
       "version_minor": 0
      },
      "text/plain": [
       "Downloading yellow_tripdata_2016-05.parquet: 0KB [00:00, ?KB/s]"
      ]
     },
     "metadata": {},
     "output_type": "display_data"
    },
    {
     "data": {
      "application/vnd.jupyter.widget-view+json": {
       "model_id": "5d08f6e11d88468e8f7b9e68319acc68",
       "version_major": 2,
       "version_minor": 0
      },
      "text/plain": [
       "Downloading yellow_tripdata_2016-06.parquet: 0KB [00:00, ?KB/s]"
      ]
     },
     "metadata": {},
     "output_type": "display_data"
    },
    {
     "data": {
      "application/vnd.jupyter.widget-view+json": {
       "model_id": "dc5b7e3b3cda447eb6e04df283cdd094",
       "version_major": 2,
       "version_minor": 0
      },
      "text/plain": [
       "Downloading yellow_tripdata_2016-07.parquet: 0KB [00:00, ?KB/s]"
      ]
     },
     "metadata": {},
     "output_type": "display_data"
    },
    {
     "data": {
      "application/vnd.jupyter.widget-view+json": {
       "model_id": "b42a4912037e4baf96c7a7a79088a8fa",
       "version_major": 2,
       "version_minor": 0
      },
      "text/plain": [
       "Downloading yellow_tripdata_2016-08.parquet: 0KB [00:00, ?KB/s]"
      ]
     },
     "metadata": {},
     "output_type": "display_data"
    },
    {
     "data": {
      "application/vnd.jupyter.widget-view+json": {
       "model_id": "d3de201821134d55b3b1f3f53995ed90",
       "version_major": 2,
       "version_minor": 0
      },
      "text/plain": [
       "Downloading yellow_tripdata_2016-09.parquet: 0KB [00:00, ?KB/s]"
      ]
     },
     "metadata": {},
     "output_type": "display_data"
    },
    {
     "data": {
      "application/vnd.jupyter.widget-view+json": {
       "model_id": "7493e9676f434d81a7a116fe87a031ef",
       "version_major": 2,
       "version_minor": 0
      },
      "text/plain": [
       "Downloading yellow_tripdata_2016-10.parquet: 0KB [00:00, ?KB/s]"
      ]
     },
     "metadata": {},
     "output_type": "display_data"
    },
    {
     "data": {
      "application/vnd.jupyter.widget-view+json": {
       "model_id": "fd76eba0d1264c89992cb7ca0297c8fd",
       "version_major": 2,
       "version_minor": 0
      },
      "text/plain": [
       "Downloading yellow_tripdata_2016-11.parquet: 0KB [00:00, ?KB/s]"
      ]
     },
     "metadata": {},
     "output_type": "display_data"
    },
    {
     "data": {
      "application/vnd.jupyter.widget-view+json": {
       "model_id": "ec868358da9a465c83477f28fd69fc04",
       "version_major": 2,
       "version_minor": 0
      },
      "text/plain": [
       "Downloading yellow_tripdata_2016-12.parquet: 0KB [00:00, ?KB/s]"
      ]
     },
     "metadata": {},
     "output_type": "display_data"
    },
    {
     "data": {
      "application/vnd.jupyter.widget-view+json": {
       "model_id": "cbaafefc41a8415bbf8d363944e83783",
       "version_major": 2,
       "version_minor": 0
      },
      "text/plain": [
       "Months:   0%|          | 0/12 [00:00<?, ?month/s]"
      ]
     },
     "metadata": {},
     "output_type": "display_data"
    },
    {
     "data": {
      "application/vnd.jupyter.widget-view+json": {
       "model_id": "867ac94647bf47fc99c9bb0b76dbaea3",
       "version_major": 2,
       "version_minor": 0
      },
      "text/plain": [
       "Downloading yellow_tripdata_2017-01.parquet: 0KB [00:00, ?KB/s]"
      ]
     },
     "metadata": {},
     "output_type": "display_data"
    },
    {
     "data": {
      "application/vnd.jupyter.widget-view+json": {
       "model_id": "b536f10363924e4ab4c86ce03daa6bf2",
       "version_major": 2,
       "version_minor": 0
      },
      "text/plain": [
       "Downloading yellow_tripdata_2017-02.parquet: 0KB [00:00, ?KB/s]"
      ]
     },
     "metadata": {},
     "output_type": "display_data"
    },
    {
     "data": {
      "application/vnd.jupyter.widget-view+json": {
       "model_id": "75e8e5c967f94aba91832e433be03627",
       "version_major": 2,
       "version_minor": 0
      },
      "text/plain": [
       "Downloading yellow_tripdata_2017-03.parquet: 0KB [00:00, ?KB/s]"
      ]
     },
     "metadata": {},
     "output_type": "display_data"
    },
    {
     "data": {
      "application/vnd.jupyter.widget-view+json": {
       "model_id": "9af43d54dc8a4b2a933816784a116740",
       "version_major": 2,
       "version_minor": 0
      },
      "text/plain": [
       "Downloading yellow_tripdata_2017-04.parquet: 0KB [00:00, ?KB/s]"
      ]
     },
     "metadata": {},
     "output_type": "display_data"
    },
    {
     "data": {
      "application/vnd.jupyter.widget-view+json": {
       "model_id": "bf45bb38507343d98a89f2842d213058",
       "version_major": 2,
       "version_minor": 0
      },
      "text/plain": [
       "Downloading yellow_tripdata_2017-05.parquet: 0KB [00:00, ?KB/s]"
      ]
     },
     "metadata": {},
     "output_type": "display_data"
    },
    {
     "data": {
      "application/vnd.jupyter.widget-view+json": {
       "model_id": "f30e968d372e4f4cbf2de9304ca7db7d",
       "version_major": 2,
       "version_minor": 0
      },
      "text/plain": [
       "Downloading yellow_tripdata_2017-06.parquet: 0KB [00:00, ?KB/s]"
      ]
     },
     "metadata": {},
     "output_type": "display_data"
    },
    {
     "data": {
      "application/vnd.jupyter.widget-view+json": {
       "model_id": "c20a4c3de2c14052ae77476c0b1a14b4",
       "version_major": 2,
       "version_minor": 0
      },
      "text/plain": [
       "Downloading yellow_tripdata_2017-07.parquet: 0KB [00:00, ?KB/s]"
      ]
     },
     "metadata": {},
     "output_type": "display_data"
    },
    {
     "data": {
      "application/vnd.jupyter.widget-view+json": {
       "model_id": "0e969fbc9abb47f086d04844c6ee66d7",
       "version_major": 2,
       "version_minor": 0
      },
      "text/plain": [
       "Downloading yellow_tripdata_2017-08.parquet: 0KB [00:00, ?KB/s]"
      ]
     },
     "metadata": {},
     "output_type": "display_data"
    },
    {
     "data": {
      "application/vnd.jupyter.widget-view+json": {
       "model_id": "5dc2c85e76e94c428b3d1d441b4f5ca8",
       "version_major": 2,
       "version_minor": 0
      },
      "text/plain": [
       "Downloading yellow_tripdata_2017-09.parquet: 0KB [00:00, ?KB/s]"
      ]
     },
     "metadata": {},
     "output_type": "display_data"
    },
    {
     "data": {
      "application/vnd.jupyter.widget-view+json": {
       "model_id": "1ac2fa4d0ae247878a5f8a32c557a0e7",
       "version_major": 2,
       "version_minor": 0
      },
      "text/plain": [
       "Downloading yellow_tripdata_2017-10.parquet: 0KB [00:00, ?KB/s]"
      ]
     },
     "metadata": {},
     "output_type": "display_data"
    },
    {
     "data": {
      "application/vnd.jupyter.widget-view+json": {
       "model_id": "53c3dc6c978b46d7bc9ea287045b0e02",
       "version_major": 2,
       "version_minor": 0
      },
      "text/plain": [
       "Downloading yellow_tripdata_2017-11.parquet: 0KB [00:00, ?KB/s]"
      ]
     },
     "metadata": {},
     "output_type": "display_data"
    },
    {
     "data": {
      "application/vnd.jupyter.widget-view+json": {
       "model_id": "93a2a8eb7da24078b9a98a7a469536cf",
       "version_major": 2,
       "version_minor": 0
      },
      "text/plain": [
       "Downloading yellow_tripdata_2017-12.parquet: 0KB [00:00, ?KB/s]"
      ]
     },
     "metadata": {},
     "output_type": "display_data"
    },
    {
     "data": {
      "application/vnd.jupyter.widget-view+json": {
       "model_id": "885e5af06a2440b4bb96d57e5906f82f",
       "version_major": 2,
       "version_minor": 0
      },
      "text/plain": [
       "Months:   0%|          | 0/12 [00:00<?, ?month/s]"
      ]
     },
     "metadata": {},
     "output_type": "display_data"
    },
    {
     "data": {
      "application/vnd.jupyter.widget-view+json": {
       "model_id": "dc0924ff86c748b09c9d5c2a8bf835fd",
       "version_major": 2,
       "version_minor": 0
      },
      "text/plain": [
       "Downloading yellow_tripdata_2018-01.parquet: 0KB [00:00, ?KB/s]"
      ]
     },
     "metadata": {},
     "output_type": "display_data"
    },
    {
     "data": {
      "application/vnd.jupyter.widget-view+json": {
       "model_id": "95d60ee18d7d45a5ae566a58adbf9bf8",
       "version_major": 2,
       "version_minor": 0
      },
      "text/plain": [
       "Downloading yellow_tripdata_2018-02.parquet: 0KB [00:00, ?KB/s]"
      ]
     },
     "metadata": {},
     "output_type": "display_data"
    },
    {
     "data": {
      "application/vnd.jupyter.widget-view+json": {
       "model_id": "18c0abd7f7204ac58549576f21bf95d3",
       "version_major": 2,
       "version_minor": 0
      },
      "text/plain": [
       "Downloading yellow_tripdata_2018-03.parquet: 0KB [00:00, ?KB/s]"
      ]
     },
     "metadata": {},
     "output_type": "display_data"
    },
    {
     "data": {
      "application/vnd.jupyter.widget-view+json": {
       "model_id": "7ea6bd14d7de481dbceb795414c0ced0",
       "version_major": 2,
       "version_minor": 0
      },
      "text/plain": [
       "Downloading yellow_tripdata_2018-04.parquet: 0KB [00:00, ?KB/s]"
      ]
     },
     "metadata": {},
     "output_type": "display_data"
    },
    {
     "data": {
      "application/vnd.jupyter.widget-view+json": {
       "model_id": "ddf65d3f1fc44d218ec853962fa3ec44",
       "version_major": 2,
       "version_minor": 0
      },
      "text/plain": [
       "Downloading yellow_tripdata_2018-05.parquet: 0KB [00:00, ?KB/s]"
      ]
     },
     "metadata": {},
     "output_type": "display_data"
    },
    {
     "data": {
      "application/vnd.jupyter.widget-view+json": {
       "model_id": "d4bc60f94c3244149a3895037743ef66",
       "version_major": 2,
       "version_minor": 0
      },
      "text/plain": [
       "Downloading yellow_tripdata_2018-06.parquet: 0KB [00:00, ?KB/s]"
      ]
     },
     "metadata": {},
     "output_type": "display_data"
    },
    {
     "data": {
      "application/vnd.jupyter.widget-view+json": {
       "model_id": "458fd97a4bec4c88b007bf1ded87fe77",
       "version_major": 2,
       "version_minor": 0
      },
      "text/plain": [
       "Downloading yellow_tripdata_2018-07.parquet: 0KB [00:00, ?KB/s]"
      ]
     },
     "metadata": {},
     "output_type": "display_data"
    },
    {
     "data": {
      "application/vnd.jupyter.widget-view+json": {
       "model_id": "a18e8bfb52d7423cbfe8fb0cb0062142",
       "version_major": 2,
       "version_minor": 0
      },
      "text/plain": [
       "Downloading yellow_tripdata_2018-08.parquet: 0KB [00:00, ?KB/s]"
      ]
     },
     "metadata": {},
     "output_type": "display_data"
    },
    {
     "data": {
      "application/vnd.jupyter.widget-view+json": {
       "model_id": "5fe08996277c4594969988bf2274bd39",
       "version_major": 2,
       "version_minor": 0
      },
      "text/plain": [
       "Downloading yellow_tripdata_2018-09.parquet: 0KB [00:00, ?KB/s]"
      ]
     },
     "metadata": {},
     "output_type": "display_data"
    },
    {
     "data": {
      "application/vnd.jupyter.widget-view+json": {
       "model_id": "6cdd83d982a847b3a648a642bdfe628f",
       "version_major": 2,
       "version_minor": 0
      },
      "text/plain": [
       "Downloading yellow_tripdata_2018-10.parquet: 0KB [00:00, ?KB/s]"
      ]
     },
     "metadata": {},
     "output_type": "display_data"
    },
    {
     "data": {
      "application/vnd.jupyter.widget-view+json": {
       "model_id": "0a351d6e1fb144ea979bb5e7a3aecbc6",
       "version_major": 2,
       "version_minor": 0
      },
      "text/plain": [
       "Downloading yellow_tripdata_2018-11.parquet: 0KB [00:00, ?KB/s]"
      ]
     },
     "metadata": {},
     "output_type": "display_data"
    },
    {
     "data": {
      "application/vnd.jupyter.widget-view+json": {
       "model_id": "4363aa1aee3e4f3f9ad044ad3b7e9c75",
       "version_major": 2,
       "version_minor": 0
      },
      "text/plain": [
       "Downloading yellow_tripdata_2018-12.parquet: 0KB [00:00, ?KB/s]"
      ]
     },
     "metadata": {},
     "output_type": "display_data"
    },
    {
     "data": {
      "application/vnd.jupyter.widget-view+json": {
       "model_id": "61e20032f5da46df91c4d7857127ebc3",
       "version_major": 2,
       "version_minor": 0
      },
      "text/plain": [
       "Months:   0%|          | 0/12 [00:00<?, ?month/s]"
      ]
     },
     "metadata": {},
     "output_type": "display_data"
    },
    {
     "data": {
      "application/vnd.jupyter.widget-view+json": {
       "model_id": "c904bb6bc0e14f4285623fb074374350",
       "version_major": 2,
       "version_minor": 0
      },
      "text/plain": [
       "Downloading yellow_tripdata_2019-01.parquet: 0KB [00:00, ?KB/s]"
      ]
     },
     "metadata": {},
     "output_type": "display_data"
    },
    {
     "data": {
      "application/vnd.jupyter.widget-view+json": {
       "model_id": "c8ab8f634a5b461a85ae8364e04d64e8",
       "version_major": 2,
       "version_minor": 0
      },
      "text/plain": [
       "Downloading yellow_tripdata_2019-02.parquet: 0KB [00:00, ?KB/s]"
      ]
     },
     "metadata": {},
     "output_type": "display_data"
    },
    {
     "data": {
      "application/vnd.jupyter.widget-view+json": {
       "model_id": "0d3fcae1f6d44682926ed01e4f893782",
       "version_major": 2,
       "version_minor": 0
      },
      "text/plain": [
       "Downloading yellow_tripdata_2019-03.parquet: 0KB [00:00, ?KB/s]"
      ]
     },
     "metadata": {},
     "output_type": "display_data"
    },
    {
     "data": {
      "application/vnd.jupyter.widget-view+json": {
       "model_id": "64fc575f2b864e16977f7f339e9239da",
       "version_major": 2,
       "version_minor": 0
      },
      "text/plain": [
       "Downloading yellow_tripdata_2019-04.parquet: 0KB [00:00, ?KB/s]"
      ]
     },
     "metadata": {},
     "output_type": "display_data"
    },
    {
     "data": {
      "application/vnd.jupyter.widget-view+json": {
       "model_id": "71af7a49c54a436a98d47c7b06ba4414",
       "version_major": 2,
       "version_minor": 0
      },
      "text/plain": [
       "Downloading yellow_tripdata_2019-05.parquet: 0KB [00:00, ?KB/s]"
      ]
     },
     "metadata": {},
     "output_type": "display_data"
    },
    {
     "data": {
      "application/vnd.jupyter.widget-view+json": {
       "model_id": "85365df4a79b4fe3ace446e303a88951",
       "version_major": 2,
       "version_minor": 0
      },
      "text/plain": [
       "Downloading yellow_tripdata_2019-06.parquet: 0KB [00:00, ?KB/s]"
      ]
     },
     "metadata": {},
     "output_type": "display_data"
    },
    {
     "data": {
      "application/vnd.jupyter.widget-view+json": {
       "model_id": "5afdd76e131f458583fef76c864498bb",
       "version_major": 2,
       "version_minor": 0
      },
      "text/plain": [
       "Downloading yellow_tripdata_2019-07.parquet: 0KB [00:00, ?KB/s]"
      ]
     },
     "metadata": {},
     "output_type": "display_data"
    },
    {
     "data": {
      "application/vnd.jupyter.widget-view+json": {
       "model_id": "8a61bc683d944df893d78d70884cbbf3",
       "version_major": 2,
       "version_minor": 0
      },
      "text/plain": [
       "Downloading yellow_tripdata_2019-08.parquet: 0KB [00:00, ?KB/s]"
      ]
     },
     "metadata": {},
     "output_type": "display_data"
    },
    {
     "data": {
      "application/vnd.jupyter.widget-view+json": {
       "model_id": "d7a717d903144c52933d56bf56d4e4f7",
       "version_major": 2,
       "version_minor": 0
      },
      "text/plain": [
       "Downloading yellow_tripdata_2019-09.parquet: 0KB [00:00, ?KB/s]"
      ]
     },
     "metadata": {},
     "output_type": "display_data"
    },
    {
     "data": {
      "application/vnd.jupyter.widget-view+json": {
       "model_id": "d2f902cb7d3f40caab3021d8e98be5d5",
       "version_major": 2,
       "version_minor": 0
      },
      "text/plain": [
       "Downloading yellow_tripdata_2019-10.parquet: 0KB [00:00, ?KB/s]"
      ]
     },
     "metadata": {},
     "output_type": "display_data"
    },
    {
     "data": {
      "application/vnd.jupyter.widget-view+json": {
       "model_id": "0033502082464ed2a35a5925dc29aefa",
       "version_major": 2,
       "version_minor": 0
      },
      "text/plain": [
       "Downloading yellow_tripdata_2019-11.parquet: 0KB [00:00, ?KB/s]"
      ]
     },
     "metadata": {},
     "output_type": "display_data"
    },
    {
     "data": {
      "application/vnd.jupyter.widget-view+json": {
       "model_id": "823b64c111254308bae70f8097197151",
       "version_major": 2,
       "version_minor": 0
      },
      "text/plain": [
       "Downloading yellow_tripdata_2019-12.parquet: 0KB [00:00, ?KB/s]"
      ]
     },
     "metadata": {},
     "output_type": "display_data"
    },
    {
     "data": {
      "application/vnd.jupyter.widget-view+json": {
       "model_id": "fb1132bce3d34459aec37b088d8e6a75",
       "version_major": 2,
       "version_minor": 0
      },
      "text/plain": [
       "Months:   0%|          | 0/12 [00:00<?, ?month/s]"
      ]
     },
     "metadata": {},
     "output_type": "display_data"
    },
    {
     "data": {
      "application/vnd.jupyter.widget-view+json": {
       "model_id": "8c19515212744f27923fe21504f6d19b",
       "version_major": 2,
       "version_minor": 0
      },
      "text/plain": [
       "Downloading yellow_tripdata_2020-01.parquet: 0KB [00:00, ?KB/s]"
      ]
     },
     "metadata": {},
     "output_type": "display_data"
    },
    {
     "data": {
      "application/vnd.jupyter.widget-view+json": {
       "model_id": "5ab8b9a867db4f00b7ed335d6088a073",
       "version_major": 2,
       "version_minor": 0
      },
      "text/plain": [
       "Downloading yellow_tripdata_2020-02.parquet: 0KB [00:00, ?KB/s]"
      ]
     },
     "metadata": {},
     "output_type": "display_data"
    },
    {
     "data": {
      "application/vnd.jupyter.widget-view+json": {
       "model_id": "c2540e5356324e73b3034daca3faf86f",
       "version_major": 2,
       "version_minor": 0
      },
      "text/plain": [
       "Downloading yellow_tripdata_2020-03.parquet: 0KB [00:00, ?KB/s]"
      ]
     },
     "metadata": {},
     "output_type": "display_data"
    },
    {
     "data": {
      "application/vnd.jupyter.widget-view+json": {
       "model_id": "3cb83a5d053e42d1bdfa0704ec0a5382",
       "version_major": 2,
       "version_minor": 0
      },
      "text/plain": [
       "Downloading yellow_tripdata_2020-04.parquet: 0KB [00:00, ?KB/s]"
      ]
     },
     "metadata": {},
     "output_type": "display_data"
    },
    {
     "data": {
      "application/vnd.jupyter.widget-view+json": {
       "model_id": "89535110bbaf402e9783dec31006efa3",
       "version_major": 2,
       "version_minor": 0
      },
      "text/plain": [
       "Downloading yellow_tripdata_2020-05.parquet: 0KB [00:00, ?KB/s]"
      ]
     },
     "metadata": {},
     "output_type": "display_data"
    },
    {
     "data": {
      "application/vnd.jupyter.widget-view+json": {
       "model_id": "502c787c7d9247ec9f53a1367d4d0929",
       "version_major": 2,
       "version_minor": 0
      },
      "text/plain": [
       "Downloading yellow_tripdata_2020-06.parquet: 0KB [00:00, ?KB/s]"
      ]
     },
     "metadata": {},
     "output_type": "display_data"
    },
    {
     "data": {
      "application/vnd.jupyter.widget-view+json": {
       "model_id": "99e7480775ec40a799e66c9261fa4bc1",
       "version_major": 2,
       "version_minor": 0
      },
      "text/plain": [
       "Downloading yellow_tripdata_2020-07.parquet: 0KB [00:00, ?KB/s]"
      ]
     },
     "metadata": {},
     "output_type": "display_data"
    },
    {
     "data": {
      "application/vnd.jupyter.widget-view+json": {
       "model_id": "afe08f1d150d411db458b4761d3cf52b",
       "version_major": 2,
       "version_minor": 0
      },
      "text/plain": [
       "Downloading yellow_tripdata_2020-08.parquet: 0KB [00:00, ?KB/s]"
      ]
     },
     "metadata": {},
     "output_type": "display_data"
    },
    {
     "data": {
      "application/vnd.jupyter.widget-view+json": {
       "model_id": "c4dbdd476b01416f91935ac4af82e464",
       "version_major": 2,
       "version_minor": 0
      },
      "text/plain": [
       "Downloading yellow_tripdata_2020-09.parquet: 0KB [00:00, ?KB/s]"
      ]
     },
     "metadata": {},
     "output_type": "display_data"
    },
    {
     "data": {
      "application/vnd.jupyter.widget-view+json": {
       "model_id": "7f984375b03d445583e44a6c05fc9242",
       "version_major": 2,
       "version_minor": 0
      },
      "text/plain": [
       "Downloading yellow_tripdata_2020-10.parquet: 0KB [00:00, ?KB/s]"
      ]
     },
     "metadata": {},
     "output_type": "display_data"
    },
    {
     "data": {
      "application/vnd.jupyter.widget-view+json": {
       "model_id": "38659e7071ff496582fa16def3077828",
       "version_major": 2,
       "version_minor": 0
      },
      "text/plain": [
       "Downloading yellow_tripdata_2020-11.parquet: 0KB [00:00, ?KB/s]"
      ]
     },
     "metadata": {},
     "output_type": "display_data"
    },
    {
     "data": {
      "application/vnd.jupyter.widget-view+json": {
       "model_id": "4b4e8fb8eac046708790a4e00ce4b742",
       "version_major": 2,
       "version_minor": 0
      },
      "text/plain": [
       "Downloading yellow_tripdata_2020-12.parquet: 0KB [00:00, ?KB/s]"
      ]
     },
     "metadata": {},
     "output_type": "display_data"
    },
    {
     "data": {
      "application/vnd.jupyter.widget-view+json": {
       "model_id": "2ae99cc7275346fbae4edc108f70ffeb",
       "version_major": 2,
       "version_minor": 0
      },
      "text/plain": [
       "Months:   0%|          | 0/12 [00:00<?, ?month/s]"
      ]
     },
     "metadata": {},
     "output_type": "display_data"
    },
    {
     "data": {
      "application/vnd.jupyter.widget-view+json": {
       "model_id": "99a5f889e1e34da19a4e83d0cf302ff5",
       "version_major": 2,
       "version_minor": 0
      },
      "text/plain": [
       "Downloading yellow_tripdata_2021-01.parquet: 0KB [00:00, ?KB/s]"
      ]
     },
     "metadata": {},
     "output_type": "display_data"
    },
    {
     "data": {
      "application/vnd.jupyter.widget-view+json": {
       "model_id": "611b98cfdaeb4ad0aa6ad3447256e475",
       "version_major": 2,
       "version_minor": 0
      },
      "text/plain": [
       "Downloading yellow_tripdata_2021-02.parquet: 0KB [00:00, ?KB/s]"
      ]
     },
     "metadata": {},
     "output_type": "display_data"
    },
    {
     "data": {
      "application/vnd.jupyter.widget-view+json": {
       "model_id": "567e2a0ae26641b7a0467552425b3eeb",
       "version_major": 2,
       "version_minor": 0
      },
      "text/plain": [
       "Downloading yellow_tripdata_2021-03.parquet: 0KB [00:00, ?KB/s]"
      ]
     },
     "metadata": {},
     "output_type": "display_data"
    },
    {
     "data": {
      "application/vnd.jupyter.widget-view+json": {
       "model_id": "dbd5524b67794b59ba60ac836b823d51",
       "version_major": 2,
       "version_minor": 0
      },
      "text/plain": [
       "Downloading yellow_tripdata_2021-04.parquet: 0KB [00:00, ?KB/s]"
      ]
     },
     "metadata": {},
     "output_type": "display_data"
    },
    {
     "data": {
      "application/vnd.jupyter.widget-view+json": {
       "model_id": "84661e9fa87f467a927b27ce86a5d2a8",
       "version_major": 2,
       "version_minor": 0
      },
      "text/plain": [
       "Downloading yellow_tripdata_2021-05.parquet: 0KB [00:00, ?KB/s]"
      ]
     },
     "metadata": {},
     "output_type": "display_data"
    },
    {
     "data": {
      "application/vnd.jupyter.widget-view+json": {
       "model_id": "03957c777ceb42e79387ba6c9415c575",
       "version_major": 2,
       "version_minor": 0
      },
      "text/plain": [
       "Downloading yellow_tripdata_2021-06.parquet: 0KB [00:00, ?KB/s]"
      ]
     },
     "metadata": {},
     "output_type": "display_data"
    },
    {
     "data": {
      "application/vnd.jupyter.widget-view+json": {
       "model_id": "1bc214870bad4973ae07e9d0d53b4f1e",
       "version_major": 2,
       "version_minor": 0
      },
      "text/plain": [
       "Downloading yellow_tripdata_2021-07.parquet: 0KB [00:00, ?KB/s]"
      ]
     },
     "metadata": {},
     "output_type": "display_data"
    },
    {
     "data": {
      "application/vnd.jupyter.widget-view+json": {
       "model_id": "6b587b658158454db10051d947ec04a1",
       "version_major": 2,
       "version_minor": 0
      },
      "text/plain": [
       "Downloading yellow_tripdata_2021-08.parquet: 0KB [00:00, ?KB/s]"
      ]
     },
     "metadata": {},
     "output_type": "display_data"
    },
    {
     "data": {
      "application/vnd.jupyter.widget-view+json": {
       "model_id": "ea6516ad712441d5bb5ddda8b1db8265",
       "version_major": 2,
       "version_minor": 0
      },
      "text/plain": [
       "Downloading yellow_tripdata_2021-09.parquet: 0KB [00:00, ?KB/s]"
      ]
     },
     "metadata": {},
     "output_type": "display_data"
    },
    {
     "data": {
      "application/vnd.jupyter.widget-view+json": {
       "model_id": "43b02a1496474625abace06b10a7333f",
       "version_major": 2,
       "version_minor": 0
      },
      "text/plain": [
       "Downloading yellow_tripdata_2021-10.parquet: 0KB [00:00, ?KB/s]"
      ]
     },
     "metadata": {},
     "output_type": "display_data"
    },
    {
     "data": {
      "application/vnd.jupyter.widget-view+json": {
       "model_id": "69940204b9514d7984635b9ed87690b6",
       "version_major": 2,
       "version_minor": 0
      },
      "text/plain": [
       "Downloading yellow_tripdata_2021-11.parquet: 0KB [00:00, ?KB/s]"
      ]
     },
     "metadata": {},
     "output_type": "display_data"
    },
    {
     "data": {
      "application/vnd.jupyter.widget-view+json": {
       "model_id": "22ef3bc0f14744819c225ebcb1d3424c",
       "version_major": 2,
       "version_minor": 0
      },
      "text/plain": [
       "Downloading yellow_tripdata_2021-12.parquet: 0KB [00:00, ?KB/s]"
      ]
     },
     "metadata": {},
     "output_type": "display_data"
    },
    {
     "data": {
      "application/vnd.jupyter.widget-view+json": {
       "model_id": "e9b1c57323204fa58c566a3610bae84d",
       "version_major": 2,
       "version_minor": 0
      },
      "text/plain": [
       "Months:   0%|          | 0/12 [00:00<?, ?month/s]"
      ]
     },
     "metadata": {},
     "output_type": "display_data"
    },
    {
     "data": {
      "application/vnd.jupyter.widget-view+json": {
       "model_id": "b46632143a8a47638388de5396d7f997",
       "version_major": 2,
       "version_minor": 0
      },
      "text/plain": [
       "Downloading yellow_tripdata_2022-01.parquet: 0KB [00:00, ?KB/s]"
      ]
     },
     "metadata": {},
     "output_type": "display_data"
    },
    {
     "data": {
      "application/vnd.jupyter.widget-view+json": {
       "model_id": "2e6c66bf6b45453fa946acfd1e3fb252",
       "version_major": 2,
       "version_minor": 0
      },
      "text/plain": [
       "Downloading yellow_tripdata_2022-02.parquet: 0KB [00:00, ?KB/s]"
      ]
     },
     "metadata": {},
     "output_type": "display_data"
    },
    {
     "data": {
      "application/vnd.jupyter.widget-view+json": {
       "model_id": "dad397ecb92c42aca25f95c197901f9d",
       "version_major": 2,
       "version_minor": 0
      },
      "text/plain": [
       "Downloading yellow_tripdata_2022-03.parquet: 0KB [00:00, ?KB/s]"
      ]
     },
     "metadata": {},
     "output_type": "display_data"
    },
    {
     "data": {
      "application/vnd.jupyter.widget-view+json": {
       "model_id": "8075a8547f814eeb8a66c7b564648904",
       "version_major": 2,
       "version_minor": 0
      },
      "text/plain": [
       "Downloading yellow_tripdata_2022-04.parquet: 0KB [00:00, ?KB/s]"
      ]
     },
     "metadata": {},
     "output_type": "display_data"
    },
    {
     "data": {
      "application/vnd.jupyter.widget-view+json": {
       "model_id": "65f07d55e5a04945bbcb65f0222cb6e1",
       "version_major": 2,
       "version_minor": 0
      },
      "text/plain": [
       "Downloading yellow_tripdata_2022-05.parquet: 0KB [00:00, ?KB/s]"
      ]
     },
     "metadata": {},
     "output_type": "display_data"
    },
    {
     "data": {
      "application/vnd.jupyter.widget-view+json": {
       "model_id": "c16cb4338a6d4b60af40c7e9a25d1266",
       "version_major": 2,
       "version_minor": 0
      },
      "text/plain": [
       "Downloading yellow_tripdata_2022-06.parquet: 0KB [00:00, ?KB/s]"
      ]
     },
     "metadata": {},
     "output_type": "display_data"
    },
    {
     "data": {
      "application/vnd.jupyter.widget-view+json": {
       "model_id": "bb20a2d725f54407a6d953b168f0925a",
       "version_major": 2,
       "version_minor": 0
      },
      "text/plain": [
       "Downloading yellow_tripdata_2022-07.parquet: 0KB [00:00, ?KB/s]"
      ]
     },
     "metadata": {},
     "output_type": "display_data"
    },
    {
     "data": {
      "application/vnd.jupyter.widget-view+json": {
       "model_id": "8fc043b735444a9aa5a24ce41c372990",
       "version_major": 2,
       "version_minor": 0
      },
      "text/plain": [
       "Downloading yellow_tripdata_2022-08.parquet: 0KB [00:00, ?KB/s]"
      ]
     },
     "metadata": {},
     "output_type": "display_data"
    },
    {
     "data": {
      "application/vnd.jupyter.widget-view+json": {
       "model_id": "406c8e9c4eeb4aba8c007140c5822b10",
       "version_major": 2,
       "version_minor": 0
      },
      "text/plain": [
       "Downloading yellow_tripdata_2022-09.parquet: 0KB [00:00, ?KB/s]"
      ]
     },
     "metadata": {},
     "output_type": "display_data"
    },
    {
     "data": {
      "application/vnd.jupyter.widget-view+json": {
       "model_id": "a750fd6bb0d142c69f70b560ff62cbd2",
       "version_major": 2,
       "version_minor": 0
      },
      "text/plain": [
       "Downloading yellow_tripdata_2022-10.parquet: 0KB [00:00, ?KB/s]"
      ]
     },
     "metadata": {},
     "output_type": "display_data"
    },
    {
     "data": {
      "application/vnd.jupyter.widget-view+json": {
       "model_id": "8c7e4542407844308bb6e2dda6c8ec57",
       "version_major": 2,
       "version_minor": 0
      },
      "text/plain": [
       "Downloading yellow_tripdata_2022-11.parquet: 0KB [00:00, ?KB/s]"
      ]
     },
     "metadata": {},
     "output_type": "display_data"
    },
    {
     "data": {
      "application/vnd.jupyter.widget-view+json": {
       "model_id": "ec8a6f46179f4cc5beed9c7af6dbeb85",
       "version_major": 2,
       "version_minor": 0
      },
      "text/plain": [
       "Downloading yellow_tripdata_2022-12.parquet: 0KB [00:00, ?KB/s]"
      ]
     },
     "metadata": {},
     "output_type": "display_data"
    },
    {
     "data": {
      "application/vnd.jupyter.widget-view+json": {
       "model_id": "03d2b5551caf48e9b7daf75df34f794e",
       "version_major": 2,
       "version_minor": 0
      },
      "text/plain": [
       "Months:   0%|          | 0/12 [00:00<?, ?month/s]"
      ]
     },
     "metadata": {},
     "output_type": "display_data"
    },
    {
     "data": {
      "application/vnd.jupyter.widget-view+json": {
       "model_id": "b6584230fd0540d684fd5e6cb61ffad6",
       "version_major": 2,
       "version_minor": 0
      },
      "text/plain": [
       "Downloading yellow_tripdata_2023-01.parquet: 0KB [00:00, ?KB/s]"
      ]
     },
     "metadata": {},
     "output_type": "display_data"
    },
    {
     "data": {
      "application/vnd.jupyter.widget-view+json": {
       "model_id": "36fa6e3b74054257a914536147e9722c",
       "version_major": 2,
       "version_minor": 0
      },
      "text/plain": [
       "Downloading yellow_tripdata_2023-02.parquet: 0KB [00:00, ?KB/s]"
      ]
     },
     "metadata": {},
     "output_type": "display_data"
    },
    {
     "data": {
      "application/vnd.jupyter.widget-view+json": {
       "model_id": "2552354bd1a349a6b4bc59479f78ffae",
       "version_major": 2,
       "version_minor": 0
      },
      "text/plain": [
       "Downloading yellow_tripdata_2023-03.parquet: 0KB [00:00, ?KB/s]"
      ]
     },
     "metadata": {},
     "output_type": "display_data"
    },
    {
     "data": {
      "application/vnd.jupyter.widget-view+json": {
       "model_id": "de40a2e4be0440ee98fd61fe80355651",
       "version_major": 2,
       "version_minor": 0
      },
      "text/plain": [
       "Downloading yellow_tripdata_2023-04.parquet: 0KB [00:00, ?KB/s]"
      ]
     },
     "metadata": {},
     "output_type": "display_data"
    },
    {
     "data": {
      "application/vnd.jupyter.widget-view+json": {
       "model_id": "8c2cb77e2275410c9ebc367faa48a1a3",
       "version_major": 2,
       "version_minor": 0
      },
      "text/plain": [
       "Downloading yellow_tripdata_2023-05.parquet: 0KB [00:00, ?KB/s]"
      ]
     },
     "metadata": {},
     "output_type": "display_data"
    },
    {
     "data": {
      "application/vnd.jupyter.widget-view+json": {
       "model_id": "41043e8ea81042a0bed24d1dbe09540d",
       "version_major": 2,
       "version_minor": 0
      },
      "text/plain": [
       "Downloading yellow_tripdata_2023-06.parquet: 0KB [00:00, ?KB/s]"
      ]
     },
     "metadata": {},
     "output_type": "display_data"
    },
    {
     "data": {
      "application/vnd.jupyter.widget-view+json": {
       "model_id": "f6371fadb7c5432da480787390cd6747",
       "version_major": 2,
       "version_minor": 0
      },
      "text/plain": [
       "Downloading yellow_tripdata_2023-07.parquet: 0KB [00:00, ?KB/s]"
      ]
     },
     "metadata": {},
     "output_type": "display_data"
    },
    {
     "data": {
      "application/vnd.jupyter.widget-view+json": {
       "model_id": "6ecbe27ca7c341d981b640d3cbde7c6e",
       "version_major": 2,
       "version_minor": 0
      },
      "text/plain": [
       "Downloading yellow_tripdata_2023-08.parquet: 0KB [00:00, ?KB/s]"
      ]
     },
     "metadata": {},
     "output_type": "display_data"
    },
    {
     "data": {
      "application/vnd.jupyter.widget-view+json": {
       "model_id": "c3a4f552139d4526ab36224183719dd0",
       "version_major": 2,
       "version_minor": 0
      },
      "text/plain": [
       "Downloading yellow_tripdata_2023-09.parquet: 0KB [00:00, ?KB/s]"
      ]
     },
     "metadata": {},
     "output_type": "display_data"
    },
    {
     "data": {
      "application/vnd.jupyter.widget-view+json": {
       "model_id": "c212d4d250e74d9b98d3147d56f5fa43",
       "version_major": 2,
       "version_minor": 0
      },
      "text/plain": [
       "Downloading yellow_tripdata_2023-10.parquet: 0KB [00:00, ?KB/s]"
      ]
     },
     "metadata": {},
     "output_type": "display_data"
    },
    {
     "data": {
      "application/vnd.jupyter.widget-view+json": {
       "model_id": "74e51a5646ce438e8ec29b54dce7539b",
       "version_major": 2,
       "version_minor": 0
      },
      "text/plain": [
       "Downloading yellow_tripdata_2023-11.parquet: 0KB [00:00, ?KB/s]"
      ]
     },
     "metadata": {},
     "output_type": "display_data"
    },
    {
     "data": {
      "application/vnd.jupyter.widget-view+json": {
       "model_id": "8fa0230598294a948689da61a22a3037",
       "version_major": 2,
       "version_minor": 0
      },
      "text/plain": [
       "Downloading yellow_tripdata_2023-12.parquet: 0KB [00:00, ?KB/s]"
      ]
     },
     "metadata": {},
     "output_type": "display_data"
    },
    {
     "data": {
      "application/vnd.jupyter.widget-view+json": {
       "model_id": "8548ead14d0f4ab4a44b03be3442b9a8",
       "version_major": 2,
       "version_minor": 0
      },
      "text/plain": [
       "Months:   0%|          | 0/12 [00:00<?, ?month/s]"
      ]
     },
     "metadata": {},
     "output_type": "display_data"
    },
    {
     "data": {
      "application/vnd.jupyter.widget-view+json": {
       "model_id": "7f29c085fd464092ace8f4d43e158052",
       "version_major": 2,
       "version_minor": 0
      },
      "text/plain": [
       "Downloading yellow_tripdata_2024-01.parquet: 0KB [00:00, ?KB/s]"
      ]
     },
     "metadata": {},
     "output_type": "display_data"
    },
    {
     "data": {
      "application/vnd.jupyter.widget-view+json": {
       "model_id": "bf5aa6604308425f8ad2e92301baff45",
       "version_major": 2,
       "version_minor": 0
      },
      "text/plain": [
       "Downloading yellow_tripdata_2024-02.parquet: 0KB [00:00, ?KB/s]"
      ]
     },
     "metadata": {},
     "output_type": "display_data"
    },
    {
     "data": {
      "application/vnd.jupyter.widget-view+json": {
       "model_id": "8974636a1eb9451d974ed63f51385b44",
       "version_major": 2,
       "version_minor": 0
      },
      "text/plain": [
       "Downloading yellow_tripdata_2024-03.parquet: 0KB [00:00, ?KB/s]"
      ]
     },
     "metadata": {},
     "output_type": "display_data"
    },
    {
     "data": {
      "application/vnd.jupyter.widget-view+json": {
       "model_id": "d02bfc10b8734c3a8ba4003cc9a0f23e",
       "version_major": 2,
       "version_minor": 0
      },
      "text/plain": [
       "Downloading yellow_tripdata_2024-04.parquet: 0KB [00:00, ?KB/s]"
      ]
     },
     "metadata": {},
     "output_type": "display_data"
    },
    {
     "data": {
      "application/vnd.jupyter.widget-view+json": {
       "model_id": "cc14d16d77fe4b64879976128a79f589",
       "version_major": 2,
       "version_minor": 0
      },
      "text/plain": [
       "Downloading yellow_tripdata_2024-05.parquet: 0KB [00:00, ?KB/s]"
      ]
     },
     "metadata": {},
     "output_type": "display_data"
    },
    {
     "data": {
      "application/vnd.jupyter.widget-view+json": {
       "model_id": "8c210a50a43e4a978cb2b1b34df64a68",
       "version_major": 2,
       "version_minor": 0
      },
      "text/plain": [
       "Downloading yellow_tripdata_2024-06.parquet: 0KB [00:00, ?KB/s]"
      ]
     },
     "metadata": {},
     "output_type": "display_data"
    },
    {
     "data": {
      "application/vnd.jupyter.widget-view+json": {
       "model_id": "c3bcf1f8c7f044829f04df7988be45eb",
       "version_major": 2,
       "version_minor": 0
      },
      "text/plain": [
       "Downloading yellow_tripdata_2024-07.parquet: 0KB [00:00, ?KB/s]"
      ]
     },
     "metadata": {},
     "output_type": "display_data"
    },
    {
     "data": {
      "application/vnd.jupyter.widget-view+json": {
       "model_id": "2f6dd8a315fe4d2bbeb36ae002ab7ebb",
       "version_major": 2,
       "version_minor": 0
      },
      "text/plain": [
       "Downloading yellow_tripdata_2024-08.parquet: 0KB [00:00, ?KB/s]"
      ]
     },
     "metadata": {},
     "output_type": "display_data"
    },
    {
     "data": {
      "application/vnd.jupyter.widget-view+json": {
       "model_id": "b979705d199c419c9320860a7772de60",
       "version_major": 2,
       "version_minor": 0
      },
      "text/plain": [
       "Downloading yellow_tripdata_2024-09.parquet: 0KB [00:00, ?KB/s]"
      ]
     },
     "metadata": {},
     "output_type": "display_data"
    },
    {
     "data": {
      "application/vnd.jupyter.widget-view+json": {
       "model_id": "39bfeac1e1c94311a9edef5aa14a3629",
       "version_major": 2,
       "version_minor": 0
      },
      "text/plain": [
       "Downloading yellow_tripdata_2024-10.parquet: 0KB [00:00, ?KB/s]"
      ]
     },
     "metadata": {},
     "output_type": "display_data"
    },
    {
     "data": {
      "application/vnd.jupyter.widget-view+json": {
       "model_id": "37c4474d32384467a8ade4216e8c628a",
       "version_major": 2,
       "version_minor": 0
      },
      "text/plain": [
       "Downloading yellow_tripdata_2024-11.parquet: 0KB [00:00, ?KB/s]"
      ]
     },
     "metadata": {},
     "output_type": "display_data"
    },
    {
     "data": {
      "application/vnd.jupyter.widget-view+json": {
       "model_id": "61756e6359514035bbcd04da098e79f4",
       "version_major": 2,
       "version_minor": 0
      },
      "text/plain": [
       "Downloading yellow_tripdata_2024-12.parquet: 0KB [00:00, ?KB/s]"
      ]
     },
     "metadata": {},
     "output_type": "display_data"
    }
   ],
   "source": [
    "import os\n",
    "import requests\n",
    "from uber_time_estimation.configs.settings import ROOT_DIR\n",
    "# Set the base URL\n",
    "BASE_URL = \"https://d37ci6vzurychx.cloudfront.net/trip-data/\"\n",
    "SAVE_DIR = ROOT_DIR / \"data\" / \"nyc_tlc_yellow_taxi_data\"\n",
    "\n",
    "# Years and months to download (customize as needed)\n",
    "years = range(2009, 2025)  # 2009 to 2024\n",
    "months = range(1, 13)  # Jan to Dec\n",
    "\n",
    "# Create directory if it doesn't exist\n",
    "os.makedirs(SAVE_DIR, exist_ok=True)\n",
    "\n",
    "from tqdm.notebook import tqdm  # Use notebook-friendly tqdm\n",
    "\n",
    "# Loop over each year and month with nested progress bars\n",
    "for year in tqdm(years, desc=\"Years\", unit=\"year\", position=0):\n",
    "    for month in tqdm(months, desc=\"Months\", unit=\"month\", leave=False, position=1):\n",
    "        file_name = f\"yellow_tripdata_{year}-{month:02}.parquet\"\n",
    "        file_url = BASE_URL + file_name\n",
    "        save_path = os.path.join(SAVE_DIR, file_name)\n",
    "\n",
    "        # Skip if already downloaded\n",
    "        if os.path.exists(save_path):\n",
    "            print(f\"Already downloaded: {file_name}\")\n",
    "            continue\n",
    "\n",
    "        try:\n",
    "            response = requests.get(file_url, stream=True)\n",
    "            if response.status_code == 200:\n",
    "                with open(save_path, 'wb') as f:\n",
    "                    for chunk in tqdm(response.iter_content(chunk_size=8192), desc=f\"Downloading {file_name}\", unit=\"KB\", leave=False, position=2):\n",
    "                        f.write(chunk)\n",
    "            else:\n",
    "                print(f\"File not found (maybe doesn't exist): {file_name}\")\n",
    "        except Exception as e:\n",
    "            print(f\"Error downloading {file_name}: {e}\")\n"
   ]
  },
  {
   "cell_type": "code",
   "execution_count": null,
   "id": "0749efc6",
   "metadata": {},
   "outputs": [],
   "source": [
    "import openmeteo_requests\n",
    "\n",
    "import pandas as pd\n",
    "import requests_cache\n",
    "from retry_requests import retry\n",
    "\n",
    "# Setup the Open-Meteo API client with cache and retry on error\n",
    "cache_session = requests_cache.CachedSession('.cache', expire_after = -1)\n",
    "retry_session = retry(cache_session, retries = 5, backoff_factor = 0.2)\n",
    "openmeteo = openmeteo_requests.Client(session = retry_session)\n",
    "\n",
    "# Make sure all required weather variables are listed here\n",
    "# The order of variables in hourly or daily is important to assign them correctly below\n",
    "url = \"https://archive-api.open-meteo.com/v1/archive\"\n",
    "params = {\n",
    "\t\"latitude\": 40.7357,\n",
    "\t\"longitude\": -74.1724,\n",
    "\t\"start_date\": \"2009-04-27\",\n",
    "\t\"end_date\": \"2025-05-11\",\n",
    "\t\"hourly\": [\"rain\", \"snowfall\", \"snow_depth\", \"precipitation\", \"apparent_temperature\", \"relative_humidity_2m\", \"temperature_2m\", \"dew_point_2m\"],\n",
    "\t\"timezone\": \"America/New_York\"\n",
    "}\n",
    "responses = openmeteo.weather_api(url, params=params)\n",
    "\n",
    "# Process first location. Add a for-loop for multiple locations or weather models\n",
    "response = responses[0]\n",
    "print(f\"Coordinates {response.Latitude()}°N {response.Longitude()}°E\")\n",
    "print(f\"Elevation {response.Elevation()} m asl\")\n",
    "print(f\"Timezone {response.Timezone()}{response.TimezoneAbbreviation()}\")\n",
    "print(f\"Timezone difference to GMT+0 {response.UtcOffsetSeconds()} s\")\n",
    "\n",
    "# Process hourly data. The order of variables needs to be the same as requested.\n",
    "hourly = response.Hourly()\n",
    "hourly_rain = hourly.Variables(0).ValuesAsNumpy()\n",
    "hourly_snowfall = hourly.Variables(1).ValuesAsNumpy()\n",
    "hourly_snow_depth = hourly.Variables(2).ValuesAsNumpy()\n",
    "hourly_precipitation = hourly.Variables(3).ValuesAsNumpy()\n",
    "hourly_apparent_temperature = hourly.Variables(4).ValuesAsNumpy()\n",
    "hourly_relative_humidity_2m = hourly.Variables(5).ValuesAsNumpy()\n",
    "hourly_temperature_2m = hourly.Variables(6).ValuesAsNumpy()\n",
    "hourly_dew_point_2m = hourly.Variables(7).ValuesAsNumpy()\n",
    "\n",
    "hourly_data = {\"date\": pd.date_range(\n",
    "\tstart = pd.to_datetime(hourly.Time(), unit = \"s\", utc = True),\n",
    "\tend = pd.to_datetime(hourly.TimeEnd(), unit = \"s\", utc = True),\n",
    "\tfreq = pd.Timedelta(seconds = hourly.Interval()),\n",
    "\tinclusive = \"left\"\n",
    ")}\n",
    "\n",
    "hourly_data[\"rain\"] = hourly_rain\n",
    "hourly_data[\"snowfall\"] = hourly_snowfall\n",
    "hourly_data[\"snow_depth\"] = hourly_snow_depth\n",
    "hourly_data[\"precipitation\"] = hourly_precipitation\n",
    "hourly_data[\"apparent_temperature\"] = hourly_apparent_temperature\n",
    "hourly_data[\"relative_humidity_2m\"] = hourly_relative_humidity_2m\n",
    "hourly_data[\"temperature_2m\"] = hourly_temperature_2m\n",
    "hourly_data[\"dew_point_2m\"] = hourly_dew_point_2m\n",
    "\n",
    "hourly_dataframe = pd.DataFrame(data = hourly_data)\n",
    "print(hourly_dataframe)\n"
   ]
  }
 ],
 "metadata": {
  "kernelspec": {
   "display_name": ".venv",
   "language": "python",
   "name": "python3"
  },
  "language_info": {
   "codemirror_mode": {
    "name": "ipython",
    "version": 3
   },
   "file_extension": ".py",
   "mimetype": "text/x-python",
   "name": "python",
   "nbconvert_exporter": "python",
   "pygments_lexer": "ipython3",
   "version": "3.12.3"
  }
 },
 "nbformat": 4,
 "nbformat_minor": 5
}
