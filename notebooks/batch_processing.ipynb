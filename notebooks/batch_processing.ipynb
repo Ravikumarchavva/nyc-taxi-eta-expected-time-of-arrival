{
 "cells": [
  {
   "cell_type": "code",
   "execution_count": 1,
   "metadata": {},
   "outputs": [],
   "source": [
    "import polars as pl\n",
    "import sys\n",
    "\n",
    "sys.path.append(\"..\")\n",
    "\n",
    "from components.data_ingestion import DataIngestion\n",
    "from components.data_preprocessing import DataPreprocessing\n",
    "from components.feature_engineering import FeatureEngineering\n",
    "\n",
    "# Large Dataset\n",
    "file_list = [\n",
    "    \"../data/fhvhv_tripdata_2021-01.parquet\",\n",
    "    \"../data/fhvhv_tripdata_2021-02.parquet\",\n",
    "    \"../data/fhvhv_tripdata_2021-03.parquet\",\n",
    "    \"../data/fhvhv_tripdata_2021-04.parquet\",\n",
    "    \"../data/fhvhv_tripdata_2021-05.parquet\",\n",
    "    \"../data/fhvhv_tripdata_2021-06.parquet\",\n",
    "    \"../data/fhvhv_tripdata_2021-07.parquet\",\n",
    "    \"../data/fhvhv_tripdata_2021-08.parquet\",\n",
    "    \"../data/fhvhv_tripdata_2021-09.parquet\",\n",
    "    \"../data/fhvhv_tripdata_2021-10.parquet\",\n",
    "    \"../data/fhvhv_tripdata_2021-11.parquet\",\n",
    "    \"../data/fhvhv_tripdata_2021-12.parquet\",\n",
    "]\n",
    "\n",
    "# Create an instance of the DataIngestion class\n",
    "data_ingestor = DataIngestion(file_list, batch_size=5_000_000)"
   ]
  },
  {
   "cell_type": "code",
   "execution_count": 2,
   "metadata": {},
   "outputs": [
    {
     "name": "stdout",
     "output_type": "stream",
     "text": [
      "Memory usage before: 0.06 MB\n",
      "Memory usage after: 0.04 MB\n"
     ]
    },
    {
     "data": {
      "text/html": [
       "<div><style>\n",
       ".dataframe > thead > tr,\n",
       ".dataframe > tbody > tr {\n",
       "  text-align: right;\n",
       "  white-space: pre-wrap;\n",
       "}\n",
       "</style>\n",
       "<small>shape: (5, 15)</small><table border=\"1\" class=\"dataframe\"><thead><tr><th>datetime</th><th>temp</th><th>feelslike</th><th>dew</th><th>humidity</th><th>precip</th><th>precipprob</th><th>snow</th><th>snowdepth</th><th>windspeed</th><th>winddir</th><th>sealevelpressure</th><th>cloudcover</th><th>visibility</th><th>uvindex</th></tr><tr><td>date</td><td>f32</td><td>f32</td><td>f32</td><td>f32</td><td>f32</td><td>i32</td><td>f32</td><td>f32</td><td>f32</td><td>f32</td><td>f32</td><td>f32</td><td>f32</td><td>i32</td></tr></thead><tbody><tr><td>2021-01-01</td><td>2.5</td><td>-0.2</td><td>-3.0</td><td>67.800003</td><td>15.33</td><td>100</td><td>0.0</td><td>0.0</td><td>15.5</td><td>69.800003</td><td>1028.900024</td><td>50.599998</td><td>14.0</td><td>3</td></tr><tr><td>2021-01-02</td><td>5.8</td><td>3.6</td><td>1.2</td><td>74.0</td><td>2.38</td><td>100</td><td>1.9</td><td>0.6</td><td>25.5</td><td>246.899994</td><td>1012.400024</td><td>63.900002</td><td>12.2</td><td>5</td></tr><tr><td>2021-01-03</td><td>2.5</td><td>-1.6</td><td>-0.5</td><td>80.699997</td><td>5.09</td><td>100</td><td>1.2</td><td>1.7</td><td>24.1</td><td>66.400002</td><td>1017.0</td><td>81.5</td><td>13.2</td><td>1</td></tr><tr><td>2021-01-04</td><td>3.6</td><td>1.1</td><td>-0.2</td><td>76.599998</td><td>0.84</td><td>100</td><td>0.5</td><td>0.7</td><td>17.299999</td><td>141.100006</td><td>1014.599976</td><td>89.300003</td><td>15.6</td><td>4</td></tr><tr><td>2021-01-05</td><td>3.8</td><td>1.3</td><td>-1.5</td><td>68.699997</td><td>0.0</td><td>0</td><td>0.0</td><td>0.1</td><td>15.2</td><td>124.400002</td><td>1013.099976</td><td>98.800003</td><td>16.0</td><td>2</td></tr></tbody></table></div>"
      ],
      "text/plain": [
       "shape: (5, 15)\n",
       "┌────────────┬──────┬───────────┬──────┬───┬──────────────────┬────────────┬────────────┬─────────┐\n",
       "│ datetime   ┆ temp ┆ feelslike ┆ dew  ┆ … ┆ sealevelpressure ┆ cloudcover ┆ visibility ┆ uvindex │\n",
       "│ ---        ┆ ---  ┆ ---       ┆ ---  ┆   ┆ ---              ┆ ---        ┆ ---        ┆ ---     │\n",
       "│ date       ┆ f32  ┆ f32       ┆ f32  ┆   ┆ f32              ┆ f32        ┆ f32        ┆ i32     │\n",
       "╞════════════╪══════╪═══════════╪══════╪═══╪══════════════════╪════════════╪════════════╪═════════╡\n",
       "│ 2021-01-01 ┆ 2.5  ┆ -0.2      ┆ -3.0 ┆ … ┆ 1028.900024      ┆ 50.599998  ┆ 14.0       ┆ 3       │\n",
       "│ 2021-01-02 ┆ 5.8  ┆ 3.6       ┆ 1.2  ┆ … ┆ 1012.400024      ┆ 63.900002  ┆ 12.2       ┆ 5       │\n",
       "│ 2021-01-03 ┆ 2.5  ┆ -1.6      ┆ -0.5 ┆ … ┆ 1017.0           ┆ 81.5       ┆ 13.2       ┆ 1       │\n",
       "│ 2021-01-04 ┆ 3.6  ┆ 1.1       ┆ -0.2 ┆ … ┆ 1014.599976      ┆ 89.300003  ┆ 15.6       ┆ 4       │\n",
       "│ 2021-01-05 ┆ 3.8  ┆ 1.3       ┆ -1.5 ┆ … ┆ 1013.099976      ┆ 98.800003  ┆ 16.0       ┆ 2       │\n",
       "└────────────┴──────┴───────────┴──────┴───┴──────────────────┴────────────┴────────────┴─────────┘"
      ]
     },
     "execution_count": 2,
     "metadata": {},
     "output_type": "execute_result"
    }
   ],
   "source": [
    "from my_utils.data_utils import Preprocess\n",
    "nyc = pl.read_csv(\"../data/nyc 2021-01-01 to 2021-12-31.csv\").pipe(Preprocess.reduce_memory_usage)\n",
    "nyc = nyc.drop(['preciptype','severerisk', 'name', 'address', 'resolvedAddress', 'windgust'])\n",
    "nyc = nyc.with_columns(nyc['datetime'].cast(pl.Date))\n",
    "nyc.head()"
   ]
  },
  {
   "cell_type": "code",
   "execution_count": 3,
   "metadata": {},
   "outputs": [
    {
     "name": "stderr",
     "output_type": "stream",
     "text": [
      "Processing Batches: 40it [01:55,  2.88s/it]                        \n"
     ]
    }
   ],
   "source": [
    "from tqdm import tqdm\n",
    "\n",
    "# Add tqdm to the loop to show progress\n",
    "for i, batch in tqdm(enumerate(data_ingestor), total=len(data_ingestor), desc=\"Processing Batches\"):\n",
    "    \n",
    "    # Apply Preprocessing\n",
    "    clean_batch = DataPreprocessing.preprocess(batch)\n",
    "    \n",
    "    # Join the data with the weather data\n",
    "    data = clean_batch.join(nyc, left_on='dropoff_date', right_on='datetime', how = 'inner').drop('dropoff_date')\n",
    "    \n",
    "    # Feature Engineering\n",
    "    X, y = FeatureEngineering.prepare_features_and_labels(data, label_column='trip_time')\n",
    "    \n",
    "    # Save Features and Labels as Parquet\n",
    "    X_parquet_file = f\"../processed_data/features/X_batch_{i+1}.parquet\"\n",
    "    y_parquet_file = f\"../processed_data/lables/y_batch_{i+1}.parquet\"\n",
    "    \n",
    "    pl.DataFrame(X).write_parquet(X_parquet_file)\n",
    "    pl.DataFrame(y).write_parquet(y_parquet_file)"
   ]
  },
  {
   "cell_type": "code",
   "execution_count": 4,
   "metadata": {},
   "outputs": [
    {
     "data": {
      "text/html": [
       "<div><style>\n",
       ".dataframe > thead > tr,\n",
       ".dataframe > tbody > tr {\n",
       "  text-align: right;\n",
       "  white-space: pre-wrap;\n",
       "}\n",
       "</style>\n",
       "<small>shape: (1_050_839, 26)</small><table border=\"1\" class=\"dataframe\"><thead><tr><th>PULocationID</th><th>DOLocationID</th><th>trip_miles</th><th>trip_time</th><th>base_passenger_fare</th><th>tolls</th><th>bcf</th><th>sales_tax</th><th>congestion_surcharge</th><th>tips</th><th>driver_pay</th><th>dropoff_month</th><th>temp</th><th>feelslike</th><th>dew</th><th>humidity</th><th>precip</th><th>precipprob</th><th>snow</th><th>snowdepth</th><th>windspeed</th><th>winddir</th><th>sealevelpressure</th><th>cloudcover</th><th>visibility</th><th>uvindex</th></tr><tr><td>i32</td><td>i32</td><td>f32</td><td>i32</td><td>f32</td><td>f32</td><td>f32</td><td>f32</td><td>f32</td><td>f32</td><td>f32</td><td>i8</td><td>f32</td><td>f32</td><td>f32</td><td>f32</td><td>f32</td><td>i32</td><td>f32</td><td>f32</td><td>f32</td><td>f32</td><td>f32</td><td>f32</td><td>f32</td><td>i32</td></tr></thead><tbody><tr><td>159</td><td>159</td><td>0.624</td><td>375</td><td>7.48</td><td>0.0</td><td>0.22</td><td>0.66</td><td>0.0</td><td>0.0</td><td>5.47</td><td>12</td><td>5.9</td><td>3.8</td><td>3.9</td><td>87.0</td><td>5.5</td><td>100</td><td>0.0</td><td>0.0</td><td>19.9</td><td>52.0</td><td>1012.299988</td><td>100.0</td><td>8.8</td><td>1</td></tr><tr><td>237</td><td>162</td><td>1.813</td><td>908</td><td>11.77</td><td>0.0</td><td>0.35</td><td>1.04</td><td>2.75</td><td>0.0</td><td>9.61</td><td>12</td><td>5.9</td><td>3.8</td><td>3.9</td><td>87.0</td><td>5.5</td><td>100</td><td>0.0</td><td>0.0</td><td>19.9</td><td>52.0</td><td>1012.299988</td><td>100.0</td><td>8.8</td><td>1</td></tr><tr><td>90</td><td>246</td><td>0.93</td><td>543</td><td>7.38</td><td>0.0</td><td>0.22</td><td>0.65</td><td>2.75</td><td>5.0</td><td>6.66</td><td>12</td><td>5.9</td><td>3.8</td><td>3.9</td><td>87.0</td><td>5.5</td><td>100</td><td>0.0</td><td>0.0</td><td>19.9</td><td>52.0</td><td>1012.299988</td><td>100.0</td><td>8.8</td><td>1</td></tr><tr><td>68</td><td>68</td><td>1.16</td><td>405</td><td>9.44</td><td>0.0</td><td>0.28</td><td>0.84</td><td>2.75</td><td>0.0</td><td>7.87</td><td>12</td><td>5.9</td><td>3.8</td><td>3.9</td><td>87.0</td><td>5.5</td><td>100</td><td>0.0</td><td>0.0</td><td>19.9</td><td>52.0</td><td>1012.299988</td><td>100.0</td><td>8.8</td><td>1</td></tr><tr><td>246</td><td>48</td><td>1.16</td><td>437</td><td>7.91</td><td>0.0</td><td>0.24</td><td>0.7</td><td>2.75</td><td>0.0</td><td>6.47</td><td>12</td><td>5.9</td><td>3.8</td><td>3.9</td><td>87.0</td><td>5.5</td><td>100</td><td>0.0</td><td>0.0</td><td>19.9</td><td>52.0</td><td>1012.299988</td><td>100.0</td><td>8.8</td><td>1</td></tr><tr><td>&hellip;</td><td>&hellip;</td><td>&hellip;</td><td>&hellip;</td><td>&hellip;</td><td>&hellip;</td><td>&hellip;</td><td>&hellip;</td><td>&hellip;</td><td>&hellip;</td><td>&hellip;</td><td>&hellip;</td><td>&hellip;</td><td>&hellip;</td><td>&hellip;</td><td>&hellip;</td><td>&hellip;</td><td>&hellip;</td><td>&hellip;</td><td>&hellip;</td><td>&hellip;</td><td>&hellip;</td><td>&hellip;</td><td>&hellip;</td><td>&hellip;</td><td>&hellip;</td></tr><tr><td>79</td><td>87</td><td>3.02</td><td>1003</td><td>13.07</td><td>0.0</td><td>0.39</td><td>1.16</td><td>2.75</td><td>0.0</td><td>13.59</td><td>12</td><td>10.3</td><td>10.2</td><td>7.8</td><td>84.300003</td><td>0.05</td><td>100</td><td>0.0</td><td>0.0</td><td>12.0</td><td>223.0</td><td>1013.700012</td><td>96.099998</td><td>11.1</td><td>3</td></tr><tr><td>216</td><td>180</td><td>1.378</td><td>502</td><td>8.49</td><td>0.0</td><td>0.25</td><td>0.75</td><td>0.0</td><td>0.0</td><td>5.74</td><td>12</td><td>10.3</td><td>10.2</td><td>7.8</td><td>84.300003</td><td>0.05</td><td>100</td><td>0.0</td><td>0.0</td><td>12.0</td><td>223.0</td><td>1013.700012</td><td>96.099998</td><td>11.1</td><td>3</td></tr><tr><td>180</td><td>197</td><td>1.516</td><td>373</td><td>8.81</td><td>0.0</td><td>0.26</td><td>0.78</td><td>0.0</td><td>0.0</td><td>5.47</td><td>12</td><td>10.3</td><td>10.2</td><td>7.8</td><td>84.300003</td><td>0.05</td><td>100</td><td>0.0</td><td>0.0</td><td>12.0</td><td>223.0</td><td>1013.700012</td><td>96.099998</td><td>11.1</td><td>3</td></tr><tr><td>216</td><td>216</td><td>0.935</td><td>230</td><td>7.51</td><td>0.0</td><td>0.23</td><td>0.67</td><td>0.0</td><td>0.0</td><td>5.47</td><td>12</td><td>10.3</td><td>10.2</td><td>7.8</td><td>84.300003</td><td>0.05</td><td>100</td><td>0.0</td><td>0.0</td><td>12.0</td><td>223.0</td><td>1013.700012</td><td>96.099998</td><td>11.1</td><td>3</td></tr><tr><td>235</td><td>69</td><td>2.41</td><td>855</td><td>14.23</td><td>0.0</td><td>0.43</td><td>1.26</td><td>0.0</td><td>0.0</td><td>11.7</td><td>12</td><td>10.3</td><td>10.2</td><td>7.8</td><td>84.300003</td><td>0.05</td><td>100</td><td>0.0</td><td>0.0</td><td>12.0</td><td>223.0</td><td>1013.700012</td><td>96.099998</td><td>11.1</td><td>3</td></tr></tbody></table></div>"
      ],
      "text/plain": [
       "shape: (1_050_839, 26)\n",
       "┌────────────┬───────────┬───────────┬───────────┬───┬───────────┬───────────┬───────────┬─────────┐\n",
       "│ PULocation ┆ DOLocatio ┆ trip_mile ┆ trip_time ┆ … ┆ sealevelp ┆ cloudcove ┆ visibilit ┆ uvindex │\n",
       "│ ID         ┆ nID       ┆ s         ┆ ---       ┆   ┆ ressure   ┆ r         ┆ y         ┆ ---     │\n",
       "│ ---        ┆ ---       ┆ ---       ┆ i32       ┆   ┆ ---       ┆ ---       ┆ ---       ┆ i32     │\n",
       "│ i32        ┆ i32       ┆ f32       ┆           ┆   ┆ f32       ┆ f32       ┆ f32       ┆         │\n",
       "╞════════════╪═══════════╪═══════════╪═══════════╪═══╪═══════════╪═══════════╪═══════════╪═════════╡\n",
       "│ 159        ┆ 159       ┆ 0.624     ┆ 375       ┆ … ┆ 1012.2999 ┆ 100.0     ┆ 8.8       ┆ 1       │\n",
       "│            ┆           ┆           ┆           ┆   ┆ 88        ┆           ┆           ┆         │\n",
       "│ 237        ┆ 162       ┆ 1.813     ┆ 908       ┆ … ┆ 1012.2999 ┆ 100.0     ┆ 8.8       ┆ 1       │\n",
       "│            ┆           ┆           ┆           ┆   ┆ 88        ┆           ┆           ┆         │\n",
       "│ 90         ┆ 246       ┆ 0.93      ┆ 543       ┆ … ┆ 1012.2999 ┆ 100.0     ┆ 8.8       ┆ 1       │\n",
       "│            ┆           ┆           ┆           ┆   ┆ 88        ┆           ┆           ┆         │\n",
       "│ 68         ┆ 68        ┆ 1.16      ┆ 405       ┆ … ┆ 1012.2999 ┆ 100.0     ┆ 8.8       ┆ 1       │\n",
       "│            ┆           ┆           ┆           ┆   ┆ 88        ┆           ┆           ┆         │\n",
       "│ 246        ┆ 48        ┆ 1.16      ┆ 437       ┆ … ┆ 1012.2999 ┆ 100.0     ┆ 8.8       ┆ 1       │\n",
       "│            ┆           ┆           ┆           ┆   ┆ 88        ┆           ┆           ┆         │\n",
       "│ …          ┆ …         ┆ …         ┆ …         ┆ … ┆ …         ┆ …         ┆ …         ┆ …       │\n",
       "│ 79         ┆ 87        ┆ 3.02      ┆ 1003      ┆ … ┆ 1013.7000 ┆ 96.099998 ┆ 11.1      ┆ 3       │\n",
       "│            ┆           ┆           ┆           ┆   ┆ 12        ┆           ┆           ┆         │\n",
       "│ 216        ┆ 180       ┆ 1.378     ┆ 502       ┆ … ┆ 1013.7000 ┆ 96.099998 ┆ 11.1      ┆ 3       │\n",
       "│            ┆           ┆           ┆           ┆   ┆ 12        ┆           ┆           ┆         │\n",
       "│ 180        ┆ 197       ┆ 1.516     ┆ 373       ┆ … ┆ 1013.7000 ┆ 96.099998 ┆ 11.1      ┆ 3       │\n",
       "│            ┆           ┆           ┆           ┆   ┆ 12        ┆           ┆           ┆         │\n",
       "│ 216        ┆ 216       ┆ 0.935     ┆ 230       ┆ … ┆ 1013.7000 ┆ 96.099998 ┆ 11.1      ┆ 3       │\n",
       "│            ┆           ┆           ┆           ┆   ┆ 12        ┆           ┆           ┆         │\n",
       "│ 235        ┆ 69        ┆ 2.41      ┆ 855       ┆ … ┆ 1013.7000 ┆ 96.099998 ┆ 11.1      ┆ 3       │\n",
       "│            ┆           ┆           ┆           ┆   ┆ 12        ┆           ┆           ┆         │\n",
       "└────────────┴───────────┴───────────┴───────────┴───┴───────────┴───────────┴───────────┴─────────┘"
      ]
     },
     "execution_count": 4,
     "metadata": {},
     "output_type": "execute_result"
    }
   ],
   "source": [
    "data"
   ]
  },
  {
   "cell_type": "code",
   "execution_count": 5,
   "metadata": {},
   "outputs": [
    {
     "name": "stderr",
     "output_type": "stream",
     "text": [
      "Training Batches: 100%|██████████| 40/40 [01:45<00:00,  2.63s/batch]\n"
     ]
    },
    {
     "name": "stdout",
     "output_type": "stream",
     "text": [
      "✅ Training Complete!\n"
     ]
    },
    {
     "data": {
      "text/plain": [
       "0.7742801706715858"
      ]
     },
     "execution_count": 5,
     "metadata": {},
     "output_type": "execute_result"
    }
   ],
   "source": [
    "import polars as pl\n",
    "from sklearn.linear_model import SGDRegressor\n",
    "from sklearn.preprocessing import StandardScaler\n",
    "import os\n",
    "\n",
    "# Initialize the model and scaler\n",
    "model = SGDRegressor()\n",
    "scaler = StandardScaler()\n",
    "\n",
    "# List all batch files\n",
    "X_files = sorted([f\"../processed_data/features/{f}\" for f in os.listdir('../processed_data/features') if f.endswith('.parquet')])\n",
    "y_files = sorted([f\"../processed_data/lables/{f}\" for f in os.listdir('../processed_data/lables') if f.endswith('.parquet')])\n",
    "\n",
    "# Ensure both lists are aligned\n",
    "assert len(X_files) == len(y_files), \"Mismatch between X and y batch files\"\n",
    "\n",
    "# Train on batches\n",
    "for X_file, y_file in tqdm(zip(X_files, y_files), total=len(X_files), desc=\"Training Batches\", unit=\"batch\"):\n",
    "    \n",
    "    # Load batch\n",
    "    X_batch = pl.read_parquet(X_file).to_pandas()\n",
    "    y_batch = pl.read_parquet(y_file).to_pandas().squeeze()  # Convert to Series\n",
    "    \n",
    "    # Scale features\n",
    "    X_batch = scaler.fit_transform(X_batch) if not hasattr(scaler, 'mean_') else scaler.transform(X_batch)\n",
    "    \n",
    "    # Partial fit with batch\n",
    "    model.partial_fit(X_batch, y_batch)\n",
    "    \n",
    "print(\"✅ Training Complete!\")\n",
    "model.score(X_batch, y_batch)"
   ]
  },
  {
   "cell_type": "code",
   "execution_count": 6,
   "metadata": {},
   "outputs": [
    {
     "name": "stdout",
     "output_type": "stream",
     "text": [
      "✅ Model and Scaler Saved!\n",
      "📉 Mean Squared Error: 107929.35033149832\n",
      "📈 R^2 Score: 0.7169086920778152\n"
     ]
    }
   ],
   "source": [
    "import joblib\n",
    "\n",
    "joblib.dump(model, '../models/linear_regression_model.pkl')\n",
    "joblib.dump(scaler, '../models/scaler.pkl')\n",
    "print(\"✅ Model and Scaler Saved!\")\n",
    "model = joblib.load('../models/linear_regression_model.pkl')\n",
    "scaler = joblib.load('../models/scaler.pkl')\n",
    "\n",
    "# Example Test Batch\n",
    "X_test = pl.read_parquet('../processed_data/features/X_batch_1.parquet').to_pandas()\n",
    "y_test = pl.read_parquet('../processed_data/lables/y_batch_1.parquet').to_pandas().squeeze()\n",
    "\n",
    "# Scale Test Data\n",
    "X_test = scaler.transform(X_test)\n",
    "\n",
    "# Predict\n",
    "y_pred = model.predict(X_test)\n",
    "\n",
    "# Evaluate\n",
    "from sklearn.metrics import mean_squared_error, r2_score\n",
    "\n",
    "mse = mean_squared_error(y_test, y_pred)\n",
    "r2 = r2_score(y_test, y_pred)\n",
    "\n",
    "print(f\"📉 Mean Squared Error: {mse}\")\n",
    "print(f\"📈 R^2 Score: {r2}\")"
   ]
  },
  {
   "cell_type": "code",
   "execution_count": 8,
   "metadata": {},
   "outputs": [
    {
     "name": "stderr",
     "output_type": "stream",
     "text": [
      "Evaluating on Test Set:   0%|          | 0/8 [00:01<?, ?batch/s]\n"
     ]
    },
    {
     "ename": "RuntimeError",
     "evalue": "running_mean should contain 5000000 elements not 10",
     "output_type": "error",
     "traceback": [
      "\u001b[1;31m---------------------------------------------------------------------------\u001b[0m",
      "\u001b[1;31mRuntimeError\u001b[0m                              Traceback (most recent call last)",
      "Cell \u001b[1;32mIn[8], line 143\u001b[0m\n\u001b[0;32m    141\u001b[0m \u001b[38;5;28;01mfor\u001b[39;00m X_batch, y_batch \u001b[38;5;129;01min\u001b[39;00m tqdm(test_dataloader, desc\u001b[38;5;241m=\u001b[39m\u001b[38;5;124m\"\u001b[39m\u001b[38;5;124mEvaluating on Test Set\u001b[39m\u001b[38;5;124m\"\u001b[39m, unit\u001b[38;5;241m=\u001b[39m\u001b[38;5;124m\"\u001b[39m\u001b[38;5;124mbatch\u001b[39m\u001b[38;5;124m\"\u001b[39m):\n\u001b[0;32m    142\u001b[0m     X_batch, y_batch \u001b[38;5;241m=\u001b[39m X_batch\u001b[38;5;241m.\u001b[39mto(device), y_batch\u001b[38;5;241m.\u001b[39mto(device)\n\u001b[1;32m--> 143\u001b[0m     outputs \u001b[38;5;241m=\u001b[39m \u001b[43mmodel\u001b[49m\u001b[43m(\u001b[49m\u001b[43mX_batch\u001b[49m\u001b[43m)\u001b[49m\n\u001b[0;32m    145\u001b[0m     preds \u001b[38;5;241m=\u001b[39m outputs\u001b[38;5;241m.\u001b[39mcpu()\u001b[38;5;241m.\u001b[39mnumpy()\u001b[38;5;241m.\u001b[39mreshape(\u001b[38;5;241m-\u001b[39m\u001b[38;5;241m1\u001b[39m, \u001b[38;5;241m1\u001b[39m)\n\u001b[0;32m    146\u001b[0m     targs \u001b[38;5;241m=\u001b[39m y_batch\u001b[38;5;241m.\u001b[39mcpu()\u001b[38;5;241m.\u001b[39mnumpy()\u001b[38;5;241m.\u001b[39mreshape(\u001b[38;5;241m-\u001b[39m\u001b[38;5;241m1\u001b[39m, \u001b[38;5;241m1\u001b[39m)\n",
      "File \u001b[1;32mc:\\Users\\chavv\\anaconda\\envs\\nlp\\lib\\site-packages\\torch\\nn\\modules\\module.py:1532\u001b[0m, in \u001b[0;36mModule._wrapped_call_impl\u001b[1;34m(self, *args, **kwargs)\u001b[0m\n\u001b[0;32m   1530\u001b[0m     \u001b[38;5;28;01mreturn\u001b[39;00m \u001b[38;5;28mself\u001b[39m\u001b[38;5;241m.\u001b[39m_compiled_call_impl(\u001b[38;5;241m*\u001b[39margs, \u001b[38;5;241m*\u001b[39m\u001b[38;5;241m*\u001b[39mkwargs)  \u001b[38;5;66;03m# type: ignore[misc]\u001b[39;00m\n\u001b[0;32m   1531\u001b[0m \u001b[38;5;28;01melse\u001b[39;00m:\n\u001b[1;32m-> 1532\u001b[0m     \u001b[38;5;28;01mreturn\u001b[39;00m \u001b[38;5;28mself\u001b[39m\u001b[38;5;241m.\u001b[39m_call_impl(\u001b[38;5;241m*\u001b[39margs, \u001b[38;5;241m*\u001b[39m\u001b[38;5;241m*\u001b[39mkwargs)\n",
      "File \u001b[1;32mc:\\Users\\chavv\\anaconda\\envs\\nlp\\lib\\site-packages\\torch\\nn\\modules\\module.py:1541\u001b[0m, in \u001b[0;36mModule._call_impl\u001b[1;34m(self, *args, **kwargs)\u001b[0m\n\u001b[0;32m   1536\u001b[0m \u001b[38;5;66;03m# If we don't have any hooks, we want to skip the rest of the logic in\u001b[39;00m\n\u001b[0;32m   1537\u001b[0m \u001b[38;5;66;03m# this function, and just call forward.\u001b[39;00m\n\u001b[0;32m   1538\u001b[0m \u001b[38;5;28;01mif\u001b[39;00m \u001b[38;5;129;01mnot\u001b[39;00m (\u001b[38;5;28mself\u001b[39m\u001b[38;5;241m.\u001b[39m_backward_hooks \u001b[38;5;129;01mor\u001b[39;00m \u001b[38;5;28mself\u001b[39m\u001b[38;5;241m.\u001b[39m_backward_pre_hooks \u001b[38;5;129;01mor\u001b[39;00m \u001b[38;5;28mself\u001b[39m\u001b[38;5;241m.\u001b[39m_forward_hooks \u001b[38;5;129;01mor\u001b[39;00m \u001b[38;5;28mself\u001b[39m\u001b[38;5;241m.\u001b[39m_forward_pre_hooks\n\u001b[0;32m   1539\u001b[0m         \u001b[38;5;129;01mor\u001b[39;00m _global_backward_pre_hooks \u001b[38;5;129;01mor\u001b[39;00m _global_backward_hooks\n\u001b[0;32m   1540\u001b[0m         \u001b[38;5;129;01mor\u001b[39;00m _global_forward_hooks \u001b[38;5;129;01mor\u001b[39;00m _global_forward_pre_hooks):\n\u001b[1;32m-> 1541\u001b[0m     \u001b[38;5;28;01mreturn\u001b[39;00m forward_call(\u001b[38;5;241m*\u001b[39margs, \u001b[38;5;241m*\u001b[39m\u001b[38;5;241m*\u001b[39mkwargs)\n\u001b[0;32m   1543\u001b[0m \u001b[38;5;28;01mtry\u001b[39;00m:\n\u001b[0;32m   1544\u001b[0m     result \u001b[38;5;241m=\u001b[39m \u001b[38;5;28;01mNone\u001b[39;00m\n",
      "Cell \u001b[1;32mIn[7], line 61\u001b[0m, in \u001b[0;36mSimpleMLP.forward\u001b[1;34m(self, x)\u001b[0m\n\u001b[0;32m     59\u001b[0m \u001b[38;5;28;01mdef\u001b[39;00m \u001b[38;5;21mforward\u001b[39m(\u001b[38;5;28mself\u001b[39m, x):\n\u001b[0;32m     60\u001b[0m     x \u001b[38;5;241m=\u001b[39m \u001b[38;5;28mself\u001b[39m\u001b[38;5;241m.\u001b[39mrelu(\u001b[38;5;28mself\u001b[39m\u001b[38;5;241m.\u001b[39mhidden1(x))\n\u001b[1;32m---> 61\u001b[0m     x \u001b[38;5;241m=\u001b[39m \u001b[38;5;28;43mself\u001b[39;49m\u001b[38;5;241;43m.\u001b[39;49m\u001b[43mbn1\u001b[49m\u001b[43m(\u001b[49m\u001b[43mx\u001b[49m\u001b[43m)\u001b[49m\n\u001b[0;32m     62\u001b[0m     x \u001b[38;5;241m=\u001b[39m \u001b[38;5;28mself\u001b[39m\u001b[38;5;241m.\u001b[39mdropout(x)\n\u001b[0;32m     63\u001b[0m     x \u001b[38;5;241m=\u001b[39m \u001b[38;5;28mself\u001b[39m\u001b[38;5;241m.\u001b[39mrelu(\u001b[38;5;28mself\u001b[39m\u001b[38;5;241m.\u001b[39mhidden2(x))\n",
      "File \u001b[1;32mc:\\Users\\chavv\\anaconda\\envs\\nlp\\lib\\site-packages\\torch\\nn\\modules\\module.py:1532\u001b[0m, in \u001b[0;36mModule._wrapped_call_impl\u001b[1;34m(self, *args, **kwargs)\u001b[0m\n\u001b[0;32m   1530\u001b[0m     \u001b[38;5;28;01mreturn\u001b[39;00m \u001b[38;5;28mself\u001b[39m\u001b[38;5;241m.\u001b[39m_compiled_call_impl(\u001b[38;5;241m*\u001b[39margs, \u001b[38;5;241m*\u001b[39m\u001b[38;5;241m*\u001b[39mkwargs)  \u001b[38;5;66;03m# type: ignore[misc]\u001b[39;00m\n\u001b[0;32m   1531\u001b[0m \u001b[38;5;28;01melse\u001b[39;00m:\n\u001b[1;32m-> 1532\u001b[0m     \u001b[38;5;28;01mreturn\u001b[39;00m \u001b[38;5;28mself\u001b[39m\u001b[38;5;241m.\u001b[39m_call_impl(\u001b[38;5;241m*\u001b[39margs, \u001b[38;5;241m*\u001b[39m\u001b[38;5;241m*\u001b[39mkwargs)\n",
      "File \u001b[1;32mc:\\Users\\chavv\\anaconda\\envs\\nlp\\lib\\site-packages\\torch\\nn\\modules\\module.py:1541\u001b[0m, in \u001b[0;36mModule._call_impl\u001b[1;34m(self, *args, **kwargs)\u001b[0m\n\u001b[0;32m   1536\u001b[0m \u001b[38;5;66;03m# If we don't have any hooks, we want to skip the rest of the logic in\u001b[39;00m\n\u001b[0;32m   1537\u001b[0m \u001b[38;5;66;03m# this function, and just call forward.\u001b[39;00m\n\u001b[0;32m   1538\u001b[0m \u001b[38;5;28;01mif\u001b[39;00m \u001b[38;5;129;01mnot\u001b[39;00m (\u001b[38;5;28mself\u001b[39m\u001b[38;5;241m.\u001b[39m_backward_hooks \u001b[38;5;129;01mor\u001b[39;00m \u001b[38;5;28mself\u001b[39m\u001b[38;5;241m.\u001b[39m_backward_pre_hooks \u001b[38;5;129;01mor\u001b[39;00m \u001b[38;5;28mself\u001b[39m\u001b[38;5;241m.\u001b[39m_forward_hooks \u001b[38;5;129;01mor\u001b[39;00m \u001b[38;5;28mself\u001b[39m\u001b[38;5;241m.\u001b[39m_forward_pre_hooks\n\u001b[0;32m   1539\u001b[0m         \u001b[38;5;129;01mor\u001b[39;00m _global_backward_pre_hooks \u001b[38;5;129;01mor\u001b[39;00m _global_backward_hooks\n\u001b[0;32m   1540\u001b[0m         \u001b[38;5;129;01mor\u001b[39;00m _global_forward_hooks \u001b[38;5;129;01mor\u001b[39;00m _global_forward_pre_hooks):\n\u001b[1;32m-> 1541\u001b[0m     \u001b[38;5;28;01mreturn\u001b[39;00m forward_call(\u001b[38;5;241m*\u001b[39margs, \u001b[38;5;241m*\u001b[39m\u001b[38;5;241m*\u001b[39mkwargs)\n\u001b[0;32m   1543\u001b[0m \u001b[38;5;28;01mtry\u001b[39;00m:\n\u001b[0;32m   1544\u001b[0m     result \u001b[38;5;241m=\u001b[39m \u001b[38;5;28;01mNone\u001b[39;00m\n",
      "File \u001b[1;32mc:\\Users\\chavv\\anaconda\\envs\\nlp\\lib\\site-packages\\torch\\nn\\modules\\batchnorm.py:175\u001b[0m, in \u001b[0;36m_BatchNorm.forward\u001b[1;34m(self, input)\u001b[0m\n\u001b[0;32m    168\u001b[0m     bn_training \u001b[38;5;241m=\u001b[39m (\u001b[38;5;28mself\u001b[39m\u001b[38;5;241m.\u001b[39mrunning_mean \u001b[38;5;129;01mis\u001b[39;00m \u001b[38;5;28;01mNone\u001b[39;00m) \u001b[38;5;129;01mand\u001b[39;00m (\u001b[38;5;28mself\u001b[39m\u001b[38;5;241m.\u001b[39mrunning_var \u001b[38;5;129;01mis\u001b[39;00m \u001b[38;5;28;01mNone\u001b[39;00m)\n\u001b[0;32m    170\u001b[0m \u001b[38;5;250m\u001b[39m\u001b[38;5;124mr\u001b[39m\u001b[38;5;124;03m\"\"\"\u001b[39;00m\n\u001b[0;32m    171\u001b[0m \u001b[38;5;124;03mBuffers are only updated if they are to be tracked and we are in training mode. Thus they only need to be\u001b[39;00m\n\u001b[0;32m    172\u001b[0m \u001b[38;5;124;03mpassed when the update should occur (i.e. in training mode when they are tracked), or when buffer stats are\u001b[39;00m\n\u001b[0;32m    173\u001b[0m \u001b[38;5;124;03mused for normalization (i.e. in eval mode when buffers are not None).\u001b[39;00m\n\u001b[0;32m    174\u001b[0m \u001b[38;5;124;03m\"\"\"\u001b[39;00m\n\u001b[1;32m--> 175\u001b[0m \u001b[38;5;28;01mreturn\u001b[39;00m \u001b[43mF\u001b[49m\u001b[38;5;241;43m.\u001b[39;49m\u001b[43mbatch_norm\u001b[49m\u001b[43m(\u001b[49m\n\u001b[0;32m    176\u001b[0m \u001b[43m    \u001b[49m\u001b[38;5;28;43minput\u001b[39;49m\u001b[43m,\u001b[49m\n\u001b[0;32m    177\u001b[0m \u001b[43m    \u001b[49m\u001b[38;5;66;43;03m# If buffers are not to be tracked, ensure that they won't be updated\u001b[39;49;00m\n\u001b[0;32m    178\u001b[0m \u001b[43m    \u001b[49m\u001b[38;5;28;43mself\u001b[39;49m\u001b[38;5;241;43m.\u001b[39;49m\u001b[43mrunning_mean\u001b[49m\n\u001b[0;32m    179\u001b[0m \u001b[43m    \u001b[49m\u001b[38;5;28;43;01mif\u001b[39;49;00m\u001b[43m \u001b[49m\u001b[38;5;129;43;01mnot\u001b[39;49;00m\u001b[43m \u001b[49m\u001b[38;5;28;43mself\u001b[39;49m\u001b[38;5;241;43m.\u001b[39;49m\u001b[43mtraining\u001b[49m\u001b[43m \u001b[49m\u001b[38;5;129;43;01mor\u001b[39;49;00m\u001b[43m \u001b[49m\u001b[38;5;28;43mself\u001b[39;49m\u001b[38;5;241;43m.\u001b[39;49m\u001b[43mtrack_running_stats\u001b[49m\n\u001b[0;32m    180\u001b[0m \u001b[43m    \u001b[49m\u001b[38;5;28;43;01melse\u001b[39;49;00m\u001b[43m \u001b[49m\u001b[38;5;28;43;01mNone\u001b[39;49;00m\u001b[43m,\u001b[49m\n\u001b[0;32m    181\u001b[0m \u001b[43m    \u001b[49m\u001b[38;5;28;43mself\u001b[39;49m\u001b[38;5;241;43m.\u001b[39;49m\u001b[43mrunning_var\u001b[49m\u001b[43m \u001b[49m\u001b[38;5;28;43;01mif\u001b[39;49;00m\u001b[43m \u001b[49m\u001b[38;5;129;43;01mnot\u001b[39;49;00m\u001b[43m \u001b[49m\u001b[38;5;28;43mself\u001b[39;49m\u001b[38;5;241;43m.\u001b[39;49m\u001b[43mtraining\u001b[49m\u001b[43m \u001b[49m\u001b[38;5;129;43;01mor\u001b[39;49;00m\u001b[43m \u001b[49m\u001b[38;5;28;43mself\u001b[39;49m\u001b[38;5;241;43m.\u001b[39;49m\u001b[43mtrack_running_stats\u001b[49m\u001b[43m \u001b[49m\u001b[38;5;28;43;01melse\u001b[39;49;00m\u001b[43m \u001b[49m\u001b[38;5;28;43;01mNone\u001b[39;49;00m\u001b[43m,\u001b[49m\n\u001b[0;32m    182\u001b[0m \u001b[43m    \u001b[49m\u001b[38;5;28;43mself\u001b[39;49m\u001b[38;5;241;43m.\u001b[39;49m\u001b[43mweight\u001b[49m\u001b[43m,\u001b[49m\n\u001b[0;32m    183\u001b[0m \u001b[43m    \u001b[49m\u001b[38;5;28;43mself\u001b[39;49m\u001b[38;5;241;43m.\u001b[39;49m\u001b[43mbias\u001b[49m\u001b[43m,\u001b[49m\n\u001b[0;32m    184\u001b[0m \u001b[43m    \u001b[49m\u001b[43mbn_training\u001b[49m\u001b[43m,\u001b[49m\n\u001b[0;32m    185\u001b[0m \u001b[43m    \u001b[49m\u001b[43mexponential_average_factor\u001b[49m\u001b[43m,\u001b[49m\n\u001b[0;32m    186\u001b[0m \u001b[43m    \u001b[49m\u001b[38;5;28;43mself\u001b[39;49m\u001b[38;5;241;43m.\u001b[39;49m\u001b[43meps\u001b[49m\u001b[43m,\u001b[49m\n\u001b[0;32m    187\u001b[0m \u001b[43m\u001b[49m\u001b[43m)\u001b[49m\n",
      "File \u001b[1;32mc:\\Users\\chavv\\anaconda\\envs\\nlp\\lib\\site-packages\\torch\\nn\\functional.py:2509\u001b[0m, in \u001b[0;36mbatch_norm\u001b[1;34m(input, running_mean, running_var, weight, bias, training, momentum, eps)\u001b[0m\n\u001b[0;32m   2506\u001b[0m \u001b[38;5;28;01mif\u001b[39;00m training:\n\u001b[0;32m   2507\u001b[0m     _verify_batch_size(\u001b[38;5;28minput\u001b[39m\u001b[38;5;241m.\u001b[39msize())\n\u001b[1;32m-> 2509\u001b[0m \u001b[38;5;28;01mreturn\u001b[39;00m \u001b[43mtorch\u001b[49m\u001b[38;5;241;43m.\u001b[39;49m\u001b[43mbatch_norm\u001b[49m\u001b[43m(\u001b[49m\n\u001b[0;32m   2510\u001b[0m \u001b[43m    \u001b[49m\u001b[38;5;28;43minput\u001b[39;49m\u001b[43m,\u001b[49m\u001b[43m \u001b[49m\u001b[43mweight\u001b[49m\u001b[43m,\u001b[49m\u001b[43m \u001b[49m\u001b[43mbias\u001b[49m\u001b[43m,\u001b[49m\u001b[43m \u001b[49m\u001b[43mrunning_mean\u001b[49m\u001b[43m,\u001b[49m\u001b[43m \u001b[49m\u001b[43mrunning_var\u001b[49m\u001b[43m,\u001b[49m\u001b[43m \u001b[49m\u001b[43mtraining\u001b[49m\u001b[43m,\u001b[49m\u001b[43m \u001b[49m\u001b[43mmomentum\u001b[49m\u001b[43m,\u001b[49m\u001b[43m \u001b[49m\u001b[43meps\u001b[49m\u001b[43m,\u001b[49m\u001b[43m \u001b[49m\u001b[43mtorch\u001b[49m\u001b[38;5;241;43m.\u001b[39;49m\u001b[43mbackends\u001b[49m\u001b[38;5;241;43m.\u001b[39;49m\u001b[43mcudnn\u001b[49m\u001b[38;5;241;43m.\u001b[39;49m\u001b[43menabled\u001b[49m\n\u001b[0;32m   2511\u001b[0m \u001b[43m\u001b[49m\u001b[43m)\u001b[49m\n",
      "\u001b[1;31mRuntimeError\u001b[0m: running_mean should contain 5000000 elements not 10"
     ]
    }
   ],
   "source": [
    "# import polars as pl\n",
    "# import torch\n",
    "# import torch.nn as nn\n",
    "# import torch.optim as optim\n",
    "# from torch.utils.data import Dataset, DataLoader, random_split\n",
    "# from sklearn.preprocessing import StandardScaler\n",
    "# from sklearn.metrics import mean_squared_error, r2_score\n",
    "# import os\n",
    "# import numpy as np\n",
    "# from tqdm import tqdm\n",
    "\n",
    "# # Check for GPU\n",
    "# device = torch.device(\"cuda\" if torch.cuda.is_available() else \"cpu\")\n",
    "# print(f\"Using device: {device}\")\n",
    "\n",
    "\n",
    "# # 1. Define the Dataset Class\n",
    "# class PolarsDataset(Dataset):\n",
    "#     def __init__(self, X_files, y_files, scaler=None):\n",
    "#         self.X_files = X_files\n",
    "#         self.y_files = y_files\n",
    "#         self.scaler = scaler or StandardScaler()\n",
    "#         self.fitted = False  # Track if the scaler is fitted\n",
    "\n",
    "#     def __len__(self):\n",
    "#         return len(self.X_files)\n",
    "\n",
    "#     def __getitem__(self, idx):\n",
    "#         # Load a single batch\n",
    "#         X_batch = pl.read_parquet(self.X_files[idx]).to_pandas()\n",
    "#         y_batch = pl.read_parquet(self.y_files[idx]).to_pandas().squeeze()\n",
    "        \n",
    "#         # Standardize features\n",
    "#         if not self.fitted:\n",
    "#             X_batch = self.scaler.fit_transform(X_batch)\n",
    "#             self.fitted = True\n",
    "#         else:\n",
    "#             X_batch = self.scaler.transform(X_batch)\n",
    "        \n",
    "#         X_tensor = torch.tensor(X_batch, dtype=torch.float32)\n",
    "#         y_tensor = torch.tensor(y_batch.values, dtype=torch.float32).unsqueeze(1)\n",
    "        \n",
    "#         return X_tensor, y_tensor\n",
    "\n",
    "\n",
    "# # 2. Define the PyTorch Model\n",
    "# class SimpleMLP(nn.Module):\n",
    "#     def __init__(self, input_size):\n",
    "#         super(SimpleMLP, self).__init__()\n",
    "#         self.hidden1 = nn.Linear(input_size, 10)\n",
    "#         self.hidden2 = nn.Linear(10, 5)\n",
    "#         self.output = nn.Linear(5, 1)\n",
    "#         self.relu = nn.ReLU()\n",
    "#         self.bn1 = nn.BatchNorm1d(10)\n",
    "#         self.dropout = nn.Dropout(0.2)\n",
    "#         self.bn2 = nn.BatchNorm1d(5)\n",
    "#         self.bn3 = nn.BatchNorm1d(1)\n",
    "        \n",
    "#     def forward(self, x):\n",
    "#         x = self.relu(self.hidden1(x))\n",
    "#         x = self.bn1(x)\n",
    "#         x = self.dropout(x)\n",
    "#         x = self.relu(self.hidden2(x))\n",
    "#         x = self.bn2(x)\n",
    "#         x = self.dropout(x)\n",
    "#         return self.output(x)\n",
    "\n",
    "\n",
    "# # 3. List all batch files\n",
    "# X_files = sorted([f\"../processed_data/features/{f}\" for f in os.listdir('../processed_data/features') if f.endswith('.parquet')])\n",
    "# y_files = sorted([f\"../processed_data/lables/{f}\" for f in os.listdir('../processed_data/lables') if f.endswith('.parquet')])\n",
    "# assert len(X_files) == len(y_files), \"Mismatch between X and y batch files\"\n",
    "\n",
    "\n",
    "# # 4. Initialize Dataset and Split into Train/Test\n",
    "# scaler = StandardScaler()\n",
    "# dataset = PolarsDataset(X_files, y_files, scaler)\n",
    "\n",
    "# train_size = int(0.8 * len(dataset))\n",
    "# test_size = len(dataset) - train_size\n",
    "# train_dataset, test_dataset = random_split(dataset, [train_size, test_size])\n",
    "\n",
    "# train_dataloader = DataLoader(train_dataset, batch_size=1, shuffle=True)\n",
    "# test_dataloader = DataLoader(test_dataset, batch_size=1, shuffle=False)\n",
    "\n",
    "\n",
    "# # 5. Initialize Model, Loss, and Optimizer\n",
    "# input_size = pl.read_parquet(X_files[0]).shape[1]\n",
    "# model = SimpleMLP(input_size).to(device)\n",
    "# criterion = nn.MSELoss()\n",
    "# optimizer = optim.Adam(model.parameters(), lr=0.3)\n",
    "\n",
    "\n",
    "# # 6. Training Loop with Multiple Epochs\n",
    "# EPOCHS = 20  # Number of epochs\n",
    "\n",
    "# for epoch in range(EPOCHS):\n",
    "#     model.train()\n",
    "#     epoch_loss = 0.0\n",
    "#     all_preds = []\n",
    "#     all_targets = []\n",
    "    \n",
    "#     for batch_idx, (X_batch, y_batch) in enumerate(tqdm(train_dataloader, desc=f\"Epoch {epoch+1}/{EPOCHS}\", unit=\"batch\")):\n",
    "#         # Squeeze out the extra dimension\n",
    "#         X_batch = X_batch.squeeze(0)\n",
    "#         y_batch = y_batch.squeeze(0)\n",
    "#         X_batch, y_batch = X_batch.to(device), y_batch.to(device)\n",
    "        \n",
    "#         # Forward Pass\n",
    "#         optimizer.zero_grad()\n",
    "#         outputs = model(X_batch)\n",
    "#         loss = criterion(outputs, y_batch)\n",
    "            \n",
    "#         # Backward Pass\n",
    "#         loss.backward()\n",
    "#         optimizer.step()\n",
    "        \n",
    "#         epoch_loss += loss.item()\n",
    "        \n",
    "#         # Store predictions and targets for R² score\n",
    "#         preds = outputs.detach().cpu().numpy().reshape(-1, 1)\n",
    "#         targs = y_batch.detach().cpu().numpy().reshape(-1, 1)\n",
    "#         all_preds.append(preds)\n",
    "#         all_targets.append(targs)\n",
    "    \n",
    "#     # Calculate average loss and R² score\n",
    "#     avg_loss = epoch_loss / len(train_dataloader)\n",
    "#     all_preds = np.vstack(all_preds)\n",
    "#     all_targets = np.vstack(all_targets)\n",
    "#     r2 = r2_score(all_targets, all_preds)\n",
    "    \n",
    "#     print(f\"Epoch {epoch+1}/{EPOCHS} - Average Loss: {avg_loss:.4f} - R² Score: {r2:.4f}\")\n",
    "\n",
    "\n",
    "# 7. Evaluation on Test Set\n",
    "model.eval()\n",
    "all_preds = []\n",
    "all_targets = []\n",
    "\n",
    "with torch.no_grad():\n",
    "    for X_batch, y_batch in tqdm(test_dataloader, desc=\"Evaluating on Test Set\", unit=\"batch\"):\n",
    "        X_batch, y_batch = X_batch.to(device), y_batch.to(device)\n",
    "        outputs = model(X_batch)\n",
    "        \n",
    "        preds = outputs.cpu().numpy().reshape(-1, 1)\n",
    "        targs = y_batch.cpu().numpy().reshape(-1, 1)\n",
    "        all_preds.append(preds)\n",
    "        all_targets.append(targs)\n",
    "\n",
    "# Aggregate Predictions and Targets\n",
    "all_preds = np.vstack(all_preds)\n",
    "all_targets = np.vstack(all_targets)\n",
    "\n",
    "# Calculate Final Test Metrics\n",
    "mse = mean_squared_error(all_targets, all_preds)\n",
    "r2 = r2_score(all_targets, all_preds)\n",
    "\n",
    "print(\"\\nTraining Complete!\")\n",
    "print(f\"📊 Final Test MSE: {mse:.4f}\")\n",
    "print(f\"📈 Final Test R² Score: {r2:.4f}\")"
   ]
  },
  {
   "cell_type": "code",
   "execution_count": 25,
   "metadata": {},
   "outputs": [
    {
     "data": {
      "text/plain": [
       "0.13149667064208692"
      ]
     },
     "execution_count": 25,
     "metadata": {},
     "output_type": "execute_result"
    }
   ],
   "source": [
    "# pipeline.named_steps['model'].score(X_test_final, y_test_final)"
   ]
  },
  {
   "cell_type": "code",
   "execution_count": 36,
   "metadata": {},
   "outputs": [
    {
     "name": "stderr",
     "output_type": "stream",
     "text": [
      "100%|██████████| 40/40 [01:04<00:00,  1.61s/it]\n"
     ]
    }
   ],
   "source": [
    "import joblib\n",
    "\n",
    "# joblib.dump(model, '../models/MLPRegressor_model.pkl')\n",
    "# joblib.dump(scaler, '../models/scaler.pkl')\n",
    "# print(\"✅ Model and Scaler Saved!\")\n",
    "# model = joblib.load('../models/MLPRegressor_model.pkl')\n",
    "# scaler = joblib.load('../models/scaler.pkl')\n",
    "\n",
    "r2_scores = []\n",
    "for i in tqdm(range(1,len(X_files)+1)):\n",
    "    # Example Test Batch\n",
    "    X_test = pl.read_parquet(f'../processed_data/features/X_batch_{i}.parquet').to_pandas()\n",
    "    y_test = pl.read_parquet(f'../processed_data/lables/y_batch_{i}.parquet').to_pandas().squeeze()\n",
    "\n",
    "    # Scale Test Data\n",
    "    X_test = scaler.transform(X_test)\n",
    "\n",
    "    # Predict\n",
    "    y_pred = model.predict(X_test)\n",
    "\n",
    "    # Evaluate\n",
    "    from sklearn.metrics import mean_squared_error, r2_score\n",
    "\n",
    "    mse = mean_squared_error(y_test, y_pred)\n",
    "    r2 = r2_score(y_test, y_pred)\n",
    "    r2_scores.append(r2)"
   ]
  },
  {
   "cell_type": "code",
   "execution_count": 40,
   "metadata": {},
   "outputs": [
    {
     "data": {
      "image/png": "[encoded data removed]",
      "text/plain": [
       "<Figure size 640x480 with 1 Axes>"
      ]
     },
     "metadata": {},
     "output_type": "display_data"
    }
   ],
   "source": [
    "import matplotlib.pyplot as plt\n",
    "plt.plot(r2_scores[:])\n",
    "plt.xlabel(\"Batch Number\")\n",
    "plt.ylabel(\"R² Score\")\n",
    "plt.title(\"R² Score per Batch\")\n",
    "plt.show()"
   ]
  },
  {
   "cell_type": "code",
   "execution_count": null,
   "metadata": {},
   "outputs": [],
   "source": []
  }
 ],
 "metadata": {
  "kernelspec": {
   "display_name": "nlp",
   "language": "python",
   "name": "python3"
  },
  "language_info": {
   "codemirror_mode": {
    "name": "ipython",
    "version": 3
   },
   "file_extension": ".py",
   "mimetype": "text/x-python",
   "name": "python",
   "nbconvert_exporter": "python",
   "pygments_lexer": "ipython3",
   "version": "3.9.21"
  }
 },
 "nbformat": 4,
 "nbformat_minor": 2
}
