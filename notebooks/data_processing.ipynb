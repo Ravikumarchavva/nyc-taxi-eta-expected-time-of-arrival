{
 "cells": [
  {
   "cell_type": "code",
   "execution_count": 1,
   "metadata": {},
   "outputs": [],
   "source": [
    "import polars as pl\n",
    "import sys\n",
    "\n",
    "sys.path.append(\"..\")\n",
    "\n",
    "from components.data_ingestion import DataIngestion\n",
    "from components.data_preprocessing import DataPreprocessing\n",
    "from components.data_validation import DataValidation\n",
    "\n",
    "from configs.data_configs import RAW_FILE_LIST, PROCESSED_DATA_DIR\n",
    "\n",
    "# Create an instance of the DataIngestion class\n",
    "data_ingestor = DataIngestion(RAW_FILE_LIST)\n",
    "\n",
    "# total number of rows in the dataset\n",
    "total_rows, total_batches = data_ingestor.get_dataset_stats()\n",
    "\n",
    "print(f\"Total number of rows in the dataset: {total_rows}\")\n",
    "print(f\"Total number of files in the dataset: {total_batches}\")"
   ]
  },
  {
   "cell_type": "code",
   "execution_count": 2,
   "metadata": {},
   "outputs": [
    {
     "name": "stdout",
     "output_type": "stream",
     "text": [
      "Memory usage before: 0.06 MB\n",
      "Memory usage after: 0.04 MB\n"
     ]
    },
    {
     "data": {
      "text/html": [
       "<div><style>\n",
       ".dataframe > thead > tr,\n",
       ".dataframe > tbody > tr {\n",
       "  text-align: right;\n",
       "  white-space: pre-wrap;\n",
       "}\n",
       "</style>\n",
       "<small>shape: (5, 15)</small><table border=\"1\" class=\"dataframe\"><thead><tr><th>datetime</th><th>temp</th><th>feelslike</th><th>dew</th><th>humidity</th><th>precip</th><th>precipprob</th><th>snow</th><th>snowdepth</th><th>windspeed</th><th>winddir</th><th>sealevelpressure</th><th>cloudcover</th><th>visibility</th><th>uvindex</th></tr><tr><td>date</td><td>f32</td><td>f32</td><td>f32</td><td>f32</td><td>f32</td><td>i32</td><td>f32</td><td>f32</td><td>f32</td><td>f32</td><td>f32</td><td>f32</td><td>f32</td><td>i32</td></tr></thead><tbody><tr><td>2021-01-01</td><td>2.5</td><td>-0.2</td><td>-3.0</td><td>67.800003</td><td>15.33</td><td>100</td><td>0.0</td><td>0.0</td><td>15.5</td><td>69.800003</td><td>1028.900024</td><td>50.599998</td><td>14.0</td><td>3</td></tr><tr><td>2021-01-02</td><td>5.8</td><td>3.6</td><td>1.2</td><td>74.0</td><td>2.38</td><td>100</td><td>1.9</td><td>0.6</td><td>25.5</td><td>246.899994</td><td>1012.400024</td><td>63.900002</td><td>12.2</td><td>5</td></tr><tr><td>2021-01-03</td><td>2.5</td><td>-1.6</td><td>-0.5</td><td>80.699997</td><td>5.09</td><td>100</td><td>1.2</td><td>1.7</td><td>24.1</td><td>66.400002</td><td>1017.0</td><td>81.5</td><td>13.2</td><td>1</td></tr><tr><td>2021-01-04</td><td>3.6</td><td>1.1</td><td>-0.2</td><td>76.599998</td><td>0.84</td><td>100</td><td>0.5</td><td>0.7</td><td>17.299999</td><td>141.100006</td><td>1014.599976</td><td>89.300003</td><td>15.6</td><td>4</td></tr><tr><td>2021-01-05</td><td>3.8</td><td>1.3</td><td>-1.5</td><td>68.699997</td><td>0.0</td><td>0</td><td>0.0</td><td>0.1</td><td>15.2</td><td>124.400002</td><td>1013.099976</td><td>98.800003</td><td>16.0</td><td>2</td></tr></tbody></table></div>"
      ],
      "text/plain": [
       "shape: (5, 15)\n",
       "┌────────────┬──────┬───────────┬──────┬───┬──────────────────┬────────────┬────────────┬─────────┐\n",
       "│ datetime   ┆ temp ┆ feelslike ┆ dew  ┆ … ┆ sealevelpressure ┆ cloudcover ┆ visibility ┆ uvindex │\n",
       "│ ---        ┆ ---  ┆ ---       ┆ ---  ┆   ┆ ---              ┆ ---        ┆ ---        ┆ ---     │\n",
       "│ date       ┆ f32  ┆ f32       ┆ f32  ┆   ┆ f32              ┆ f32        ┆ f32        ┆ i32     │\n",
       "╞════════════╪══════╪═══════════╪══════╪═══╪══════════════════╪════════════╪════════════╪═════════╡\n",
       "│ 2021-01-01 ┆ 2.5  ┆ -0.2      ┆ -3.0 ┆ … ┆ 1028.900024      ┆ 50.599998  ┆ 14.0       ┆ 3       │\n",
       "│ 2021-01-02 ┆ 5.8  ┆ 3.6       ┆ 1.2  ┆ … ┆ 1012.400024      ┆ 63.900002  ┆ 12.2       ┆ 5       │\n",
       "│ 2021-01-03 ┆ 2.5  ┆ -1.6      ┆ -0.5 ┆ … ┆ 1017.0           ┆ 81.5       ┆ 13.2       ┆ 1       │\n",
       "│ 2021-01-04 ┆ 3.6  ┆ 1.1       ┆ -0.2 ┆ … ┆ 1014.599976      ┆ 89.300003  ┆ 15.6       ┆ 4       │\n",
       "│ 2021-01-05 ┆ 3.8  ┆ 1.3       ┆ -1.5 ┆ … ┆ 1013.099976      ┆ 98.800003  ┆ 16.0       ┆ 2       │\n",
       "└────────────┴──────┴───────────┴──────┴───┴──────────────────┴────────────┴────────────┴─────────┘"
      ]
     },
     "execution_count": 2,
     "metadata": {},
     "output_type": "execute_result"
    }
   ],
   "source": [
    "from utils.data_utils import Preprocess\n",
    "nyc = pl.read_csv(\"../data/raw_data/nyc 2021-01-01 to 2021-12-31.csv\").pipe(Preprocess.reduce_memory_usage)\n",
    "nyc = nyc.drop(['preciptype','severerisk', 'name', 'address', 'resolvedAddress', 'windgust'])\n",
    "nyc = nyc.with_columns(nyc['datetime'].cast(pl.Date))\n",
    "nyc.head()"
   ]
  },
  {
   "cell_type": "code",
   "execution_count": 3,
   "metadata": {},
   "outputs": [
    {
     "data": {
      "application/vnd.jupyter.widget-view+json": {
       "model_id": "c30d60d071fa4b61a88bdffa7bd8116f",
       "version_major": 2,
       "version_minor": 0
      },
      "text/plain": [
       "Processing Files:   0%|          | 0/12 [00:00<?, ?file/s]"
      ]
     },
     "metadata": {},
     "output_type": "display_data"
    },
    {
     "name": "stdout",
     "output_type": "stream",
     "text": [
      "Data Processing Completed!\n"
     ]
    }
   ],
   "source": [
    "data_preprocessor = DataPreprocessing(data_ingestor, nyc, total_batches)\n",
    "data_preprocessor.preprocess_data()"
   ]
  },
  {
   "cell_type": "code",
   "execution_count": 2,
   "metadata": {},
   "outputs": [
    {
     "data": {
      "application/vnd.jupyter.widget-view+json": {
       "model_id": "9da256a5274d45eea8fdbe157ae56149",
       "version_major": 2,
       "version_minor": 0
      },
      "text/plain": [
       "Validating data files:   0%|          | 0/12 [00:00<?, ?it/s]"
      ]
     },
     "metadata": {},
     "output_type": "display_data"
    },
    {
     "ename": "AttributeError",
     "evalue": "'DataFrame' object has no attribute 'any'",
     "output_type": "error",
     "traceback": [
      "\u001b[1;31m---------------------------------------------------------------------------\u001b[0m",
      "\u001b[1;31mAttributeError\u001b[0m                            Traceback (most recent call last)",
      "Cell \u001b[1;32mIn[2], line 2\u001b[0m\n\u001b[0;32m      1\u001b[0m data_validator \u001b[38;5;241m=\u001b[39m DataValidation(PROCESSED_DATA_DIR) \n\u001b[1;32m----> 2\u001b[0m \u001b[43mdata_validator\u001b[49m\u001b[38;5;241;43m.\u001b[39;49m\u001b[43mvalidate_data\u001b[49m\u001b[43m(\u001b[49m\u001b[43m)\u001b[49m\n",
      "File \u001b[1;32md:\\github\\uber-time-estimation\\notebooks\\..\\components\\data_validation.py:68\u001b[0m, in \u001b[0;36mDataValidation.validate_data\u001b[1;34m(self)\u001b[0m\n\u001b[0;32m     65\u001b[0m data \u001b[38;5;241m=\u001b[39m pl\u001b[38;5;241m.\u001b[39mread_parquet(file_path)\n\u001b[0;32m     67\u001b[0m \u001b[38;5;66;03m# Perform validation checks\u001b[39;00m\n\u001b[1;32m---> 68\u001b[0m \u001b[38;5;28;43mself\u001b[39;49m\u001b[38;5;241;43m.\u001b[39;49m\u001b[43mvalidate_missing_values\u001b[49m\u001b[43m(\u001b[49m\u001b[43mdata\u001b[49m\u001b[43m)\u001b[49m\n\u001b[0;32m     69\u001b[0m \u001b[38;5;28mself\u001b[39m\u001b[38;5;241m.\u001b[39mvalidate_data_types(data)\n\u001b[0;32m     71\u001b[0m \u001b[38;5;66;03m# Prepare features and labels\u001b[39;00m\n",
      "File \u001b[1;32md:\\github\\uber-time-estimation\\notebooks\\..\\components\\data_validation.py:34\u001b[0m, in \u001b[0;36mDataValidation.validate_missing_values\u001b[1;34m(data)\u001b[0m\n\u001b[0;32m     30\u001b[0m \u001b[38;5;250m\u001b[39m\u001b[38;5;124;03m\"\"\"\u001b[39;00m\n\u001b[0;32m     31\u001b[0m \u001b[38;5;124;03mValidate if there are any missing values in the dataset.\u001b[39;00m\n\u001b[0;32m     32\u001b[0m \u001b[38;5;124;03m\"\"\"\u001b[39;00m\n\u001b[0;32m     33\u001b[0m missing \u001b[38;5;241m=\u001b[39m data\u001b[38;5;241m.\u001b[39mnull_count()\n\u001b[1;32m---> 34\u001b[0m \u001b[38;5;28;01mif\u001b[39;00m \u001b[43mmissing\u001b[49m\u001b[38;5;241;43m.\u001b[39;49m\u001b[43many\u001b[49m():\n\u001b[0;32m     35\u001b[0m     \u001b[38;5;28mprint\u001b[39m(\u001b[38;5;124mf\u001b[39m\u001b[38;5;124m\"\u001b[39m\u001b[38;5;124mWarning: Missing values detected in columns: \u001b[39m\u001b[38;5;132;01m{\u001b[39;00mmissing[missing\u001b[38;5;250m \u001b[39m\u001b[38;5;241m>\u001b[39m\u001b[38;5;250m \u001b[39m\u001b[38;5;241m0\u001b[39m]\u001b[38;5;132;01m}\u001b[39;00m\u001b[38;5;124m\"\u001b[39m)\n",
      "\u001b[1;31mAttributeError\u001b[0m: 'DataFrame' object has no attribute 'any'"
     ]
    }
   ],
   "source": [
    "data_validator = DataValidation(PROCESSED_DATA_DIR) \n",
    "data_validator.validate_data()"
   ]
  },
  {
   "cell_type": "code",
   "execution_count": null,
   "metadata": {},
   "outputs": [],
   "source": [
    "pl.read_csv(f'{PROCESSED_DATA_DIR}/trip-')"
   ]
  }
 ],
 "metadata": {
  "kernelspec": {
   "display_name": "eda",
   "language": "python",
   "name": "python3"
  },
  "language_info": {
   "codemirror_mode": {
    "name": "ipython",
    "version": 3
   },
   "file_extension": ".py",
   "mimetype": "text/x-python",
   "name": "python",
   "nbconvert_exporter": "python",
   "pygments_lexer": "ipython3",
   "version": "3.8.19"
  }
 },
 "nbformat": 4,
 "nbformat_minor": 2
}
