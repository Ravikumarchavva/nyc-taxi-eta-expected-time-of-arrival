{
 "cells": [
  {
   "cell_type": "code",
   "execution_count": null,
   "id": "10b30965",
   "metadata": {},
   "outputs": [
    {
     "name": "stderr",
     "output_type": "stream",
     "text": [
      "WARNING: Using incubator modules: jdk.incubator.vector\n",
      "Using Spark's default log4j profile: org/apache/spark/log4j2-defaults.properties\n",
      "Setting default log level to \"WARN\".\n",
      "To adjust logging level use sc.setLogLevel(newLevel). For SparkR, use setLogLevel(newLevel).\n",
      "25/08/02 18:20:08 WARN NativeCodeLoader: Unable to load native-hadoop library for your platform... using builtin-java classes where applicable\n"
     ]
    }
   ],
   "source": [
    "from pyspark.sql import SparkSession\n",
    "\n",
    "spark = SparkSession.builder.appName(\"TrafficAnalysis\").master(\"local[*]\").getOrCreate()"
   ]
  },
  {
   "cell_type": "code",
   "execution_count": null,
   "id": "eba7efaa",
   "metadata": {},
   "outputs": [
    {
     "name": "stderr",
     "output_type": "stream",
     "text": [
      "                                                                                \r"
     ]
    }
   ],
   "source": [
    "from nyc_taxi_eta_expected_time_of_arrival.configs.settings import DATA_DIR\n",
    "\n",
    "traffic_data = spark.read.csv(\n",
    "    f\"{DATA_DIR}/Automated_Traffic_Volume_Counts_20250802.csv\",\n",
    "    header=True,\n",
    "    inferSchema=True,\n",
    ")"
   ]
  },
  {
   "cell_type": "code",
   "execution_count": 4,
   "id": "d435c41c",
   "metadata": {},
   "outputs": [
    {
     "name": "stdout",
     "output_type": "stream",
     "text": [
      "+---------+---------+----+---+---+---+---+---+---------+--------------------+------------+-------+-------+---------+\n",
      "|RequestID|     Boro|  Yr|  M|  D| HH| MM|Vol|SegmentID|             WktGeom|      street| fromSt|   toSt|Direction|\n",
      "+---------+---------+----+---+---+---+---+---+---------+--------------------+------------+-------+-------+---------+\n",
      "|    16787|Manhattan|2014|  3|  2|  0| 45| 21|    37269|POINT (991497.1 2...|RIVERSIDE DR|W 98 ST|W 97 ST|       NB|\n",
      "|    16787|Manhattan|2014|  3|  2|  1|  0|  9|    37269|POINT (991497.1 2...|RIVERSIDE DR|W 98 ST|W 97 ST|       NB|\n",
      "|    16787|Manhattan|2014|  3|  2|  1| 15|  9|    37269|POINT (991497.1 2...|RIVERSIDE DR|W 98 ST|W 97 ST|       NB|\n",
      "|    16787|Manhattan|2014|  3|  2|  1| 30| 13|    37269|POINT (991497.1 2...|RIVERSIDE DR|W 98 ST|W 97 ST|       NB|\n",
      "|    16787|Manhattan|2014|  3|  2|  1| 45|  6|    37269|POINT (991497.1 2...|RIVERSIDE DR|W 98 ST|W 97 ST|       NB|\n",
      "+---------+---------+----+---+---+---+---+---+---------+--------------------+------------+-------+-------+---------+\n",
      "only showing top 5 rows\n"
     ]
    }
   ],
   "source": [
    "traffic_data.show(5)"
   ]
  },
  {
   "cell_type": "code",
   "execution_count": null,
   "id": "c0bf3b15",
   "metadata": {},
   "outputs": [],
   "source": []
  }
 ],
 "metadata": {
  "kernelspec": {
   "display_name": "uber-time-estimation",
   "language": "python",
   "name": "python3"
  },
  "language_info": {
   "codemirror_mode": {
    "name": "ipython",
    "version": 3
   },
   "file_extension": ".py",
   "mimetype": "text/x-python",
   "name": "python",
   "nbconvert_exporter": "python",
   "pygments_lexer": "ipython3",
   "version": "3.12.3"
  }
 },
 "nbformat": 4,
 "nbformat_minor": 5
}
