{
 "cells": [
  {
   "cell_type": "code",
   "execution_count": null,
   "id": "7d53ada9",
   "metadata": {},
   "outputs": [
    {
     "data": {
      "application/vnd.jupyter.widget-view+json": {
       "model_id": "3c204a9da52d475c923fc3821c237a62",
       "version_major": 2,
       "version_minor": 0
      },
      "text/plain": [
       "  0%|          | 0/168 [00:00<?, ?it/s]"
      ]
     },
     "metadata": {},
     "output_type": "display_data"
    }
   ],
   "source": [
    "from nyc_taxi_eta_expected_time_of_arrival.configs.settings import DATA_DIR\n",
    "\n",
    "import glob\n",
    "import re\n",
    "import polars as pl\n",
    "from tqdm.notebook import tqdm\n",
    "\n",
    "TAXI_DATA_DIR = DATA_DIR / \"nyc_tlc_yellow_taxi_data\"\n",
    "\n",
    "yellow_taxi_files = glob.glob(str(TAXI_DATA_DIR / \"*.parquet\"))\n",
    "yellow_taxi_files.sort()\n",
    "\n",
    "# Filter files to include only those from 2011 onwards\n",
    "yellow_taxi_files = [\n",
    "    f for f in yellow_taxi_files\n",
    "    if (match := re.search(r\"(\\d{4})[-_]\", f)) and int(match.group(1)) > 2010\n",
    "]\n",
    "\n",
    "data: list[pl.LazyFrame] = []\n",
    "for file in tqdm(yellow_taxi_files):\n",
    "    try:\n",
    "        df = pl.scan_parquet(file)\n",
    "        data.append(df)\n",
    "    except Exception as e:\n",
    "        print(f\"Error reading {file}: {e}\")"
   ]
  },
  {
   "cell_type": "code",
   "execution_count": 2,
   "id": "dfa697a5",
   "metadata": {},
   "outputs": [
    {
     "data": {
      "application/vnd.jupyter.widget-view+json": {
       "model_id": "9d642dde02354721ae2897612cb13bec",
       "version_major": 2,
       "version_minor": 0
      },
      "text/plain": [
       "Processing LazyFrames:   0%|          | 0/168 [00:00<?, ?file/s]"
      ]
     },
     "metadata": {},
     "output_type": "display_data"
    }
   ],
   "source": [
    "def read_parquet(file: str) -> pl.LazyFrame | None:\n",
    "    \"\"\"Read a Parquet file and return a LazyFrame.\"\"\"\n",
    "    try:\n",
    "        return pl.scan_parquet(file)\n",
    "    except Exception as e:\n",
    "        print(f\"Error reading {file}: {e}\")\n",
    "        return None\n",
    "def process_dataframe(lazy_df: pl.LazyFrame) -> tuple[float, int] | None:\n",
    "    \"\"\"Process a LazyFrame to get estimated size and number of rows.\"\"\"\n",
    "    try:\n",
    "        df = lazy_df.collect()\n",
    "        size = df.estimated_size('gb')\n",
    "        num_rows = df.height\n",
    "        return size, num_rows\n",
    "    except Exception as e:\n",
    "        print(f\"Error processing dataframe: {e}\")\n",
    "        return None\n",
    "\n",
    "\n",
    "rows = 0\n",
    "estimated_size = 0\n",
    "for lazy_df in tqdm(data, desc=\"Processing LazyFrames\", unit=\"file\"):\n",
    "    result = process_dataframe(lazy_df)\n",
    "    if result:\n",
    "        size, num_rows = result\n",
    "        estimated_size += size\n",
    "        rows += num_rows"
   ]
  },
  {
   "cell_type": "code",
   "execution_count": 3,
   "id": "4448a027",
   "metadata": {},
   "outputs": [
    {
     "data": {
      "text/plain": [
       "('1_438_340_823', 175.92419571895152)"
      ]
     },
     "execution_count": 3,
     "metadata": {},
     "output_type": "execute_result"
    }
   ],
   "source": [
    "rows.__format__('_'), estimated_size"
   ]
  },
  {
   "cell_type": "code",
   "execution_count": null,
   "id": "a367312f",
   "metadata": {},
   "outputs": [
    {
     "name": "stderr",
     "output_type": "stream",
     "text": [
      "Reading Parquet Files: 100%|██████████| 168/168 [00:05<00:00, 28.00file/s]\n"
     ]
    },
    {
     "data": {
      "text/html": [
       "<div><style>\n",
       ".dataframe > thead > tr,\n",
       ".dataframe > tbody > tr {\n",
       "  text-align: right;\n",
       "  white-space: pre-wrap;\n",
       "}\n",
       "</style>\n",
       "<small>shape: (1_680, 19)</small><table border=\"1\" class=\"dataframe\"><thead><tr><th>VendorID</th><th>tpep_pickup_datetime</th><th>tpep_dropoff_datetime</th><th>passenger_count</th><th>trip_distance</th><th>RatecodeID</th><th>store_and_fwd_flag</th><th>PULocationID</th><th>DOLocationID</th><th>payment_type</th><th>fare_amount</th><th>extra</th><th>mta_tax</th><th>tip_amount</th><th>tolls_amount</th><th>improvement_surcharge</th><th>total_amount</th><th>congestion_surcharge</th><th>Airport_fee</th></tr><tr><td>i32</td><td>datetime[ns, America/New_York]</td><td>datetime[ns, America/New_York]</td><td>i64</td><td>f64</td><td>i64</td><td>str</td><td>i32</td><td>i32</td><td>i64</td><td>f64</td><td>f64</td><td>f64</td><td>f64</td><td>f64</td><td>f64</td><td>f64</td><td>f64</td><td>f64</td></tr></thead><tbody><tr><td>2</td><td>2010-12-31 19:10:00 EST</td><td>2010-12-31 19:12:00 EST</td><td>4</td><td>0.0</td><td>1</td><td>null</td><td>145</td><td>145</td><td>1</td><td>2.9</td><td>0.5</td><td>0.5</td><td>0.28</td><td>0.0</td><td>0.0</td><td>4.18</td><td>null</td><td>null</td></tr><tr><td>2</td><td>2010-12-31 19:04:00 EST</td><td>2010-12-31 19:13:00 EST</td><td>4</td><td>0.0</td><td>1</td><td>null</td><td>264</td><td>264</td><td>1</td><td>5.7</td><td>0.5</td><td>0.5</td><td>0.24</td><td>0.0</td><td>0.0</td><td>6.94</td><td>null</td><td>null</td></tr><tr><td>2</td><td>2010-12-31 19:14:00 EST</td><td>2010-12-31 19:16:00 EST</td><td>4</td><td>0.0</td><td>1</td><td>null</td><td>264</td><td>264</td><td>1</td><td>2.9</td><td>0.5</td><td>0.5</td><td>1.11</td><td>0.0</td><td>0.0</td><td>5.01</td><td>null</td><td>null</td></tr><tr><td>2</td><td>2010-12-31 19:04:00 EST</td><td>2010-12-31 19:06:00 EST</td><td>5</td><td>0.0</td><td>1</td><td>null</td><td>146</td><td>146</td><td>1</td><td>2.9</td><td>0.5</td><td>0.5</td><td>0.0</td><td>0.0</td><td>0.0</td><td>3.9</td><td>null</td><td>null</td></tr><tr><td>2</td><td>2010-12-31 19:08:00 EST</td><td>2010-12-31 19:08:00 EST</td><td>5</td><td>0.0</td><td>1</td><td>null</td><td>146</td><td>146</td><td>1</td><td>2.5</td><td>0.5</td><td>0.5</td><td>0.11</td><td>0.0</td><td>0.0</td><td>3.61</td><td>null</td><td>null</td></tr><tr><td>&hellip;</td><td>&hellip;</td><td>&hellip;</td><td>&hellip;</td><td>&hellip;</td><td>&hellip;</td><td>&hellip;</td><td>&hellip;</td><td>&hellip;</td><td>&hellip;</td><td>&hellip;</td><td>&hellip;</td><td>&hellip;</td><td>&hellip;</td><td>&hellip;</td><td>&hellip;</td><td>&hellip;</td><td>&hellip;</td><td>&hellip;</td></tr><tr><td>1</td><td>2024-11-30 19:21:17 EST</td><td>2024-11-30 19:37:22 EST</td><td>1</td><td>4.3</td><td>1</td><td>&quot;N&quot;</td><td>249</td><td>141</td><td>1</td><td>20.5</td><td>3.5</td><td>0.5</td><td>5.1</td><td>0.0</td><td>1.0</td><td>30.6</td><td>2.5</td><td>0.0</td></tr><tr><td>2</td><td>2024-11-30 19:04:53 EST</td><td>2024-11-30 19:31:03 EST</td><td>1</td><td>7.66</td><td>1</td><td>&quot;N&quot;</td><td>186</td><td>52</td><td>1</td><td>35.2</td><td>1.0</td><td>0.5</td><td>8.04</td><td>0.0</td><td>1.0</td><td>48.24</td><td>2.5</td><td>0.0</td></tr><tr><td>1</td><td>2024-11-30 19:15:28 EST</td><td>2024-11-30 19:20:13 EST</td><td>1</td><td>0.3</td><td>1</td><td>&quot;N&quot;</td><td>148</td><td>148</td><td>3</td><td>5.8</td><td>3.5</td><td>0.5</td><td>0.0</td><td>0.0</td><td>1.0</td><td>10.8</td><td>2.5</td><td>0.0</td></tr><tr><td>1</td><td>2024-11-30 19:38:54 EST</td><td>2024-11-30 20:03:46 EST</td><td>1</td><td>9.4</td><td>1</td><td>&quot;N&quot;</td><td>234</td><td>244</td><td>1</td><td>39.4</td><td>3.5</td><td>0.5</td><td>0.0</td><td>0.0</td><td>1.0</td><td>44.4</td><td>2.5</td><td>0.0</td></tr><tr><td>2</td><td>2024-11-30 19:00:21 EST</td><td>2024-11-30 19:05:27 EST</td><td>2</td><td>0.72</td><td>1</td><td>&quot;N&quot;</td><td>211</td><td>231</td><td>1</td><td>7.2</td><td>1.0</td><td>0.5</td><td>2.44</td><td>0.0</td><td>1.0</td><td>14.64</td><td>2.5</td><td>0.0</td></tr></tbody></table></div>"
      ],
      "text/plain": [
       "shape: (1_680, 19)\n",
       "┌──────────┬───────────┬───────────┬───────────┬───┬───────────┬───────────┬───────────┬───────────┐\n",
       "│ VendorID ┆ tpep_pick ┆ tpep_drop ┆ passenger ┆ … ┆ improveme ┆ total_amo ┆ congestio ┆ Airport_f │\n",
       "│ ---      ┆ up_dateti ┆ off_datet ┆ _count    ┆   ┆ nt_surcha ┆ unt       ┆ n_surchar ┆ ee        │\n",
       "│ i32      ┆ me        ┆ ime       ┆ ---       ┆   ┆ rge       ┆ ---       ┆ ge        ┆ ---       │\n",
       "│          ┆ ---       ┆ ---       ┆ i64       ┆   ┆ ---       ┆ f64       ┆ ---       ┆ f64       │\n",
       "│          ┆ datetime[ ┆ datetime[ ┆           ┆   ┆ f64       ┆           ┆ f64       ┆           │\n",
       "│          ┆ ns, Ameri ┆ ns, Ameri ┆           ┆   ┆           ┆           ┆           ┆           │\n",
       "│          ┆ ca/New_Yo ┆ ca/New_Yo ┆           ┆   ┆           ┆           ┆           ┆           │\n",
       "│          ┆ rk]       ┆ rk]       ┆           ┆   ┆           ┆           ┆           ┆           │\n",
       "╞══════════╪═══════════╪═══════════╪═══════════╪═══╪═══════════╪═══════════╪═══════════╪═══════════╡\n",
       "│ 2        ┆ 2010-12-3 ┆ 2010-12-3 ┆ 4         ┆ … ┆ 0.0       ┆ 4.18      ┆ null      ┆ null      │\n",
       "│          ┆ 1         ┆ 1         ┆           ┆   ┆           ┆           ┆           ┆           │\n",
       "│          ┆ 19:10:00  ┆ 19:12:00  ┆           ┆   ┆           ┆           ┆           ┆           │\n",
       "│          ┆ EST       ┆ EST       ┆           ┆   ┆           ┆           ┆           ┆           │\n",
       "│ 2        ┆ 2010-12-3 ┆ 2010-12-3 ┆ 4         ┆ … ┆ 0.0       ┆ 6.94      ┆ null      ┆ null      │\n",
       "│          ┆ 1         ┆ 1         ┆           ┆   ┆           ┆           ┆           ┆           │\n",
       "│          ┆ 19:04:00  ┆ 19:13:00  ┆           ┆   ┆           ┆           ┆           ┆           │\n",
       "│          ┆ EST       ┆ EST       ┆           ┆   ┆           ┆           ┆           ┆           │\n",
       "│ 2        ┆ 2010-12-3 ┆ 2010-12-3 ┆ 4         ┆ … ┆ 0.0       ┆ 5.01      ┆ null      ┆ null      │\n",
       "│          ┆ 1         ┆ 1         ┆           ┆   ┆           ┆           ┆           ┆           │\n",
       "│          ┆ 19:14:00  ┆ 19:16:00  ┆           ┆   ┆           ┆           ┆           ┆           │\n",
       "│          ┆ EST       ┆ EST       ┆           ┆   ┆           ┆           ┆           ┆           │\n",
       "│ 2        ┆ 2010-12-3 ┆ 2010-12-3 ┆ 5         ┆ … ┆ 0.0       ┆ 3.9       ┆ null      ┆ null      │\n",
       "│          ┆ 1         ┆ 1         ┆           ┆   ┆           ┆           ┆           ┆           │\n",
       "│          ┆ 19:04:00  ┆ 19:06:00  ┆           ┆   ┆           ┆           ┆           ┆           │\n",
       "│          ┆ EST       ┆ EST       ┆           ┆   ┆           ┆           ┆           ┆           │\n",
       "│ 2        ┆ 2010-12-3 ┆ 2010-12-3 ┆ 5         ┆ … ┆ 0.0       ┆ 3.61      ┆ null      ┆ null      │\n",
       "│          ┆ 1         ┆ 1         ┆           ┆   ┆           ┆           ┆           ┆           │\n",
       "│          ┆ 19:08:00  ┆ 19:08:00  ┆           ┆   ┆           ┆           ┆           ┆           │\n",
       "│          ┆ EST       ┆ EST       ┆           ┆   ┆           ┆           ┆           ┆           │\n",
       "│ …        ┆ …         ┆ …         ┆ …         ┆ … ┆ …         ┆ …         ┆ …         ┆ …         │\n",
       "│ 1        ┆ 2024-11-3 ┆ 2024-11-3 ┆ 1         ┆ … ┆ 1.0       ┆ 30.6      ┆ 2.5       ┆ 0.0       │\n",
       "│          ┆ 0         ┆ 0         ┆           ┆   ┆           ┆           ┆           ┆           │\n",
       "│          ┆ 19:21:17  ┆ 19:37:22  ┆           ┆   ┆           ┆           ┆           ┆           │\n",
       "│          ┆ EST       ┆ EST       ┆           ┆   ┆           ┆           ┆           ┆           │\n",
       "│ 2        ┆ 2024-11-3 ┆ 2024-11-3 ┆ 1         ┆ … ┆ 1.0       ┆ 48.24     ┆ 2.5       ┆ 0.0       │\n",
       "│          ┆ 0         ┆ 0         ┆           ┆   ┆           ┆           ┆           ┆           │\n",
       "│          ┆ 19:04:53  ┆ 19:31:03  ┆           ┆   ┆           ┆           ┆           ┆           │\n",
       "│          ┆ EST       ┆ EST       ┆           ┆   ┆           ┆           ┆           ┆           │\n",
       "│ 1        ┆ 2024-11-3 ┆ 2024-11-3 ┆ 1         ┆ … ┆ 1.0       ┆ 10.8      ┆ 2.5       ┆ 0.0       │\n",
       "│          ┆ 0         ┆ 0         ┆           ┆   ┆           ┆           ┆           ┆           │\n",
       "│          ┆ 19:15:28  ┆ 19:20:13  ┆           ┆   ┆           ┆           ┆           ┆           │\n",
       "│          ┆ EST       ┆ EST       ┆           ┆   ┆           ┆           ┆           ┆           │\n",
       "│ 1        ┆ 2024-11-3 ┆ 2024-11-3 ┆ 1         ┆ … ┆ 1.0       ┆ 44.4      ┆ 2.5       ┆ 0.0       │\n",
       "│          ┆ 0         ┆ 0         ┆           ┆   ┆           ┆           ┆           ┆           │\n",
       "│          ┆ 19:38:54  ┆ 20:03:46  ┆           ┆   ┆           ┆           ┆           ┆           │\n",
       "│          ┆ EST       ┆ EST       ┆           ┆   ┆           ┆           ┆           ┆           │\n",
       "│ 2        ┆ 2024-11-3 ┆ 2024-11-3 ┆ 2         ┆ … ┆ 1.0       ┆ 14.64     ┆ 2.5       ┆ 0.0       │\n",
       "│          ┆ 0         ┆ 0         ┆           ┆   ┆           ┆           ┆           ┆           │\n",
       "│          ┆ 19:00:21  ┆ 19:05:27  ┆           ┆   ┆           ┆           ┆           ┆           │\n",
       "│          ┆ EST       ┆ EST       ┆           ┆   ┆           ┆           ┆           ┆           │\n",
       "└──────────┴───────────┴───────────┴───────────┴───┴───────────┴───────────┴───────────┴───────────┘"
      ]
     },
     "execution_count": 23,
     "metadata": {},
     "output_type": "execute_result"
    }
   ],
   "source": [
    "import polars as pl\n",
    "from tqdm import tqdm\n",
    "\n",
    "sample_dfs_list: list[pl.DataFrame] = []\n",
    "\n",
    "# Define target schema\n",
    "target_schema : dict[str, pl.datatypes] = {\n",
    "    \"VendorID\": pl.Int32,\n",
    "    \"tpep_pickup_datetime\": pl.Datetime(\"ns\", time_zone=\"America/New_York\"),\n",
    "    \"tpep_dropoff_datetime\": pl.Datetime(\"ns\", time_zone=\"America/New_York\"),\n",
    "    \"passenger_count\": pl.Int64,\n",
    "    \"trip_distance\": pl.Float64,\n",
    "    \"RatecodeID\": pl.Int64,\n",
    "    \"store_and_fwd_flag\": pl.String,\n",
    "    \"PULocationID\": pl.Int32,\n",
    "    \"DOLocationID\": pl.Int32,\n",
    "    \"payment_type\": pl.Int64,\n",
    "    \"fare_amount\": pl.Float64,\n",
    "    \"extra\": pl.Float64,\n",
    "    \"mta_tax\": pl.Float64,\n",
    "    \"tip_amount\": pl.Float64,\n",
    "    \"tolls_amount\": pl.Float64,\n",
    "    \"improvement_surcharge\": pl.Float64,\n",
    "    \"total_amount\": pl.Float64,\n",
    "    \"congestion_surcharge\": pl.Float64,\n",
    "    \"Airport_fee\": pl.Float64\n",
    "}\n",
    "\n",
    "for file in tqdm(yellow_taxi_files, desc=\"Reading Parquet Files\", unit=\"file\"):\n",
    "    try:\n",
    "        df = pl.read_parquet(file, n_rows=10)\n",
    "\n",
    "        # Standardize column name if needed\n",
    "        if 'airport_fee' in df.columns and 'Airport_fee' not in df.columns:\n",
    "            df = df.rename({\"airport_fee\": \"Airport_fee\"})\n",
    "\n",
    "        # Cast to target schema\n",
    "        df = df.select([\n",
    "            pl.col(col).cast(dtype).alias(col)\n",
    "            for col, dtype in target_schema.items()\n",
    "            if col in df.columns\n",
    "        ])\n",
    "\n",
    "        sample_dfs_list.append(df)\n",
    "\n",
    "    except Exception as e:\n",
    "        print(f\"Error reading {file}: {e}\")\n",
    "\n",
    "# Concatenate with consistent schema\n",
    "sample_dfs = pl.concat(sample_dfs_list)\n",
    "sample_dfs"
   ]
  },
  {
   "cell_type": "code",
   "execution_count": null,
   "id": "744c56d5",
   "metadata": {},
   "outputs": [],
   "source": []
  }
 ],
 "metadata": {
  "kernelspec": {
   "display_name": ".venv",
   "language": "python",
   "name": "python3"
  },
  "language_info": {
   "codemirror_mode": {
    "name": "ipython",
    "version": 3
   },
   "file_extension": ".py",
   "mimetype": "text/x-python",
   "name": "python",
   "nbconvert_exporter": "python",
   "pygments_lexer": "ipython3",
   "version": "3.12.3"
  }
 },
 "nbformat": 4,
 "nbformat_minor": 5
}
