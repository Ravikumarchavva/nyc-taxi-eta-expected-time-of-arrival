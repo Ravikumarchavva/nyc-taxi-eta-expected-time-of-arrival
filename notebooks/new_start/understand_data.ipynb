{
 "cells": [
  {
   "cell_type": "code",
   "execution_count": 1,
   "id": "7d53ada9",
   "metadata": {},
   "outputs": [
    {
     "data": {
      "text/html": [
       "<div><style>\n",
       ".dataframe > thead > tr,\n",
       ".dataframe > tbody > tr {\n",
       "  text-align: right;\n",
       "  white-space: pre-wrap;\n",
       "}\n",
       "</style>\n",
       "<small>shape: (14_092_413, 18)</small><table border=\"1\" class=\"dataframe\"><thead><tr><th>vendor_name</th><th>Trip_Pickup_DateTime</th><th>Trip_Dropoff_DateTime</th><th>Passenger_Count</th><th>Trip_Distance</th><th>Start_Lon</th><th>Start_Lat</th><th>Rate_Code</th><th>store_and_forward</th><th>End_Lon</th><th>End_Lat</th><th>Payment_Type</th><th>Fare_Amt</th><th>surcharge</th><th>mta_tax</th><th>Tip_Amt</th><th>Tolls_Amt</th><th>Total_Amt</th></tr><tr><td>str</td><td>str</td><td>str</td><td>i64</td><td>f64</td><td>f64</td><td>f64</td><td>f64</td><td>f64</td><td>f64</td><td>f64</td><td>str</td><td>f64</td><td>f64</td><td>f64</td><td>f64</td><td>f64</td><td>f64</td></tr></thead><tbody><tr><td>&quot;VTS&quot;</td><td>&quot;2009-01-04 02:52:00&quot;</td><td>&quot;2009-01-04 03:02:00&quot;</td><td>1</td><td>2.63</td><td>-73.991957</td><td>40.721567</td><td>null</td><td>null</td><td>-73.993803</td><td>40.695922</td><td>&quot;CASH&quot;</td><td>8.9</td><td>0.5</td><td>null</td><td>0.0</td><td>0.0</td><td>9.4</td></tr><tr><td>&quot;VTS&quot;</td><td>&quot;2009-01-04 03:31:00&quot;</td><td>&quot;2009-01-04 03:38:00&quot;</td><td>3</td><td>4.55</td><td>-73.982102</td><td>40.73629</td><td>null</td><td>null</td><td>-73.95585</td><td>40.76803</td><td>&quot;Credit&quot;</td><td>12.1</td><td>0.5</td><td>null</td><td>2.0</td><td>0.0</td><td>14.6</td></tr><tr><td>&quot;VTS&quot;</td><td>&quot;2009-01-03 15:43:00&quot;</td><td>&quot;2009-01-03 15:57:00&quot;</td><td>5</td><td>10.35</td><td>-74.002587</td><td>40.739748</td><td>null</td><td>null</td><td>-73.869983</td><td>40.770225</td><td>&quot;Credit&quot;</td><td>23.7</td><td>0.0</td><td>null</td><td>4.74</td><td>0.0</td><td>28.44</td></tr><tr><td>&quot;DDS&quot;</td><td>&quot;2009-01-01 20:52:58&quot;</td><td>&quot;2009-01-01 21:14:00&quot;</td><td>1</td><td>5.0</td><td>-73.974267</td><td>40.790955</td><td>null</td><td>null</td><td>-73.996558</td><td>40.731849</td><td>&quot;CREDIT&quot;</td><td>14.9</td><td>0.5</td><td>null</td><td>3.05</td><td>0.0</td><td>18.45</td></tr><tr><td>&quot;DDS&quot;</td><td>&quot;2009-01-24 16:18:23&quot;</td><td>&quot;2009-01-24 16:24:56&quot;</td><td>1</td><td>0.4</td><td>-74.00158</td><td>40.719382</td><td>null</td><td>null</td><td>-74.008378</td><td>40.72035</td><td>&quot;CASH&quot;</td><td>3.7</td><td>0.0</td><td>null</td><td>0.0</td><td>0.0</td><td>3.7</td></tr><tr><td>&hellip;</td><td>&hellip;</td><td>&hellip;</td><td>&hellip;</td><td>&hellip;</td><td>&hellip;</td><td>&hellip;</td><td>&hellip;</td><td>&hellip;</td><td>&hellip;</td><td>&hellip;</td><td>&hellip;</td><td>&hellip;</td><td>&hellip;</td><td>&hellip;</td><td>&hellip;</td><td>&hellip;</td><td>&hellip;</td></tr><tr><td>&quot;VTS&quot;</td><td>&quot;2009-01-27 14:36:00&quot;</td><td>&quot;2009-01-27 14:46:00&quot;</td><td>5</td><td>0.89</td><td>-73.982013</td><td>40.74333</td><td>null</td><td>null</td><td>-73.994328</td><td>40.75013</td><td>&quot;CASH&quot;</td><td>6.5</td><td>0.0</td><td>null</td><td>0.0</td><td>0.0</td><td>6.5</td></tr><tr><td>&quot;VTS&quot;</td><td>&quot;2009-01-27 13:56:00&quot;</td><td>&quot;2009-01-27 14:02:00&quot;</td><td>1</td><td>1.94</td><td>-73.972788</td><td>40.761988</td><td>null</td><td>null</td><td>-73.951477</td><td>40.778217</td><td>&quot;Credit&quot;</td><td>8.1</td><td>0.0</td><td>null</td><td>1.9</td><td>0.0</td><td>10.0</td></tr><tr><td>&quot;CMT&quot;</td><td>&quot;2009-01-23 08:39:44&quot;</td><td>&quot;2009-01-23 09:02:15&quot;</td><td>1</td><td>3.8</td><td>-73.977467</td><td>40.751861</td><td>null</td><td>null</td><td>-74.009913</td><td>40.71347</td><td>&quot;Cash&quot;</td><td>14.5</td><td>0.0</td><td>null</td><td>0.0</td><td>0.0</td><td>14.5</td></tr><tr><td>&quot;VTS&quot;</td><td>&quot;2009-01-24 23:05:00&quot;</td><td>&quot;2009-01-24 23:15:00&quot;</td><td>3</td><td>3.85</td><td>-73.981295</td><td>40.753</td><td>null</td><td>null</td><td>-73.949453</td><td>40.77952</td><td>&quot;CASH&quot;</td><td>10.9</td><td>0.5</td><td>null</td><td>0.0</td><td>0.0</td><td>11.4</td></tr><tr><td>&quot;CMT&quot;</td><td>&quot;2009-01-23 14:39:02&quot;</td><td>&quot;2009-01-23 15:35:15&quot;</td><td>1</td><td>17.3</td><td>0.0</td><td>0.0</td><td>null</td><td>null</td><td>0.0</td><td>0.0</td><td>&quot;Credit&quot;</td><td>45.0</td><td>0.0</td><td>null</td><td>5.0</td><td>0.0</td><td>50.0</td></tr></tbody></table></div>"
      ],
      "text/plain": [
       "shape: (14_092_413, 18)\n",
       "┌────────────┬────────────┬────────────┬───────────┬───┬─────────┬─────────┬───────────┬───────────┐\n",
       "│ vendor_nam ┆ Trip_Picku ┆ Trip_Dropo ┆ Passenger ┆ … ┆ mta_tax ┆ Tip_Amt ┆ Tolls_Amt ┆ Total_Amt │\n",
       "│ e          ┆ p_DateTime ┆ ff_DateTim ┆ _Count    ┆   ┆ ---     ┆ ---     ┆ ---       ┆ ---       │\n",
       "│ ---        ┆ ---        ┆ e          ┆ ---       ┆   ┆ f64     ┆ f64     ┆ f64       ┆ f64       │\n",
       "│ str        ┆ str        ┆ ---        ┆ i64       ┆   ┆         ┆         ┆           ┆           │\n",
       "│            ┆            ┆ str        ┆           ┆   ┆         ┆         ┆           ┆           │\n",
       "╞════════════╪════════════╪════════════╪═══════════╪═══╪═════════╪═════════╪═══════════╪═══════════╡\n",
       "│ VTS        ┆ 2009-01-04 ┆ 2009-01-04 ┆ 1         ┆ … ┆ null    ┆ 0.0     ┆ 0.0       ┆ 9.4       │\n",
       "│            ┆ 02:52:00   ┆ 03:02:00   ┆           ┆   ┆         ┆         ┆           ┆           │\n",
       "│ VTS        ┆ 2009-01-04 ┆ 2009-01-04 ┆ 3         ┆ … ┆ null    ┆ 2.0     ┆ 0.0       ┆ 14.6      │\n",
       "│            ┆ 03:31:00   ┆ 03:38:00   ┆           ┆   ┆         ┆         ┆           ┆           │\n",
       "│ VTS        ┆ 2009-01-03 ┆ 2009-01-03 ┆ 5         ┆ … ┆ null    ┆ 4.74    ┆ 0.0       ┆ 28.44     │\n",
       "│            ┆ 15:43:00   ┆ 15:57:00   ┆           ┆   ┆         ┆         ┆           ┆           │\n",
       "│ DDS        ┆ 2009-01-01 ┆ 2009-01-01 ┆ 1         ┆ … ┆ null    ┆ 3.05    ┆ 0.0       ┆ 18.45     │\n",
       "│            ┆ 20:52:58   ┆ 21:14:00   ┆           ┆   ┆         ┆         ┆           ┆           │\n",
       "│ DDS        ┆ 2009-01-24 ┆ 2009-01-24 ┆ 1         ┆ … ┆ null    ┆ 0.0     ┆ 0.0       ┆ 3.7       │\n",
       "│            ┆ 16:18:23   ┆ 16:24:56   ┆           ┆   ┆         ┆         ┆           ┆           │\n",
       "│ …          ┆ …          ┆ …          ┆ …         ┆ … ┆ …       ┆ …       ┆ …         ┆ …         │\n",
       "│ VTS        ┆ 2009-01-27 ┆ 2009-01-27 ┆ 5         ┆ … ┆ null    ┆ 0.0     ┆ 0.0       ┆ 6.5       │\n",
       "│            ┆ 14:36:00   ┆ 14:46:00   ┆           ┆   ┆         ┆         ┆           ┆           │\n",
       "│ VTS        ┆ 2009-01-27 ┆ 2009-01-27 ┆ 1         ┆ … ┆ null    ┆ 1.9     ┆ 0.0       ┆ 10.0      │\n",
       "│            ┆ 13:56:00   ┆ 14:02:00   ┆           ┆   ┆         ┆         ┆           ┆           │\n",
       "│ CMT        ┆ 2009-01-23 ┆ 2009-01-23 ┆ 1         ┆ … ┆ null    ┆ 0.0     ┆ 0.0       ┆ 14.5      │\n",
       "│            ┆ 08:39:44   ┆ 09:02:15   ┆           ┆   ┆         ┆         ┆           ┆           │\n",
       "│ VTS        ┆ 2009-01-24 ┆ 2009-01-24 ┆ 3         ┆ … ┆ null    ┆ 0.0     ┆ 0.0       ┆ 11.4      │\n",
       "│            ┆ 23:05:00   ┆ 23:15:00   ┆           ┆   ┆         ┆         ┆           ┆           │\n",
       "│ CMT        ┆ 2009-01-23 ┆ 2009-01-23 ┆ 1         ┆ … ┆ null    ┆ 5.0     ┆ 0.0       ┆ 50.0      │\n",
       "│            ┆ 14:39:02   ┆ 15:35:15   ┆           ┆   ┆         ┆         ┆           ┆           │\n",
       "└────────────┴────────────┴────────────┴───────────┴───┴─────────┴─────────┴───────────┴───────────┘"
      ]
     },
     "execution_count": 1,
     "metadata": {},
     "output_type": "execute_result"
    }
   ],
   "source": [
    "from nyc_taxi_eta_expected_time_of_arrival.configs.settings import DATA_DIR\n",
    "\n",
    "taxi_data = DATA_DIR / \"nyc_tlc_yellow_taxi_data\"\n",
    "\n",
    "import polars as pl\n",
    "data = pl.read_parquet(taxi_data / \"yellow_tripdata_2009-01.parquet\")\n",
    "data"
   ]
  },
  {
   "cell_type": "code",
   "execution_count": null,
   "id": "76a537cf",
   "metadata": {},
   "outputs": [
    {
     "data": {
      "text/html": [
       "<div><style>\n",
       ".dataframe > thead > tr,\n",
       ".dataframe > tbody > tr {\n",
       "  text-align: right;\n",
       "  white-space: pre-wrap;\n",
       "}\n",
       "</style>\n",
       "<small>shape: (14_092_413, 18)</small><table border=\"1\" class=\"dataframe\"><thead><tr><th>vendor_name</th><th>trip_pickup_datetime</th><th>trip_dropoff_datetime</th><th>passenger_count</th><th>trip_distance</th><th>start_lon</th><th>start_lat</th><th>rate_code</th><th>store_and_forward</th><th>end_lon</th><th>end_lat</th><th>payment_type</th><th>fare_amt</th><th>surcharge</th><th>mta_tax</th><th>tip_amt</th><th>tolls_amt</th><th>total_amt</th></tr><tr><td>str</td><td>str</td><td>str</td><td>i64</td><td>f64</td><td>f64</td><td>f64</td><td>f64</td><td>f64</td><td>f64</td><td>f64</td><td>str</td><td>f64</td><td>f64</td><td>f64</td><td>f64</td><td>f64</td><td>f64</td></tr></thead><tbody><tr><td>&quot;VTS&quot;</td><td>&quot;2009-01-04 02:52:00&quot;</td><td>&quot;2009-01-04 03:02:00&quot;</td><td>1</td><td>2.63</td><td>-73.991957</td><td>40.721567</td><td>null</td><td>null</td><td>-73.993803</td><td>40.695922</td><td>&quot;CASH&quot;</td><td>8.9</td><td>0.5</td><td>null</td><td>0.0</td><td>0.0</td><td>9.4</td></tr><tr><td>&quot;VTS&quot;</td><td>&quot;2009-01-04 03:31:00&quot;</td><td>&quot;2009-01-04 03:38:00&quot;</td><td>3</td><td>4.55</td><td>-73.982102</td><td>40.73629</td><td>null</td><td>null</td><td>-73.95585</td><td>40.76803</td><td>&quot;Credit&quot;</td><td>12.1</td><td>0.5</td><td>null</td><td>2.0</td><td>0.0</td><td>14.6</td></tr><tr><td>&quot;VTS&quot;</td><td>&quot;2009-01-03 15:43:00&quot;</td><td>&quot;2009-01-03 15:57:00&quot;</td><td>5</td><td>10.35</td><td>-74.002587</td><td>40.739748</td><td>null</td><td>null</td><td>-73.869983</td><td>40.770225</td><td>&quot;Credit&quot;</td><td>23.7</td><td>0.0</td><td>null</td><td>4.74</td><td>0.0</td><td>28.44</td></tr><tr><td>&quot;DDS&quot;</td><td>&quot;2009-01-01 20:52:58&quot;</td><td>&quot;2009-01-01 21:14:00&quot;</td><td>1</td><td>5.0</td><td>-73.974267</td><td>40.790955</td><td>null</td><td>null</td><td>-73.996558</td><td>40.731849</td><td>&quot;CREDIT&quot;</td><td>14.9</td><td>0.5</td><td>null</td><td>3.05</td><td>0.0</td><td>18.45</td></tr><tr><td>&quot;DDS&quot;</td><td>&quot;2009-01-24 16:18:23&quot;</td><td>&quot;2009-01-24 16:24:56&quot;</td><td>1</td><td>0.4</td><td>-74.00158</td><td>40.719382</td><td>null</td><td>null</td><td>-74.008378</td><td>40.72035</td><td>&quot;CASH&quot;</td><td>3.7</td><td>0.0</td><td>null</td><td>0.0</td><td>0.0</td><td>3.7</td></tr><tr><td>&hellip;</td><td>&hellip;</td><td>&hellip;</td><td>&hellip;</td><td>&hellip;</td><td>&hellip;</td><td>&hellip;</td><td>&hellip;</td><td>&hellip;</td><td>&hellip;</td><td>&hellip;</td><td>&hellip;</td><td>&hellip;</td><td>&hellip;</td><td>&hellip;</td><td>&hellip;</td><td>&hellip;</td><td>&hellip;</td></tr><tr><td>&quot;VTS&quot;</td><td>&quot;2009-01-27 14:36:00&quot;</td><td>&quot;2009-01-27 14:46:00&quot;</td><td>5</td><td>0.89</td><td>-73.982013</td><td>40.74333</td><td>null</td><td>null</td><td>-73.994328</td><td>40.75013</td><td>&quot;CASH&quot;</td><td>6.5</td><td>0.0</td><td>null</td><td>0.0</td><td>0.0</td><td>6.5</td></tr><tr><td>&quot;VTS&quot;</td><td>&quot;2009-01-27 13:56:00&quot;</td><td>&quot;2009-01-27 14:02:00&quot;</td><td>1</td><td>1.94</td><td>-73.972788</td><td>40.761988</td><td>null</td><td>null</td><td>-73.951477</td><td>40.778217</td><td>&quot;Credit&quot;</td><td>8.1</td><td>0.0</td><td>null</td><td>1.9</td><td>0.0</td><td>10.0</td></tr><tr><td>&quot;CMT&quot;</td><td>&quot;2009-01-23 08:39:44&quot;</td><td>&quot;2009-01-23 09:02:15&quot;</td><td>1</td><td>3.8</td><td>-73.977467</td><td>40.751861</td><td>null</td><td>null</td><td>-74.009913</td><td>40.71347</td><td>&quot;Cash&quot;</td><td>14.5</td><td>0.0</td><td>null</td><td>0.0</td><td>0.0</td><td>14.5</td></tr><tr><td>&quot;VTS&quot;</td><td>&quot;2009-01-24 23:05:00&quot;</td><td>&quot;2009-01-24 23:15:00&quot;</td><td>3</td><td>3.85</td><td>-73.981295</td><td>40.753</td><td>null</td><td>null</td><td>-73.949453</td><td>40.77952</td><td>&quot;CASH&quot;</td><td>10.9</td><td>0.5</td><td>null</td><td>0.0</td><td>0.0</td><td>11.4</td></tr><tr><td>&quot;CMT&quot;</td><td>&quot;2009-01-23 14:39:02&quot;</td><td>&quot;2009-01-23 15:35:15&quot;</td><td>1</td><td>17.3</td><td>0.0</td><td>0.0</td><td>null</td><td>null</td><td>0.0</td><td>0.0</td><td>&quot;Credit&quot;</td><td>45.0</td><td>0.0</td><td>null</td><td>5.0</td><td>0.0</td><td>50.0</td></tr></tbody></table></div>"
      ],
      "text/plain": [
       "shape: (14_092_413, 18)\n",
       "┌────────────┬────────────┬────────────┬───────────┬───┬─────────┬─────────┬───────────┬───────────┐\n",
       "│ vendor_nam ┆ trip_picku ┆ trip_dropo ┆ passenger ┆ … ┆ mta_tax ┆ tip_amt ┆ tolls_amt ┆ total_amt │\n",
       "│ e          ┆ p_datetime ┆ ff_datetim ┆ _count    ┆   ┆ ---     ┆ ---     ┆ ---       ┆ ---       │\n",
       "│ ---        ┆ ---        ┆ e          ┆ ---       ┆   ┆ f64     ┆ f64     ┆ f64       ┆ f64       │\n",
       "│ str        ┆ str        ┆ ---        ┆ i64       ┆   ┆         ┆         ┆           ┆           │\n",
       "│            ┆            ┆ str        ┆           ┆   ┆         ┆         ┆           ┆           │\n",
       "╞════════════╪════════════╪════════════╪═══════════╪═══╪═════════╪═════════╪═══════════╪═══════════╡\n",
       "│ VTS        ┆ 2009-01-04 ┆ 2009-01-04 ┆ 1         ┆ … ┆ null    ┆ 0.0     ┆ 0.0       ┆ 9.4       │\n",
       "│            ┆ 02:52:00   ┆ 03:02:00   ┆           ┆   ┆         ┆         ┆           ┆           │\n",
       "│ VTS        ┆ 2009-01-04 ┆ 2009-01-04 ┆ 3         ┆ … ┆ null    ┆ 2.0     ┆ 0.0       ┆ 14.6      │\n",
       "│            ┆ 03:31:00   ┆ 03:38:00   ┆           ┆   ┆         ┆         ┆           ┆           │\n",
       "│ VTS        ┆ 2009-01-03 ┆ 2009-01-03 ┆ 5         ┆ … ┆ null    ┆ 4.74    ┆ 0.0       ┆ 28.44     │\n",
       "│            ┆ 15:43:00   ┆ 15:57:00   ┆           ┆   ┆         ┆         ┆           ┆           │\n",
       "│ DDS        ┆ 2009-01-01 ┆ 2009-01-01 ┆ 1         ┆ … ┆ null    ┆ 3.05    ┆ 0.0       ┆ 18.45     │\n",
       "│            ┆ 20:52:58   ┆ 21:14:00   ┆           ┆   ┆         ┆         ┆           ┆           │\n",
       "│ DDS        ┆ 2009-01-24 ┆ 2009-01-24 ┆ 1         ┆ … ┆ null    ┆ 0.0     ┆ 0.0       ┆ 3.7       │\n",
       "│            ┆ 16:18:23   ┆ 16:24:56   ┆           ┆   ┆         ┆         ┆           ┆           │\n",
       "│ …          ┆ …          ┆ …          ┆ …         ┆ … ┆ …       ┆ …       ┆ …         ┆ …         │\n",
       "│ VTS        ┆ 2009-01-27 ┆ 2009-01-27 ┆ 5         ┆ … ┆ null    ┆ 0.0     ┆ 0.0       ┆ 6.5       │\n",
       "│            ┆ 14:36:00   ┆ 14:46:00   ┆           ┆   ┆         ┆         ┆           ┆           │\n",
       "│ VTS        ┆ 2009-01-27 ┆ 2009-01-27 ┆ 1         ┆ … ┆ null    ┆ 1.9     ┆ 0.0       ┆ 10.0      │\n",
       "│            ┆ 13:56:00   ┆ 14:02:00   ┆           ┆   ┆         ┆         ┆           ┆           │\n",
       "│ CMT        ┆ 2009-01-23 ┆ 2009-01-23 ┆ 1         ┆ … ┆ null    ┆ 0.0     ┆ 0.0       ┆ 14.5      │\n",
       "│            ┆ 08:39:44   ┆ 09:02:15   ┆           ┆   ┆         ┆         ┆           ┆           │\n",
       "│ VTS        ┆ 2009-01-24 ┆ 2009-01-24 ┆ 3         ┆ … ┆ null    ┆ 0.0     ┆ 0.0       ┆ 11.4      │\n",
       "│            ┆ 23:05:00   ┆ 23:15:00   ┆           ┆   ┆         ┆         ┆           ┆           │\n",
       "│ CMT        ┆ 2009-01-23 ┆ 2009-01-23 ┆ 1         ┆ … ┆ null    ┆ 5.0     ┆ 0.0       ┆ 50.0      │\n",
       "│            ┆ 14:39:02   ┆ 15:35:15   ┆           ┆   ┆         ┆         ┆           ┆           │\n",
       "└────────────┴────────────┴────────────┴───────────┴───┴─────────┴─────────┴───────────┴───────────┘"
      ]
     },
     "execution_count": 4,
     "metadata": {},
     "output_type": "execute_result"
    }
   ],
   "source": [
    "data = data.rename(\n",
    "    {\n",
    "        \"vendor_name\": \"vendor_name\",\n",
    "        \"Trip_Pickup_DateTime\": \"trip_pickup_datetime\",\n",
    "        \"Trip_Dropoff_DateTime\": \"trip_dropoff_datetime\",\n",
    "        \"Passenger_Count\": \"passenger_count\",\n",
    "        \"Trip_Distance\": \"trip_distance\",\n",
    "        \"Start_Lon\": \"start_lon\",\n",
    "        \"Start_Lat\": \"start_lat\",\n",
    "        \"Rate_Code\": \"rate_code\",\n",
    "        \"store_and_forward\": \"store_and_forward\",\n",
    "        \"End_Lon\": \"end_lon\",\n",
    "        \"End_Lat\": \"end_lat\",\n",
    "        \"Payment_Type\": \"payment_type\",\n",
    "        \"Fare_Amt\": \"fare_amt\",\n",
    "        \"surcharge\": \"surcharge\",\n",
    "        \"mta_tax\": \"mta_tax\",\n",
    "        \"Tip_Amt\": \"tip_amt\",\n",
    "        \"Tolls_Amt\": \"tolls_amt\",\"Total_Amt\": \"total_amt\",\n",
    "    }\n",
    ")\n",
    "data"
   ]
  },
  {
   "cell_type": "code",
   "execution_count": null,
   "id": "ab97e709",
   "metadata": {},
   "outputs": [],
   "source": []
  }
 ],
 "metadata": {
  "kernelspec": {
   "display_name": ".venv",
   "language": "python",
   "name": "python3"
  },
  "language_info": {
   "codemirror_mode": {
    "name": "ipython",
    "version": 3
   },
   "file_extension": ".py",
   "mimetype": "text/x-python",
   "name": "python",
   "nbconvert_exporter": "python",
   "pygments_lexer": "ipython3",
   "version": "3.12.3"
  }
 },
 "nbformat": 4,
 "nbformat_minor": 5
}
